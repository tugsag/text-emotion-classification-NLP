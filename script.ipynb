{
 "cells": [
  {
   "cell_type": "code",
   "execution_count": 11,
   "metadata": {},
   "outputs": [],
   "source": [
    "import pandas as pd\n",
    "import numpy as np\n",
    "import nltk\n",
    "from nltk.corpus import stopwords\n",
    "from nltk.stem import WordNetLemmatizer\n",
    "from keras.preprocessing.sequence import pad_sequences\n",
    "from keras.preprocessing.text import Tokenizer\n",
    "from sklearn.preprocessing import OneHotEncoder, LabelEncoder\n",
    "import tensorflow as tf"
   ]
  },
  {
   "cell_type": "code",
   "execution_count": 12,
   "metadata": {},
   "outputs": [],
   "source": [
    "# nltk.download('stopwords')\n",
    "# nltk.download('wordnet')\n",
    "# nltk.download('omw-1.4')\n"
   ]
  },
  {
   "cell_type": "code",
   "execution_count": 13,
   "metadata": {},
   "outputs": [
    {
     "data": {
      "text/plain": [
       "(20000, 2)"
      ]
     },
     "execution_count": 13,
     "metadata": {},
     "output_type": "execute_result"
    }
   ],
   "source": [
    "# read data\n",
    "train = pd.read_csv('./data/train.txt', delimiter=';', header=None, names=['data', 'label'])\n",
    "test = pd.read_csv('./data/test.txt', delimiter=';', header=None, names=['data', 'label'])\n",
    "val = pd.read_csv('./data/val.txt', delimiter=';', header=None, names=['data', 'label'])\n",
    "comb_data = pd.concat([train, val, test])\n",
    "comb_data.shape"
   ]
  },
  {
   "cell_type": "code",
   "execution_count": 14,
   "metadata": {},
   "outputs": [
    {
     "data": {
      "text/html": [
       "<div>\n",
       "<style scoped>\n",
       "    .dataframe tbody tr th:only-of-type {\n",
       "        vertical-align: middle;\n",
       "    }\n",
       "\n",
       "    .dataframe tbody tr th {\n",
       "        vertical-align: top;\n",
       "    }\n",
       "\n",
       "    .dataframe thead th {\n",
       "        text-align: right;\n",
       "    }\n",
       "</style>\n",
       "<table border=\"1\" class=\"dataframe\">\n",
       "  <thead>\n",
       "    <tr style=\"text-align: right;\">\n",
       "      <th></th>\n",
       "      <th>data</th>\n",
       "      <th>label</th>\n",
       "      <th>label_enc</th>\n",
       "    </tr>\n",
       "  </thead>\n",
       "  <tbody>\n",
       "    <tr>\n",
       "      <th>0</th>\n",
       "      <td>i didnt feel humiliated</td>\n",
       "      <td>sadness</td>\n",
       "      <td>4</td>\n",
       "    </tr>\n",
       "    <tr>\n",
       "      <th>1</th>\n",
       "      <td>i can go from feeling so hopeless to so damned...</td>\n",
       "      <td>sadness</td>\n",
       "      <td>4</td>\n",
       "    </tr>\n",
       "    <tr>\n",
       "      <th>2</th>\n",
       "      <td>im grabbing a minute to post i feel greedy wrong</td>\n",
       "      <td>anger</td>\n",
       "      <td>0</td>\n",
       "    </tr>\n",
       "    <tr>\n",
       "      <th>3</th>\n",
       "      <td>i am ever feeling nostalgic about the fireplac...</td>\n",
       "      <td>love</td>\n",
       "      <td>3</td>\n",
       "    </tr>\n",
       "    <tr>\n",
       "      <th>4</th>\n",
       "      <td>i am feeling grouchy</td>\n",
       "      <td>anger</td>\n",
       "      <td>0</td>\n",
       "    </tr>\n",
       "  </tbody>\n",
       "</table>\n",
       "</div>"
      ],
      "text/plain": [
       "                                                data    label  label_enc\n",
       "0                            i didnt feel humiliated  sadness          4\n",
       "1  i can go from feeling so hopeless to so damned...  sadness          4\n",
       "2   im grabbing a minute to post i feel greedy wrong    anger          0\n",
       "3  i am ever feeling nostalgic about the fireplac...     love          3\n",
       "4                               i am feeling grouchy    anger          0"
      ]
     },
     "execution_count": 14,
     "metadata": {},
     "output_type": "execute_result"
    }
   ],
   "source": [
    "le = LabelEncoder()\n",
    "comb_data['label_enc'] = le.fit_transform(comb_data['label'])\n",
    "comb_data.head()"
   ]
  },
  {
   "cell_type": "code",
   "execution_count": 15,
   "metadata": {},
   "outputs": [],
   "source": [
    "def tokenize_data(df):\n",
    "    sents = df['data']\n",
    "    tokenizer = nltk.RegexpTokenizer(r'\\w+')\n",
    "    tokens = []\n",
    "    for i in sents:\n",
    "        tokens.append(tokenizer.tokenize(i.lower()))\n",
    "    return tokens\n",
    "tokenized = tokenize_data(comb_data)"
   ]
  },
  {
   "cell_type": "code",
   "execution_count": 16,
   "metadata": {},
   "outputs": [],
   "source": [
    "def remove_stopwords(tokenized):\n",
    "    sw = set(stopwords.words('english'))\n",
    "    sw_removed = []\n",
    "    for sent in tokenized:\n",
    "        filtered = []\n",
    "        for word in sent:\n",
    "            if word not in sw:\n",
    "                filtered.append(word)\n",
    "        sw_removed.append(filtered)\n",
    "    return sw_removed\n",
    "stopwords_removed = remove_stopwords(tokenized)"
   ]
  },
  {
   "cell_type": "code",
   "execution_count": 17,
   "metadata": {},
   "outputs": [],
   "source": [
    "def lemmatize(processed):\n",
    "    lemma = WordNetLemmatizer()\n",
    "    lemmatized = []\n",
    "    for sent in processed:\n",
    "        filtered = []\n",
    "        for word in sent:\n",
    "            filtered.append(lemma.lemmatize(word, pos='v'))\n",
    "        lemmatized.append(filtered)\n",
    "    return lemmatized\n",
    "lemmatized = lemmatize(stopwords_removed)"
   ]
  },
  {
   "cell_type": "code",
   "execution_count": 18,
   "metadata": {},
   "outputs": [],
   "source": [
    "final_data = []\n",
    "# each l is a list of processed words\n",
    "for l in lemmatized:\n",
    "    final_data.append(' '.join(l))\n",
    "d = {'data': final_data, 'label': comb_data['label_enc'], 'label_raw': comb_data['label']}\n",
    "final_df = pd.DataFrame(data=d)"
   ]
  },
  {
   "cell_type": "code",
   "execution_count": 19,
   "metadata": {},
   "outputs": [
    {
     "data": {
      "text/html": [
       "<div>\n",
       "<style scoped>\n",
       "    .dataframe tbody tr th:only-of-type {\n",
       "        vertical-align: middle;\n",
       "    }\n",
       "\n",
       "    .dataframe tbody tr th {\n",
       "        vertical-align: top;\n",
       "    }\n",
       "\n",
       "    .dataframe thead th {\n",
       "        text-align: right;\n",
       "    }\n",
       "</style>\n",
       "<table border=\"1\" class=\"dataframe\">\n",
       "  <thead>\n",
       "    <tr style=\"text-align: right;\">\n",
       "      <th></th>\n",
       "      <th>data</th>\n",
       "      <th>label</th>\n",
       "      <th>label_raw</th>\n",
       "    </tr>\n",
       "  </thead>\n",
       "  <tbody>\n",
       "    <tr>\n",
       "      <th>0</th>\n",
       "      <td>didnt feel humiliate</td>\n",
       "      <td>4</td>\n",
       "      <td>sadness</td>\n",
       "    </tr>\n",
       "    <tr>\n",
       "      <th>1</th>\n",
       "      <td>go feel hopeless damn hopeful around someone c...</td>\n",
       "      <td>4</td>\n",
       "      <td>sadness</td>\n",
       "    </tr>\n",
       "    <tr>\n",
       "      <th>2</th>\n",
       "      <td>im grab minute post feel greedy wrong</td>\n",
       "      <td>0</td>\n",
       "      <td>anger</td>\n",
       "    </tr>\n",
       "    <tr>\n",
       "      <th>3</th>\n",
       "      <td>ever feel nostalgic fireplace know still property</td>\n",
       "      <td>3</td>\n",
       "      <td>love</td>\n",
       "    </tr>\n",
       "    <tr>\n",
       "      <th>4</th>\n",
       "      <td>feel grouchy</td>\n",
       "      <td>0</td>\n",
       "      <td>anger</td>\n",
       "    </tr>\n",
       "  </tbody>\n",
       "</table>\n",
       "</div>"
      ],
      "text/plain": [
       "                                                data  label label_raw\n",
       "0                               didnt feel humiliate      4   sadness\n",
       "1  go feel hopeless damn hopeful around someone c...      4   sadness\n",
       "2              im grab minute post feel greedy wrong      0     anger\n",
       "3  ever feel nostalgic fireplace know still property      3      love\n",
       "4                                       feel grouchy      0     anger"
      ]
     },
     "execution_count": 19,
     "metadata": {},
     "output_type": "execute_result"
    }
   ],
   "source": [
    "final_df.head()"
   ]
  },
  {
   "cell_type": "code",
   "execution_count": 20,
   "metadata": {},
   "outputs": [
    {
     "name": "stdout",
     "output_type": "stream",
     "text": [
      "x:  (16000, 30)\n",
      "(4000, 30)\n",
      "y:  (16000, 6)\n",
      "(4000, 6)\n",
      "13660\n"
     ]
    }
   ],
   "source": [
    "from sklearn.model_selection import train_test_split\n",
    "def prepare_dataset(df, test_size=0.2, seq_len=30, embedding_dim=100):\n",
    "    xtrain, xtest, ytrain, ytest = train_test_split(df['data'], df['label'], test_size=test_size, random_state=42)\n",
    "    tokenizer = Tokenizer()\n",
    "    tokenizer.fit_on_texts(df['data'])\n",
    "    word_inds = tokenizer.word_index\n",
    "    vocab_size = len(word_inds) + 1\n",
    "\n",
    "    ytrain = tf.keras.utils.to_categorical(ytrain, dtype='uint8')\n",
    "    ytest = tf.keras.utils.to_categorical(ytest, dtype='uint8')\n",
    "\n",
    "    xtrain = pad_sequences(tokenizer.texts_to_sequences(xtrain), maxlen=seq_len)\n",
    "    xtest = pad_sequences(tokenizer.texts_to_sequences(xtest), maxlen=seq_len)\n",
    "    print('x: ', xtrain.shape)\n",
    "    print(xtest.shape)\n",
    "    print('y: ', ytrain.shape)\n",
    "    print(ytest.shape)\n",
    "    print(vocab_size)\n",
    "    return xtrain, xtest, ytrain, ytest, vocab_size\n",
    "\n",
    "xtrain, xtest, ytrain, ytest, vocab_size = prepare_dataset(final_df)"
   ]
  },
  {
   "cell_type": "markdown",
   "metadata": {},
   "source": [
    "## CNN classifier"
   ]
  },
  {
   "cell_type": "code",
   "execution_count": 21,
   "metadata": {},
   "outputs": [],
   "source": [
    "from tensorflow.keras.callbacks import ReduceLROnPlateau, EarlyStopping\n",
    "import matplotlib.pyplot as plt\n",
    "from tensorflow.keras.layers import Conv1D, Dense, GlobalMaxPooling1D, MaxPooling1D, Dropout, Embedding, Input, BatchNormalization, GlobalAveragePooling1D\n",
    "from tensorflow.keras.optimizers import Adam\n",
    "import numpy as np\n",
    "from tensorflow.python.ops.gen_batch_ops import batch"
   ]
  },
  {
   "cell_type": "code",
   "execution_count": 22,
   "metadata": {},
   "outputs": [],
   "source": [
    "class CNN:\n",
    "    def __init__(self, vocab_size, batch_size=256, epochs=20, embedding_dim=100, seq_len=30):\n",
    "        self.embedding_dim = embedding_dim\n",
    "        self.batch_size = batch_size\n",
    "        self.epochs = epochs\n",
    "        self.seq_len = seq_len\n",
    "        self.early_stop = EarlyStopping(monitor='val_loss', mode='min', patience=5, verbose=0)\n",
    "        self.reduce_lr = ReduceLROnPlateau(monitor='val_loss', factor=0.1, min_lr=0.000001, verbose=0)\n",
    "        self.model = self.build_model(vocab_size)\n",
    "\n",
    "    def build_model(self, vocab_size):\n",
    "        inputs = Input(shape=(self.seq_len,), dtype=np.int32)\n",
    "        embedding = Embedding(input_dim=vocab_size, output_dim=self.embedding_dim, input_length=self.seq_len, trainable=True)\n",
    "        model = embedding(inputs)\n",
    "        model = Dropout(0.2)(model)\n",
    "\n",
    "        # conv block 1\n",
    "        model = Conv1D(128, 3, activation='relu')(model)\n",
    "        model = Conv1D(128, 3, activation='relu')(model)\n",
    "        model = MaxPooling1D()(model)\n",
    "\n",
    "        # conv block 2\n",
    "        model = Conv1D(64, 3, activation='relu')(model)\n",
    "        model = Conv1D(64, 3, activation='relu')(model)\n",
    "        model = Dropout(0.2)(model)\n",
    "\n",
    "        # conv block 3\n",
    "        model = Conv1D(64, 3, activation='relu')(model)\n",
    "        model = Conv1D(32, 3, activation='relu')(model)\n",
    "        model = GlobalMaxPooling1D()(model)\n",
    "\n",
    "        # FC\n",
    "        model = BatchNormalization()(model)\n",
    "        model = Dense(512, activation='relu')(model)\n",
    "        model = Dense(128, activation='relu')(model)\n",
    "        model = Dropout(0.2)(model)\n",
    "\n",
    "        # output\n",
    "        outputs = Dense(6, activation='softmax')(model)\n",
    "        return tf.keras.Model(inputs, outputs, name='cnn')\n",
    "\n",
    "    def summary(self):\n",
    "        return self.model.summary()\n",
    "\n",
    "    def train(self, xtrain, xtest, ytrain, ytest):\n",
    "        opt = Adam(learning_rate=0.01)\n",
    "        self.model.compile(optimizer=opt, loss='categorical_crossentropy', metrics=['accuracy', 'AUC'])\n",
    "        history = self.model.fit(xtrain, ytrain, batch_size=self.batch_size, epochs=self.epochs, validation_data=(xtest, ytest), callbacks=[self.reduce_lr], verbose=1)\n",
    "        return history\n",
    "\n",
    "    def predict(self, data):\n",
    "        # assume data is already cleaned\n",
    "        return self.model.predict(data)"
   ]
  },
  {
   "cell_type": "code",
   "execution_count": 23,
   "metadata": {},
   "outputs": [
    {
     "name": "stdout",
     "output_type": "stream",
     "text": [
      "Epoch 1/20\n",
      "63/63 [==============================] - 20s 56ms/step - loss: 1.5607 - accuracy: 0.3586 - auc: 0.7264 - val_loss: 4.1716 - val_accuracy: 0.3450 - val_auc: 0.6796\n",
      "Epoch 2/20\n",
      "63/63 [==============================] - 2s 30ms/step - loss: 0.9163 - accuracy: 0.6554 - auc: 0.9157 - val_loss: 2.0137 - val_accuracy: 0.6445 - val_auc: 0.8640\n",
      "Epoch 3/20\n",
      "63/63 [==============================] - 2s 31ms/step - loss: 0.5929 - accuracy: 0.7889 - auc: 0.9643 - val_loss: 1.3378 - val_accuracy: 0.6578 - val_auc: 0.9104\n",
      "Epoch 4/20\n",
      "63/63 [==============================] - 2s 32ms/step - loss: 0.4592 - accuracy: 0.8443 - auc: 0.9775 - val_loss: 1.2110 - val_accuracy: 0.6952 - val_auc: 0.9127\n",
      "Epoch 5/20\n",
      "63/63 [==============================] - 2s 32ms/step - loss: 0.3823 - accuracy: 0.8712 - auc: 0.9835 - val_loss: 0.6931 - val_accuracy: 0.7738 - val_auc: 0.9583\n",
      "Epoch 6/20\n",
      "63/63 [==============================] - 2s 30ms/step - loss: 0.3287 - accuracy: 0.8902 - auc: 0.9871 - val_loss: 0.7845 - val_accuracy: 0.8002 - val_auc: 0.9544\n",
      "Epoch 7/20\n",
      "63/63 [==============================] - 2s 32ms/step - loss: 0.2915 - accuracy: 0.9036 - auc: 0.9898 - val_loss: 0.5464 - val_accuracy: 0.8447 - val_auc: 0.9716\n",
      "Epoch 8/20\n",
      "63/63 [==============================] - 2s 32ms/step - loss: 0.2326 - accuracy: 0.9246 - auc: 0.9929 - val_loss: 0.4767 - val_accuracy: 0.8800 - val_auc: 0.9777\n",
      "Epoch 9/20\n",
      "63/63 [==============================] - 2s 33ms/step - loss: 0.2008 - accuracy: 0.9361 - auc: 0.9946 - val_loss: 0.4840 - val_accuracy: 0.8800 - val_auc: 0.9783\n",
      "Epoch 10/20\n",
      "63/63 [==============================] - 2s 33ms/step - loss: 0.1795 - accuracy: 0.9430 - auc: 0.9956 - val_loss: 0.6186 - val_accuracy: 0.8740 - val_auc: 0.9710\n",
      "Epoch 11/20\n",
      "63/63 [==============================] - 2s 33ms/step - loss: 0.1573 - accuracy: 0.9511 - auc: 0.9963 - val_loss: 0.4882 - val_accuracy: 0.8800 - val_auc: 0.9789\n",
      "Epoch 12/20\n",
      "63/63 [==============================] - 2s 32ms/step - loss: 0.1642 - accuracy: 0.9464 - auc: 0.9962 - val_loss: 0.4965 - val_accuracy: 0.8810 - val_auc: 0.9781\n",
      "Epoch 13/20\n",
      "63/63 [==============================] - 2s 33ms/step - loss: 0.1447 - accuracy: 0.9541 - auc: 0.9967 - val_loss: 0.6193 - val_accuracy: 0.8792 - val_auc: 0.9722\n",
      "Epoch 14/20\n",
      "63/63 [==============================] - 2s 32ms/step - loss: 0.1304 - accuracy: 0.9567 - auc: 0.9974 - val_loss: 0.5480 - val_accuracy: 0.8945 - val_auc: 0.9763\n",
      "Epoch 15/20\n",
      "63/63 [==============================] - 2s 31ms/step - loss: 0.1143 - accuracy: 0.9629 - auc: 0.9979 - val_loss: 0.6037 - val_accuracy: 0.8790 - val_auc: 0.9732\n",
      "Epoch 16/20\n",
      "63/63 [==============================] - 2s 32ms/step - loss: 0.1045 - accuracy: 0.9656 - auc: 0.9982 - val_loss: 0.5944 - val_accuracy: 0.8825 - val_auc: 0.9753\n",
      "Epoch 17/20\n",
      "63/63 [==============================] - 2s 32ms/step - loss: 0.1074 - accuracy: 0.9656 - auc: 0.9976 - val_loss: 0.5600 - val_accuracy: 0.8832 - val_auc: 0.9760\n",
      "Epoch 18/20\n",
      "63/63 [==============================] - 2s 33ms/step - loss: 0.0902 - accuracy: 0.9709 - auc: 0.9982 - val_loss: 0.5545 - val_accuracy: 0.8925 - val_auc: 0.9766\n",
      "Epoch 19/20\n",
      "63/63 [==============================] - 2s 33ms/step - loss: 0.0650 - accuracy: 0.9789 - auc: 0.9992 - val_loss: 0.5524 - val_accuracy: 0.8942 - val_auc: 0.9753\n",
      "Epoch 20/20\n",
      "63/63 [==============================] - 2s 32ms/step - loss: 0.0561 - accuracy: 0.9810 - auc: 0.9994 - val_loss: 0.5520 - val_accuracy: 0.8930 - val_auc: 0.9753\n"
     ]
    }
   ],
   "source": [
    "cnn = CNN(vocab_size)\n",
    "history = cnn.train(xtrain, xtest, ytrain, ytest)"
   ]
  },
  {
   "cell_type": "code",
   "execution_count": 24,
   "metadata": {},
   "outputs": [
    {
     "data": {
      "image/png": "[encoded data removed]",
      "text/plain": [
       "<Figure size 432x288 with 1 Axes>"
      ]
     },
     "metadata": {
      "needs_background": "light"
     },
     "output_type": "display_data"
    },
    {
     "data": {
      "text/plain": [
       "<Figure size 432x288 with 0 Axes>"
      ]
     },
     "metadata": {},
     "output_type": "display_data"
    }
   ],
   "source": [
    "import matplotlib.pyplot as plt\n",
    "def plot_outs(history, name):\n",
    "    plt.plot(history.history[name])\n",
    "    plt.plot(history.history['val_'+name])\n",
    "    plt.title('Training '+name)\n",
    "    plt.ylabel(name)\n",
    "    plt.xlabel('Epoch')\n",
    "    plt.legend(['Train', 'Validation'], loc='upper left')\n",
    "    plt.show()\n",
    "    plt.clf()\n",
    "\n",
    "plot_outs(history, 'accuracy')\n"
   ]
  },
  {
   "cell_type": "code",
   "execution_count": 25,
   "metadata": {},
   "outputs": [
    {
     "data": {
      "image/png": "[encoded data removed]",
      "text/plain": [
       "<Figure size 432x288 with 1 Axes>"
      ]
     },
     "metadata": {
      "needs_background": "light"
     },
     "output_type": "display_data"
    },
    {
     "data": {
      "text/plain": [
       "<Figure size 432x288 with 0 Axes>"
      ]
     },
     "metadata": {},
     "output_type": "display_data"
    }
   ],
   "source": [
    "plot_outs(history, 'auc')"
   ]
  },
  {
   "cell_type": "code",
   "execution_count": 26,
   "metadata": {},
   "outputs": [
    {
     "data": {
      "image/png": "[encoded data removed]",
      "text/plain": [
       "<Figure size 432x288 with 1 Axes>"
      ]
     },
     "metadata": {
      "needs_background": "light"
     },
     "output_type": "display_data"
    },
    {
     "data": {
      "text/plain": [
       "<Figure size 432x288 with 0 Axes>"
      ]
     },
     "metadata": {},
     "output_type": "display_data"
    }
   ],
   "source": [
    "plot_outs(history, 'loss')"
   ]
  },
  {
   "cell_type": "code",
   "execution_count": 27,
   "metadata": {},
   "outputs": [],
   "source": [
    "from tensorflow.keras.layers import LSTM, Bidirectional\n",
    "class RNN:\n",
    "    def __init__(self, vocab_size, batch_size=256, epochs=20, embedding_dim=100, seq_len=30):\n",
    "        self.embedding_dim = embedding_dim\n",
    "        self.batch_size = batch_size\n",
    "        self.epochs = epochs\n",
    "        self.seq_len = seq_len\n",
    "        self.early_stop = EarlyStopping(monitor='val_loss', mode='min', patience=5, verbose=0)\n",
    "        self.reduce_lr = ReduceLROnPlateau(monitor='val_loss', factor=0.1, min_lr=0.000001, verbose=0)\n",
    "        self.model = self.build_model(vocab_size)\n",
    "\n",
    "    def build_model(self, vocab_size):\n",
    "        inputs = Input(shape=(self.seq_len,), dtype=np.int32)\n",
    "        embedding = Embedding(input_dim=vocab_size, output_dim=self.embedding_dim, input_length=self.seq_len, trainable=True)\n",
    "        model = embedding(inputs)\n",
    "        model = Dropout(0.2)(model)\n",
    "\n",
    "        model = Bidirectional(LSTM(4, input_shape=(self.seq_len, 1), return_sequences=True))(model)\n",
    "        model = Dropout(0.2)(model)\n",
    "        model = Bidirectional(LSTM(4, return_sequences=True))(model)\n",
    "        model = Dropout(0.2)(model)\n",
    "        model = Bidirectional(LSTM(4, return_sequences=True))(model)\n",
    "        model = Dropout(0.2)(model)\n",
    "        model = Bidirectional(LSTM(4))(model)\n",
    "        outputs = Dense(6, activation='softmax')(model)\n",
    "        return tf.keras.Model(inputs, outputs)\n",
    "\n",
    "    def summary(self):\n",
    "        return self.model.summary()\n",
    "\n",
    "    def train(self, xtrain, xtest, ytrain, ytest):\n",
    "        opt = Adam(learning_rate=0.01)\n",
    "        self.model.compile(optimizer=opt, loss='categorical_crossentropy', metrics=['accuracy', 'AUC'])\n",
    "        history = self.model.fit(xtrain, ytrain, batch_size=self.batch_size, epochs=self.epochs, validation_data=(xtest, ytest), callbacks=[self.reduce_lr])\n",
    "        return history\n",
    "\n",
    "    def predict(self, data):\n",
    "        return self.model.predict(data)\n"
   ]
  },
  {
   "cell_type": "code",
   "execution_count": 28,
   "metadata": {},
   "outputs": [
    {
     "name": "stdout",
     "output_type": "stream",
     "text": [
      "Epoch 1/20\n",
      "63/63 [==============================] - 39s 197ms/step - loss: 1.4465 - accuracy: 0.4756 - auc: 0.7715 - val_loss: 1.2808 - val_accuracy: 0.5610 - val_auc: 0.82516\n",
      "Epoch 2/20\n",
      "63/63 [==============================] - 7s 108ms/step - loss: 1.1346 - accuracy: 0.5886 - auc: 0.8659 - val_loss: 1.0582 - val_accuracy: 0.6100 - val_auc: 0.8853\n",
      "Epoch 3/20\n",
      "63/63 [==============================] - 7s 107ms/step - loss: 0.8475 - accuracy: 0.7020 - auc: 0.9270 - val_loss: 0.7722 - val_accuracy: 0.7682 - val_auc: 0.9352\n",
      "Epoch 4/20\n",
      "63/63 [==============================] - 7s 107ms/step - loss: 0.6498 - accuracy: 0.7941 - auc: 0.9543 - val_loss: 0.7524 - val_accuracy: 0.7745 - val_auc: 0.9380\n",
      "Epoch 5/20\n",
      "63/63 [==============================] - 7s 107ms/step - loss: 0.5668 - accuracy: 0.8170 - auc: 0.9652 - val_loss: 0.6865 - val_accuracy: 0.7865 - val_auc: 0.9494\n",
      "Epoch 6/20\n",
      "63/63 [==============================] - 7s 109ms/step - loss: 0.4672 - accuracy: 0.8486 - auc: 0.9766 - val_loss: 0.6693 - val_accuracy: 0.7950 - val_auc: 0.9535\n",
      "Epoch 7/20\n",
      "63/63 [==============================] - 7s 109ms/step - loss: 0.3888 - accuracy: 0.8791 - auc: 0.9829 - val_loss: 0.6113 - val_accuracy: 0.8235 - val_auc: 0.9596\n",
      "Epoch 8/20\n",
      "63/63 [==============================] - 7s 107ms/step - loss: 0.3112 - accuracy: 0.9075 - auc: 0.9871 - val_loss: 0.5790 - val_accuracy: 0.8280 - val_auc: 0.9629\n",
      "Epoch 9/20\n",
      "63/63 [==============================] - 7s 108ms/step - loss: 0.2677 - accuracy: 0.9227 - auc: 0.9896 - val_loss: 0.5986 - val_accuracy: 0.8365 - val_auc: 0.9610\n",
      "Epoch 10/20\n",
      "63/63 [==============================] - 7s 108ms/step - loss: 0.2219 - accuracy: 0.9376 - auc: 0.9923 - val_loss: 0.5605 - val_accuracy: 0.8425 - val_auc: 0.9660\n",
      "Epoch 11/20\n",
      "63/63 [==============================] - 7s 109ms/step - loss: 0.2035 - accuracy: 0.9438 - auc: 0.9930 - val_loss: 0.5802 - val_accuracy: 0.8422 - val_auc: 0.9663 loss: 0.1908 - accuracy: 0. - E\n",
      "Epoch 12/20\n",
      "63/63 [==============================] - 7s 108ms/step - loss: 0.1760 - accuracy: 0.9497 - auc: 0.9948 - val_loss: 0.5650 - val_accuracy: 0.8515 - val_auc: 0.9669\n",
      "Epoch 13/20\n",
      "63/63 [==============================] - 7s 109ms/step - loss: 0.1527 - accuracy: 0.9556 - auc: 0.9955 - val_loss: 0.5713 - val_accuracy: 0.8487 - val_auc: 0.9665\n",
      "Epoch 14/20\n",
      "63/63 [==============================] - 7s 108ms/step - loss: 0.1417 - accuracy: 0.9588 - auc: 0.9962 - val_loss: 0.5345 - val_accuracy: 0.8580 - val_auc: 0.9718\n",
      "Epoch 15/20\n",
      "63/63 [==============================] - 7s 107ms/step - loss: 0.1483 - accuracy: 0.9562 - auc: 0.9961 - val_loss: 0.6061 - val_accuracy: 0.8420 - val_auc: 0.9641\n",
      "Epoch 16/20\n",
      "63/63 [==============================] - 7s 107ms/step - loss: 0.1321 - accuracy: 0.9616 - auc: 0.9966 - val_loss: 0.5297 - val_accuracy: 0.8583 - val_auc: 0.9714\n",
      "Epoch 17/20\n",
      "63/63 [==============================] - 7s 107ms/step - loss: 0.1174 - accuracy: 0.9645 - auc: 0.9971 - val_loss: 0.5683 - val_accuracy: 0.8587 - val_auc: 0.9678\n",
      "Epoch 18/20\n",
      "63/63 [==============================] - 7s 106ms/step - loss: 0.1024 - accuracy: 0.9698 - auc: 0.9978 - val_loss: 0.5961 - val_accuracy: 0.8528 - val_auc: 0.9646\n",
      "Epoch 19/20\n",
      "63/63 [==============================] - 7s 107ms/step - loss: 0.0932 - accuracy: 0.9734 - auc: 0.9978 - val_loss: 0.5728 - val_accuracy: 0.8640 - val_auc: 0.9671\n",
      "Epoch 20/20\n",
      "63/63 [==============================] - 7s 106ms/step - loss: 0.0795 - accuracy: 0.9753 - auc: 0.9983 - val_loss: 0.6063 - val_accuracy: 0.8540 - val_auc: 0.9643\n"
     ]
    }
   ],
   "source": [
    "lstm = RNN(vocab_size)\n",
    "history_lstm = lstm.train(xtrain, xtest, ytrain, ytest)"
   ]
  },
  {
   "cell_type": "code",
   "execution_count": 29,
   "metadata": {},
   "outputs": [
    {
     "data": {
      "image/png": "[encoded data removed]",
      "text/plain": [
       "<Figure size 432x288 with 1 Axes>"
      ]
     },
     "metadata": {
      "needs_background": "light"
     },
     "output_type": "display_data"
    },
    {
     "data": {
      "text/plain": [
       "<Figure size 432x288 with 0 Axes>"
      ]
     },
     "metadata": {},
     "output_type": "display_data"
    }
   ],
   "source": [
    "plot_outs(history_lstm, 'accuracy')"
   ]
  },
  {
   "cell_type": "code",
   "execution_count": 30,
   "metadata": {},
   "outputs": [
    {
     "data": {
      "image/png": "[encoded data removed]",
      "text/plain": [
       "<Figure size 432x288 with 1 Axes>"
      ]
     },
     "metadata": {
      "needs_background": "light"
     },
     "output_type": "display_data"
    },
    {
     "data": {
      "text/plain": [
       "<Figure size 432x288 with 0 Axes>"
      ]
     },
     "metadata": {},
     "output_type": "display_data"
    }
   ],
   "source": [
    "plot_outs(history_lstm, 'auc')"
   ]
  },
  {
   "cell_type": "code",
   "execution_count": 31,
   "metadata": {},
   "outputs": [
    {
     "data": {
      "image/png": "[encoded data removed]",
      "text/plain": [
       "<Figure size 432x288 with 1 Axes>"
      ]
     },
     "metadata": {
      "needs_background": "light"
     },
     "output_type": "display_data"
    },
    {
     "data": {
      "text/plain": [
       "<Figure size 432x288 with 0 Axes>"
      ]
     },
     "metadata": {},
     "output_type": "display_data"
    }
   ],
   "source": [
    "plot_outs(history_lstm, 'loss')"
   ]
  },
  {
   "cell_type": "markdown",
   "metadata": {},
   "source": [
    "# Transformer"
   ]
  },
  {
   "cell_type": "code",
   "execution_count": 32,
   "metadata": {},
   "outputs": [],
   "source": [
    "from tensorflow.keras import layers\n",
    "from tensorflow import keras\n",
    "\n",
    "class Transformer(layers.Layer):\n",
    "    def __init__(self, embed_dim, num_heads, ff_dim, rate=0.1):\n",
    "        super(Transformer, self).__init__()\n",
    "        self.attention = layers.MultiHeadAttention(num_heads=num_heads, key_dim=embed_dim)\n",
    "        self.ffn = keras.Sequential([layers.Dense(ff_dim, activation='relu'), layers.Dense(embed_dim),])\n",
    "        self.layernorm1 = layers.LayerNormalization(epsilon=0.001)\n",
    "        self.layernorm2 = layers.LayerNormalization(epsilon=0.001)\n",
    "        self.dropout1 = layers.Dropout(rate)\n",
    "        self.dropout2 = layers.Dropout(rate)\n",
    "\n",
    "    def call(self, inputs, training):\n",
    "        x = self.attention(inputs, inputs)\n",
    "        x = self.dropout1(x, training=training)\n",
    "        out1 = self.layernorm1(inputs + x)\n",
    "        y = self.ffn(x)\n",
    "        y = self.dropout2(x, training=training)\n",
    "        return self.layernorm2(out1 + y)\n",
    "\n",
    "class Embed(layers.Layer):\n",
    "    def __init__(self, maxlen, vocab_size, embed_dim, glove_matrix=None):\n",
    "        super(Embed, self).__init__()\n",
    "        if glove_matrix is not None:\n",
    "            self.token_emb = layers.Embedding(input_dim=vocab_size, output_dim=embed_dim, weights=[glove_matrix], trainable=False)\n",
    "        else:\n",
    "            self.token_emb = layers.Embedding(input_dim=vocab_size, output_dim=embed_dim)\n",
    "        self.pos_emb = layers.Embedding(input_dim=maxlen, output_dim=embed_dim)\n",
    "\n",
    "    def call(self, x):\n",
    "        maxlen = tf.shape(x)[-1]\n",
    "        positions = tf.range(0, limit=maxlen, delta=1)\n",
    "        positions = self.pos_emb(positions)\n",
    "        x = self.token_emb(x)\n",
    "        return x + positions"
   ]
  },
  {
   "cell_type": "code",
   "execution_count": 33,
   "metadata": {},
   "outputs": [],
   "source": [
    "def build_transformer(maxlen=30, embed_dim=100, num_heads=4, ff_dim=128, vocab_size=vocab_size):\n",
    "    trans = Transformer(embed_dim, num_heads, ff_dim, rate=0.3)\n",
    "    embed = Embed(maxlen, vocab_size, embed_dim)\n",
    "    input = Input(shape=(maxlen,))\n",
    "    x = embed(input)\n",
    "    x = trans(x)\n",
    "    x = GlobalAveragePooling1D()(x)\n",
    "    x = Dropout(0.3)(x)\n",
    "    x = Dense(128, activation='relu')(x)\n",
    "    x = Dropout(0.5)(x)\n",
    "    x = Dense(64, activation='relu')(x)\n",
    "    output = Dense(6, activation='softmax')(x)\n",
    "    return keras.Model(input, output)"
   ]
  },
  {
   "cell_type": "code",
   "execution_count": 34,
   "metadata": {},
   "outputs": [
    {
     "name": "stdout",
     "output_type": "stream",
     "text": [
      "Epoch 1/20\n",
      "WARNING:tensorflow:Gradients do not exist for variables ['dense_4/kernel:0', 'dense_4/bias:0', 'dense_5/kernel:0', 'dense_5/bias:0'] when minimizing the loss.\n",
      "WARNING:tensorflow:Gradients do not exist for variables ['dense_4/kernel:0', 'dense_4/bias:0', 'dense_5/kernel:0', 'dense_5/bias:0'] when minimizing the loss.\n",
      "63/63 [==============================] - 6s 47ms/step - loss: 1.6113 - accuracy: 0.3223 - auc: 0.7029 - val_loss: 1.4878 - val_accuracy: 0.3458 - val_auc: 0.7674\n",
      "Epoch 2/20\n",
      "63/63 [==============================] - 2s 30ms/step - loss: 1.0698 - accuracy: 0.5901 - auc: 0.8838 - val_loss: 0.7918 - val_accuracy: 0.7130 - val_auc: 0.9377\n",
      "Epoch 3/20\n",
      "63/63 [==============================] - 2s 29ms/step - loss: 0.6624 - accuracy: 0.7791 - auc: 0.9549 - val_loss: 0.4982 - val_accuracy: 0.8435 - val_auc: 0.9724\n",
      "Epoch 4/20\n",
      "63/63 [==============================] - 2s 30ms/step - loss: 0.4202 - accuracy: 0.8699 - auc: 0.9794 - val_loss: 0.4607 - val_accuracy: 0.8655 - val_auc: 0.9759\n",
      "Epoch 5/20\n",
      "63/63 [==============================] - 2s 30ms/step - loss: 0.3140 - accuracy: 0.8989 - auc: 0.9878 - val_loss: 0.4010 - val_accuracy: 0.8800 - val_auc: 0.9806\n",
      "Epoch 6/20\n",
      "63/63 [==============================] - 2s 30ms/step - loss: 0.2428 - accuracy: 0.9195 - auc: 0.9921 - val_loss: 0.4074 - val_accuracy: 0.8785 - val_auc: 0.9804\n",
      "Epoch 7/20\n",
      "63/63 [==============================] - 2s 30ms/step - loss: 0.2009 - accuracy: 0.9311 - auc: 0.9945 - val_loss: 0.5405 - val_accuracy: 0.8690 - val_auc: 0.9730\n",
      "Epoch 8/20\n",
      "63/63 [==============================] - 2s 30ms/step - loss: 0.1779 - accuracy: 0.9412 - auc: 0.9948 - val_loss: 0.5395 - val_accuracy: 0.8733 - val_auc: 0.9746\n",
      "Epoch 9/20\n",
      "63/63 [==============================] - 2s 30ms/step - loss: 0.1535 - accuracy: 0.9486 - auc: 0.9964 - val_loss: 0.5375 - val_accuracy: 0.8685 - val_auc: 0.9729\n",
      "Epoch 10/20\n",
      "63/63 [==============================] - 2s 30ms/step - loss: 0.1408 - accuracy: 0.9523 - auc: 0.9967 - val_loss: 0.5306 - val_accuracy: 0.8690 - val_auc: 0.9740\n"
     ]
    }
   ],
   "source": [
    "transformer = build_transformer()\n",
    "opt = Adam(learning_rate=0.01)\n",
    "transformer.compile(optimizer=opt, loss='categorical_crossentropy', metrics=['accuracy', 'AUC'])\n",
    "reduce_lr = ReduceLROnPlateau(monitor='val_loss', factor=0.1, min_lr=0.000001, verbose=0)\n",
    "early_stopping = EarlyStopping(monitor='val_loss', mode='min', patience=5, verbose=0)\n",
    "history = transformer.fit(xtrain, ytrain, batch_size=256, epochs=20, validation_data=(xtest, ytest), callbacks=[early_stopping, reduce_lr])"
   ]
  },
  {
   "cell_type": "code",
   "execution_count": 35,
   "metadata": {},
   "outputs": [
    {
     "data": {
      "image/png": "[encoded data removed]",
      "text/plain": [
       "<Figure size 432x288 with 1 Axes>"
      ]
     },
     "metadata": {
      "needs_background": "light"
     },
     "output_type": "display_data"
    },
    {
     "data": {
      "text/plain": [
       "<Figure size 432x288 with 0 Axes>"
      ]
     },
     "metadata": {},
     "output_type": "display_data"
    }
   ],
   "source": [
    "plot_outs(history, 'accuracy')"
   ]
  },
  {
   "cell_type": "code",
   "execution_count": 36,
   "metadata": {},
   "outputs": [
    {
     "data": {
      "image/png": "[encoded data removed]",
      "text/plain": [
       "<Figure size 432x288 with 1 Axes>"
      ]
     },
     "metadata": {
      "needs_background": "light"
     },
     "output_type": "display_data"
    },
    {
     "data": {
      "text/plain": [
       "<Figure size 432x288 with 0 Axes>"
      ]
     },
     "metadata": {},
     "output_type": "display_data"
    }
   ],
   "source": [
    "plot_outs(history, 'auc')"
   ]
  },
  {
   "cell_type": "code",
   "execution_count": 37,
   "metadata": {},
   "outputs": [
    {
     "data": {
      "image/png": "[encoded data removed]",
      "text/plain": [
       "<Figure size 432x288 with 1 Axes>"
      ]
     },
     "metadata": {
      "needs_background": "light"
     },
     "output_type": "display_data"
    },
    {
     "data": {
      "text/plain": [
       "<Figure size 432x288 with 0 Axes>"
      ]
     },
     "metadata": {},
     "output_type": "display_data"
    }
   ],
   "source": [
    "plot_outs(history, 'loss')"
   ]
  },
  {
   "cell_type": "markdown",
   "metadata": {},
   "source": [
    "# Results\n",
    "CNN outperforms other two models. Transformer tends toward overfitting. Results might be different for others; I never seeded my runs."
   ]
  },
  {
   "cell_type": "code",
   "execution_count": 38,
   "metadata": {},
   "outputs": [
    {
     "data": {
      "text/plain": [
       "(4000, 6)"
      ]
     },
     "execution_count": 38,
     "metadata": {},
     "output_type": "execute_result"
    }
   ],
   "source": [
    "from sklearn.metrics import classification_report\n",
    "pred = cnn.predict(xtest)\n",
    "pred.shape"
   ]
  },
  {
   "cell_type": "code",
   "execution_count": 39,
   "metadata": {},
   "outputs": [
    {
     "data": {
      "text/plain": [
       "anger       2709\n",
       "fear        2373\n",
       "joy         6761\n",
       "love        1641\n",
       "sadness     5797\n",
       "surprise     719\n",
       "Name: label_raw, dtype: int64"
      ]
     },
     "execution_count": 39,
     "metadata": {},
     "output_type": "execute_result"
    }
   ],
   "source": [
    "final_df['label_raw'].value_counts().sort_index()"
   ]
  },
  {
   "cell_type": "code",
   "execution_count": 40,
   "metadata": {},
   "outputs": [],
   "source": [
    "cm = classification_report(np.argmax(ytest, axis=1), np.argmax(pred, axis=1), target_names=['anger', 'fear', 'joy', 'love', 'sadness', 'surprise'])"
   ]
  },
  {
   "cell_type": "code",
   "execution_count": 41,
   "metadata": {},
   "outputs": [
    {
     "name": "stdout",
     "output_type": "stream",
     "text": [
      "              precision    recall  f1-score   support\n",
      "\n",
      "       anger       0.91      0.89      0.90       540\n",
      "        fear       0.86      0.84      0.85       442\n",
      "         joy       0.94      0.91      0.92      1335\n",
      "        love       0.72      0.79      0.75       332\n",
      "     sadness       0.94      0.95      0.95      1195\n",
      "    surprise       0.63      0.72      0.67       156\n",
      "\n",
      "    accuracy                           0.89      4000\n",
      "   macro avg       0.83      0.85      0.84      4000\n",
      "weighted avg       0.90      0.89      0.89      4000\n",
      "\n"
     ]
    }
   ],
   "source": [
    "print(cm)"
   ]
  },
  {
   "cell_type": "markdown",
   "metadata": {},
   "source": [
    "## Song recommendation"
   ]
  },
  {
   "cell_type": "code",
   "execution_count": 42,
   "metadata": {},
   "outputs": [
    {
     "data": {
      "text/html": [
       "<div>\n",
       "<style scoped>\n",
       "    .dataframe tbody tr th:only-of-type {\n",
       "        vertical-align: middle;\n",
       "    }\n",
       "\n",
       "    .dataframe tbody tr th {\n",
       "        vertical-align: top;\n",
       "    }\n",
       "\n",
       "    .dataframe thead th {\n",
       "        text-align: right;\n",
       "    }\n",
       "</style>\n",
       "<table border=\"1\" class=\"dataframe\">\n",
       "  <thead>\n",
       "    <tr style=\"text-align: right;\">\n",
       "      <th></th>\n",
       "      <th>data</th>\n",
       "      <th>label</th>\n",
       "      <th>label_enc</th>\n",
       "    </tr>\n",
       "  </thead>\n",
       "  <tbody>\n",
       "    <tr>\n",
       "      <th>0</th>\n",
       "      <td>i didnt feel humiliated</td>\n",
       "      <td>sadness</td>\n",
       "      <td>4</td>\n",
       "    </tr>\n",
       "    <tr>\n",
       "      <th>1</th>\n",
       "      <td>i can go from feeling so hopeless to so damned...</td>\n",
       "      <td>sadness</td>\n",
       "      <td>4</td>\n",
       "    </tr>\n",
       "    <tr>\n",
       "      <th>2</th>\n",
       "      <td>im grabbing a minute to post i feel greedy wrong</td>\n",
       "      <td>anger</td>\n",
       "      <td>0</td>\n",
       "    </tr>\n",
       "    <tr>\n",
       "      <th>3</th>\n",
       "      <td>i am ever feeling nostalgic about the fireplac...</td>\n",
       "      <td>love</td>\n",
       "      <td>3</td>\n",
       "    </tr>\n",
       "    <tr>\n",
       "      <th>4</th>\n",
       "      <td>i am feeling grouchy</td>\n",
       "      <td>anger</td>\n",
       "      <td>0</td>\n",
       "    </tr>\n",
       "  </tbody>\n",
       "</table>\n",
       "</div>"
      ],
      "text/plain": [
       "                                                data    label  label_enc\n",
       "0                            i didnt feel humiliated  sadness          4\n",
       "1  i can go from feeling so hopeless to so damned...  sadness          4\n",
       "2   im grabbing a minute to post i feel greedy wrong    anger          0\n",
       "3  i am ever feeling nostalgic about the fireplac...     love          3\n",
       "4                               i am feeling grouchy    anger          0"
      ]
     },
     "execution_count": 42,
     "metadata": {},
     "output_type": "execute_result"
    }
   ],
   "source": [
    "comb_data.head()"
   ]
  },
  {
   "cell_type": "code",
   "execution_count": 43,
   "metadata": {},
   "outputs": [],
   "source": [
    "def process_data(df):\n",
    "    df_strat = df.groupby('label').apply(lambda x: x.sample(3)).droplevel(level=0)\n",
    "    # print(df_strat)\n",
    "    tokenized = tokenize_data(df_strat)\n",
    "    sw_removed = remove_stopwords(tokenized)\n",
    "    lemmatized = lemmatize(sw_removed)\n",
    "    final_data = []\n",
    "    # each l is a list of processed words\n",
    "    for l in lemmatized:\n",
    "        final_data.append(' '.join(l))\n",
    "    d = {'data': final_data, 'data_raw': df_strat['data'], 'label': df_strat['label_enc'], 'label_raw': df_strat['label']}\n",
    "    final_df = pd.DataFrame(data=d)\n",
    "    return final_df\n",
    "    "
   ]
  },
  {
   "cell_type": "code",
   "execution_count": 44,
   "metadata": {},
   "outputs": [
    {
     "data": {
      "text/html": [
       "<div>\n",
       "<style scoped>\n",
       "    .dataframe tbody tr th:only-of-type {\n",
       "        vertical-align: middle;\n",
       "    }\n",
       "\n",
       "    .dataframe tbody tr th {\n",
       "        vertical-align: top;\n",
       "    }\n",
       "\n",
       "    .dataframe thead th {\n",
       "        text-align: right;\n",
       "    }\n",
       "</style>\n",
       "<table border=\"1\" class=\"dataframe\">\n",
       "  <thead>\n",
       "    <tr style=\"text-align: right;\">\n",
       "      <th></th>\n",
       "      <th>data</th>\n",
       "      <th>data_raw</th>\n",
       "      <th>label</th>\n",
       "      <th>label_raw</th>\n",
       "    </tr>\n",
       "  </thead>\n",
       "  <tbody>\n",
       "    <tr>\n",
       "      <th>214</th>\n",
       "      <td>id kick gear feel irritable motivation ever</td>\n",
       "      <td>id kick myself into gear but i just feel irrit...</td>\n",
       "      <td>0</td>\n",
       "      <td>anger</td>\n",
       "    </tr>\n",
       "    <tr>\n",
       "      <th>9204</th>\n",
       "      <td>forget take meds morning predictably feel irri...</td>\n",
       "      <td>i forgot to take my meds this morning and i am...</td>\n",
       "      <td>0</td>\n",
       "      <td>anger</td>\n",
       "    </tr>\n",
       "    <tr>\n",
       "      <th>4584</th>\n",
       "      <td>know still feel kind agitate also switch feel ...</td>\n",
       "      <td>i know that i still feel kind of agitated but ...</td>\n",
       "      <td>0</td>\n",
       "      <td>anger</td>\n",
       "    </tr>\n",
       "    <tr>\n",
       "      <th>664</th>\n",
       "      <td>bus stop hear squeak baachan trolley feel litt...</td>\n",
       "      <td>i am at the bus stop and i hear the squeak of ...</td>\n",
       "      <td>1</td>\n",
       "      <td>fear</td>\n",
       "    </tr>\n",
       "    <tr>\n",
       "      <th>14472</th>\n",
       "      <td>cant help feel little bite agitate</td>\n",
       "      <td>i cant help but feel a little bit agitated</td>\n",
       "      <td>1</td>\n",
       "      <td>fear</td>\n",
       "    </tr>\n",
       "    <tr>\n",
       "      <th>295</th>\n",
       "      <td>feel strange talk less serious things right li...</td>\n",
       "      <td>i feel strange talking about less serious thin...</td>\n",
       "      <td>1</td>\n",
       "      <td>fear</td>\n",
       "    </tr>\n",
       "    <tr>\n",
       "      <th>11745</th>\n",
       "      <td>feel gnaw hole throughout flawless soul</td>\n",
       "      <td>i feel them gnawing out holes all throughout m...</td>\n",
       "      <td>2</td>\n",
       "      <td>joy</td>\n",
       "    </tr>\n",
       "    <tr>\n",
       "      <th>10340</th>\n",
       "      <td>im feel lucky see jump google logo may take time</td>\n",
       "      <td>im feeling lucky see the jumping google logo i...</td>\n",
       "      <td>2</td>\n",
       "      <td>joy</td>\n",
       "    </tr>\n",
       "    <tr>\n",
       "      <th>8988</th>\n",
       "      <td>talk feel like lot get resolve</td>\n",
       "      <td>i talk to you i feel like a lot gets resolved</td>\n",
       "      <td>2</td>\n",
       "      <td>joy</td>\n",
       "    </tr>\n",
       "    <tr>\n",
       "      <th>88</th>\n",
       "      <td>still feel like im get away something naughty</td>\n",
       "      <td>i still feel like im getting away with somethi...</td>\n",
       "      <td>3</td>\n",
       "      <td>love</td>\n",
       "    </tr>\n",
       "    <tr>\n",
       "      <th>15095</th>\n",
       "      <td>ask long grass feel say long grass feel lovely</td>\n",
       "      <td>i asked how does the long grass feel he said t...</td>\n",
       "      <td>3</td>\n",
       "      <td>love</td>\n",
       "    </tr>\n",
       "    <tr>\n",
       "      <th>1735</th>\n",
       "      <td>feel gentle desire treat body differently like...</td>\n",
       "      <td>i feel this gentle desire to treat my body dif...</td>\n",
       "      <td>3</td>\n",
       "      <td>love</td>\n",
       "    </tr>\n",
       "    <tr>\n",
       "      <th>5064</th>\n",
       "      <td>talk lot majority time spend work work feel ge...</td>\n",
       "      <td>i don t talk about it a lot but a majority of ...</td>\n",
       "      <td>4</td>\n",
       "      <td>sadness</td>\n",
       "    </tr>\n",
       "    <tr>\n",
       "      <th>1668</th>\n",
       "      <td>feel lonely thats alright nothing little tv mu...</td>\n",
       "      <td>i feel very lonely but thats alright nothing a...</td>\n",
       "      <td>4</td>\n",
       "      <td>sadness</td>\n",
       "    </tr>\n",
       "    <tr>\n",
       "      <th>13241</th>\n",
       "      <td>want tell everyone exactly im feel soon start ...</td>\n",
       "      <td>i want to tell everyone exactly how im feeling...</td>\n",
       "      <td>4</td>\n",
       "      <td>sadness</td>\n",
       "    </tr>\n",
       "    <tr>\n",
       "      <th>1997</th>\n",
       "      <td>feel im strange catholic vortex</td>\n",
       "      <td>i feel as if im in some strange catholic vortex</td>\n",
       "      <td>5</td>\n",
       "      <td>surprise</td>\n",
       "    </tr>\n",
       "    <tr>\n",
       "      <th>10543</th>\n",
       "      <td>still feel little weird call ceo company bob r...</td>\n",
       "      <td>i still feel a little weird calling the ceo of...</td>\n",
       "      <td>5</td>\n",
       "      <td>surprise</td>\n",
       "    </tr>\n",
       "    <tr>\n",
       "      <th>1122</th>\n",
       "      <td>feel amaze take trip think ill finally able re...</td>\n",
       "      <td>i feel so amazing about taking this trip as i ...</td>\n",
       "      <td>5</td>\n",
       "      <td>surprise</td>\n",
       "    </tr>\n",
       "  </tbody>\n",
       "</table>\n",
       "</div>"
      ],
      "text/plain": [
       "                                                    data  \\\n",
       "214          id kick gear feel irritable motivation ever   \n",
       "9204   forget take meds morning predictably feel irri...   \n",
       "4584   know still feel kind agitate also switch feel ...   \n",
       "664    bus stop hear squeak baachan trolley feel litt...   \n",
       "14472                 cant help feel little bite agitate   \n",
       "295    feel strange talk less serious things right li...   \n",
       "11745            feel gnaw hole throughout flawless soul   \n",
       "10340   im feel lucky see jump google logo may take time   \n",
       "8988                      talk feel like lot get resolve   \n",
       "88         still feel like im get away something naughty   \n",
       "15095     ask long grass feel say long grass feel lovely   \n",
       "1735   feel gentle desire treat body differently like...   \n",
       "5064   talk lot majority time spend work work feel ge...   \n",
       "1668   feel lonely thats alright nothing little tv mu...   \n",
       "13241  want tell everyone exactly im feel soon start ...   \n",
       "1997                     feel im strange catholic vortex   \n",
       "10543  still feel little weird call ceo company bob r...   \n",
       "1122   feel amaze take trip think ill finally able re...   \n",
       "\n",
       "                                                data_raw  label label_raw  \n",
       "214    id kick myself into gear but i just feel irrit...      0     anger  \n",
       "9204   i forgot to take my meds this morning and i am...      0     anger  \n",
       "4584   i know that i still feel kind of agitated but ...      0     anger  \n",
       "664    i am at the bus stop and i hear the squeak of ...      1      fear  \n",
       "14472         i cant help but feel a little bit agitated      1      fear  \n",
       "295    i feel strange talking about less serious thin...      1      fear  \n",
       "11745  i feel them gnawing out holes all throughout m...      2       joy  \n",
       "10340  im feeling lucky see the jumping google logo i...      2       joy  \n",
       "8988       i talk to you i feel like a lot gets resolved      2       joy  \n",
       "88     i still feel like im getting away with somethi...      3      love  \n",
       "15095  i asked how does the long grass feel he said t...      3      love  \n",
       "1735   i feel this gentle desire to treat my body dif...      3      love  \n",
       "5064   i don t talk about it a lot but a majority of ...      4   sadness  \n",
       "1668   i feel very lonely but thats alright nothing a...      4   sadness  \n",
       "13241  i want to tell everyone exactly how im feeling...      4   sadness  \n",
       "1997     i feel as if im in some strange catholic vortex      5  surprise  \n",
       "10543  i still feel a little weird calling the ceo of...      5  surprise  \n",
       "1122   i feel so amazing about taking this trip as i ...      5  surprise  "
      ]
     },
     "execution_count": 44,
     "metadata": {},
     "output_type": "execute_result"
    }
   ],
   "source": [
    "test_df = process_data(comb_data)\n",
    "test_df"
   ]
  },
  {
   "cell_type": "code",
   "execution_count": 45,
   "metadata": {},
   "outputs": [
    {
     "data": {
      "text/html": [
       "<div>\n",
       "<style scoped>\n",
       "    .dataframe tbody tr th:only-of-type {\n",
       "        vertical-align: middle;\n",
       "    }\n",
       "\n",
       "    .dataframe tbody tr th {\n",
       "        vertical-align: top;\n",
       "    }\n",
       "\n",
       "    .dataframe thead th {\n",
       "        text-align: right;\n",
       "    }\n",
       "</style>\n",
       "<table border=\"1\" class=\"dataframe\">\n",
       "  <thead>\n",
       "    <tr style=\"text-align: right;\">\n",
       "      <th></th>\n",
       "      <th>data</th>\n",
       "      <th>label</th>\n",
       "      <th>label_raw</th>\n",
       "    </tr>\n",
       "  </thead>\n",
       "  <tbody>\n",
       "    <tr>\n",
       "      <th>0</th>\n",
       "      <td>didnt feel humiliate</td>\n",
       "      <td>4</td>\n",
       "      <td>sadness</td>\n",
       "    </tr>\n",
       "    <tr>\n",
       "      <th>1</th>\n",
       "      <td>go feel hopeless damn hopeful around someone c...</td>\n",
       "      <td>4</td>\n",
       "      <td>sadness</td>\n",
       "    </tr>\n",
       "    <tr>\n",
       "      <th>2</th>\n",
       "      <td>im grab minute post feel greedy wrong</td>\n",
       "      <td>0</td>\n",
       "      <td>anger</td>\n",
       "    </tr>\n",
       "    <tr>\n",
       "      <th>3</th>\n",
       "      <td>ever feel nostalgic fireplace know still property</td>\n",
       "      <td>3</td>\n",
       "      <td>love</td>\n",
       "    </tr>\n",
       "    <tr>\n",
       "      <th>4</th>\n",
       "      <td>feel grouchy</td>\n",
       "      <td>0</td>\n",
       "      <td>anger</td>\n",
       "    </tr>\n",
       "  </tbody>\n",
       "</table>\n",
       "</div>"
      ],
      "text/plain": [
       "                                                data  label label_raw\n",
       "0                               didnt feel humiliate      4   sadness\n",
       "1  go feel hopeless damn hopeful around someone c...      4   sadness\n",
       "2              im grab minute post feel greedy wrong      0     anger\n",
       "3  ever feel nostalgic fireplace know still property      3      love\n",
       "4                                       feel grouchy      0     anger"
      ]
     },
     "execution_count": 45,
     "metadata": {},
     "output_type": "execute_result"
    }
   ],
   "source": [
    "final_df.head()"
   ]
  },
  {
   "cell_type": "code",
   "execution_count": 46,
   "metadata": {},
   "outputs": [],
   "source": [
    "tokenizer = Tokenizer()\n",
    "tokenizer.fit_on_texts(final_df['data'])\n",
    "test_data = pad_sequences(tokenizer.texts_to_sequences(test_df['data']), maxlen=30)"
   ]
  },
  {
   "cell_type": "code",
   "execution_count": 47,
   "metadata": {},
   "outputs": [],
   "source": [
    "probs = np.argmax(cnn.predict(test_data), axis=1)"
   ]
  },
  {
   "cell_type": "code",
   "execution_count": 48,
   "metadata": {},
   "outputs": [],
   "source": [
    "probs_trans = np.argmax(transformer(test_data), axis=1)"
   ]
  },
  {
   "cell_type": "code",
   "execution_count": 49,
   "metadata": {},
   "outputs": [
    {
     "name": "stdout",
     "output_type": "stream",
     "text": [
      "1.0\n",
      "0.8333333333333334\n"
     ]
    }
   ],
   "source": [
    "from sklearn.metrics import accuracy_score\n",
    "print(accuracy_score(list(test_df['label']), probs))\n",
    "print(accuracy_score(list(test_df['label']), probs_trans))"
   ]
  },
  {
   "cell_type": "markdown",
   "metadata": {},
   "source": [
    "1.0 = perfect accuracy\n",
    "## Song data"
   ]
  },
  {
   "cell_type": "code",
   "execution_count": 50,
   "metadata": {},
   "outputs": [
    {
     "name": "stderr",
     "output_type": "stream",
     "text": [
      "C:\\Users\\tg584\\AppData\\Local\\Programs\\Python\\Python37\\lib\\site-packages\\IPython\\core\\interactiveshell.py:3457: DtypeWarning: Columns (19) have mixed types.Specify dtype option on import or set low_memory=False.\n",
      "  exec(code_obj, self.user_global_ns, self.user_ns)\n"
     ]
    }
   ],
   "source": [
    "song_data = pd.read_csv('data/songs.csv', usecols=['song_name', 'genre', 'valence', 'energy', 'danceability', 'loudness'])"
   ]
  },
  {
   "cell_type": "code",
   "execution_count": 69,
   "metadata": {},
   "outputs": [
    {
     "name": "stdout",
     "output_type": "stream",
     "text": [
      "(42305, 6)\n",
      "(15440, 6)\n"
     ]
    }
   ],
   "source": [
    "print(song_data.shape)\n",
    "song_data = song_data.drop_duplicates(subset='song_name')\n",
    "print(song_data.shape)"
   ]
  },
  {
   "cell_type": "code",
   "execution_count": 70,
   "metadata": {},
   "outputs": [
    {
     "name": "stdout",
     "output_type": "stream",
     "text": [
      "(15440, 6)\n"
     ]
    },
    {
     "data": {
      "text/html": [
       "<div>\n",
       "<style scoped>\n",
       "    .dataframe tbody tr th:only-of-type {\n",
       "        vertical-align: middle;\n",
       "    }\n",
       "\n",
       "    .dataframe tbody tr th {\n",
       "        vertical-align: top;\n",
       "    }\n",
       "\n",
       "    .dataframe thead th {\n",
       "        text-align: right;\n",
       "    }\n",
       "</style>\n",
       "<table border=\"1\" class=\"dataframe\">\n",
       "  <thead>\n",
       "    <tr style=\"text-align: right;\">\n",
       "      <th></th>\n",
       "      <th>danceability</th>\n",
       "      <th>energy</th>\n",
       "      <th>loudness</th>\n",
       "      <th>valence</th>\n",
       "      <th>genre</th>\n",
       "      <th>song_name</th>\n",
       "    </tr>\n",
       "  </thead>\n",
       "  <tbody>\n",
       "    <tr>\n",
       "      <th>0</th>\n",
       "      <td>0.831</td>\n",
       "      <td>0.814</td>\n",
       "      <td>-7.364</td>\n",
       "      <td>0.3890</td>\n",
       "      <td>Dark Trap</td>\n",
       "      <td>Mercury: Retrograde</td>\n",
       "    </tr>\n",
       "    <tr>\n",
       "      <th>1</th>\n",
       "      <td>0.719</td>\n",
       "      <td>0.493</td>\n",
       "      <td>-7.230</td>\n",
       "      <td>0.1240</td>\n",
       "      <td>Dark Trap</td>\n",
       "      <td>Pathology</td>\n",
       "    </tr>\n",
       "    <tr>\n",
       "      <th>2</th>\n",
       "      <td>0.850</td>\n",
       "      <td>0.893</td>\n",
       "      <td>-4.783</td>\n",
       "      <td>0.0391</td>\n",
       "      <td>Dark Trap</td>\n",
       "      <td>Symbiote</td>\n",
       "    </tr>\n",
       "    <tr>\n",
       "      <th>3</th>\n",
       "      <td>0.476</td>\n",
       "      <td>0.781</td>\n",
       "      <td>-4.710</td>\n",
       "      <td>0.1750</td>\n",
       "      <td>Dark Trap</td>\n",
       "      <td>ProductOfDrugs (Prod. The Virus and Antidote)</td>\n",
       "    </tr>\n",
       "    <tr>\n",
       "      <th>4</th>\n",
       "      <td>0.798</td>\n",
       "      <td>0.624</td>\n",
       "      <td>-7.668</td>\n",
       "      <td>0.5910</td>\n",
       "      <td>Dark Trap</td>\n",
       "      <td>Venom</td>\n",
       "    </tr>\n",
       "  </tbody>\n",
       "</table>\n",
       "</div>"
      ],
      "text/plain": [
       "   danceability  energy  loudness  valence      genre  \\\n",
       "0         0.831   0.814    -7.364   0.3890  Dark Trap   \n",
       "1         0.719   0.493    -7.230   0.1240  Dark Trap   \n",
       "2         0.850   0.893    -4.783   0.0391  Dark Trap   \n",
       "3         0.476   0.781    -4.710   0.1750  Dark Trap   \n",
       "4         0.798   0.624    -7.668   0.5910  Dark Trap   \n",
       "\n",
       "                                       song_name  \n",
       "0                            Mercury: Retrograde  \n",
       "1                                      Pathology  \n",
       "2                                       Symbiote  \n",
       "3  ProductOfDrugs (Prod. The Virus and Antidote)  \n",
       "4                                          Venom  "
      ]
     },
     "execution_count": 70,
     "metadata": {},
     "output_type": "execute_result"
    }
   ],
   "source": [
    "print(song_data.shape)\n",
    "song_data.head()"
   ]
  },
  {
   "cell_type": "code",
   "execution_count": 71,
   "metadata": {},
   "outputs": [],
   "source": [
    "song_data_clean = song_data.dropna()"
   ]
  },
  {
   "cell_type": "code",
   "execution_count": 72,
   "metadata": {},
   "outputs": [
    {
     "data": {
      "text/plain": [
       "Underground Rap    4410\n",
       "Dark Trap          4221\n",
       "Hiphop             1750\n",
       "RnB                1435\n",
       "Emo                1298\n",
       "Rap                1030\n",
       "Trap Metal         1001\n",
       "Pop                 294\n",
       "Name: genre, dtype: int64"
      ]
     },
     "execution_count": 72,
     "metadata": {},
     "output_type": "execute_result"
    }
   ],
   "source": [
    "song_data_clean['genre'].value_counts()"
   ]
  },
  {
   "cell_type": "code",
   "execution_count": 73,
   "metadata": {},
   "outputs": [
    {
     "data": {
      "text/plain": [
       "(0.000243, 0.999)"
      ]
     },
     "execution_count": 73,
     "metadata": {},
     "output_type": "execute_result"
    }
   ],
   "source": [
    "song_data_clean['energy'].min(), song_data_clean['energy'].max()"
   ]
  },
  {
   "cell_type": "code",
   "execution_count": 74,
   "metadata": {},
   "outputs": [
    {
     "name": "stderr",
     "output_type": "stream",
     "text": [
      "C:\\Users\\tg584\\AppData\\Local\\Programs\\Python\\Python37\\lib\\site-packages\\ipykernel_launcher.py:6: SettingWithCopyWarning: \n",
      "A value is trying to be set on a copy of a slice from a DataFrame.\n",
      "Try using .loc[row_indexer,col_indexer] = value instead\n",
      "\n",
      "See the caveats in the documentation: https://pandas.pydata.org/pandas-docs/stable/user_guide/indexing.html#returning-a-view-versus-a-copy\n",
      "  \n",
      "C:\\Users\\tg584\\AppData\\Local\\Programs\\Python\\Python37\\lib\\site-packages\\pandas\\core\\frame.py:3678: SettingWithCopyWarning: \n",
      "A value is trying to be set on a copy of a slice from a DataFrame.\n",
      "Try using .loc[row_indexer,col_indexer] = value instead\n",
      "\n",
      "See the caveats in the documentation: https://pandas.pydata.org/pandas-docs/stable/user_guide/indexing.html#returning-a-view-versus-a-copy\n",
      "  self[col] = igetitem(value, i)\n"
     ]
    }
   ],
   "source": [
    "from sklearn.cluster import KMeans\n",
    "from sklearn.preprocessing import MinMaxScaler\n",
    "le = LabelEncoder()\n",
    "sc = MinMaxScaler()\n",
    "cols = ['danceability', 'energy', 'loudness', 'valence']\n",
    "song_data_clean['genre_enc'] = le.fit_transform(song_data_clean['genre'])\n",
    "song_data_clean[cols] = sc.fit_transform(song_data_clean[cols])"
   ]
  },
  {
   "cell_type": "code",
   "execution_count": 75,
   "metadata": {},
   "outputs": [
    {
     "data": {
      "text/html": [
       "<div>\n",
       "<style scoped>\n",
       "    .dataframe tbody tr th:only-of-type {\n",
       "        vertical-align: middle;\n",
       "    }\n",
       "\n",
       "    .dataframe tbody tr th {\n",
       "        vertical-align: top;\n",
       "    }\n",
       "\n",
       "    .dataframe thead th {\n",
       "        text-align: right;\n",
       "    }\n",
       "</style>\n",
       "<table border=\"1\" class=\"dataframe\">\n",
       "  <thead>\n",
       "    <tr style=\"text-align: right;\">\n",
       "      <th></th>\n",
       "      <th>danceability</th>\n",
       "      <th>energy</th>\n",
       "      <th>loudness</th>\n",
       "      <th>valence</th>\n",
       "      <th>genre</th>\n",
       "      <th>song_name</th>\n",
       "      <th>genre_enc</th>\n",
       "    </tr>\n",
       "  </thead>\n",
       "  <tbody>\n",
       "    <tr>\n",
       "      <th>0</th>\n",
       "      <td>0.829884</td>\n",
       "      <td>0.814770</td>\n",
       "      <td>0.727688</td>\n",
       "      <td>0.383990</td>\n",
       "      <td>Dark Trap</td>\n",
       "      <td>Mercury: Retrograde</td>\n",
       "      <td>0</td>\n",
       "    </tr>\n",
       "    <tr>\n",
       "      <th>1</th>\n",
       "      <td>0.708527</td>\n",
       "      <td>0.493370</td>\n",
       "      <td>0.731439</td>\n",
       "      <td>0.107776</td>\n",
       "      <td>Dark Trap</td>\n",
       "      <td>Pathology</td>\n",
       "      <td>0</td>\n",
       "    </tr>\n",
       "    <tr>\n",
       "      <th>2</th>\n",
       "      <td>0.850471</td>\n",
       "      <td>0.893868</td>\n",
       "      <td>0.799944</td>\n",
       "      <td>0.019283</td>\n",
       "      <td>Dark Trap</td>\n",
       "      <td>Symbiote</td>\n",
       "      <td>0</td>\n",
       "    </tr>\n",
       "    <tr>\n",
       "      <th>3</th>\n",
       "      <td>0.445227</td>\n",
       "      <td>0.781729</td>\n",
       "      <td>0.801988</td>\n",
       "      <td>0.160934</td>\n",
       "      <td>Dark Trap</td>\n",
       "      <td>ProductOfDrugs (Prod. The Virus and Antidote)</td>\n",
       "      <td>0</td>\n",
       "    </tr>\n",
       "    <tr>\n",
       "      <th>4</th>\n",
       "      <td>0.794127</td>\n",
       "      <td>0.624533</td>\n",
       "      <td>0.719177</td>\n",
       "      <td>0.594538</td>\n",
       "      <td>Dark Trap</td>\n",
       "      <td>Venom</td>\n",
       "      <td>0</td>\n",
       "    </tr>\n",
       "  </tbody>\n",
       "</table>\n",
       "</div>"
      ],
      "text/plain": [
       "   danceability    energy  loudness   valence      genre  \\\n",
       "0      0.829884  0.814770  0.727688  0.383990  Dark Trap   \n",
       "1      0.708527  0.493370  0.731439  0.107776  Dark Trap   \n",
       "2      0.850471  0.893868  0.799944  0.019283  Dark Trap   \n",
       "3      0.445227  0.781729  0.801988  0.160934  Dark Trap   \n",
       "4      0.794127  0.624533  0.719177  0.594538  Dark Trap   \n",
       "\n",
       "                                       song_name  genre_enc  \n",
       "0                            Mercury: Retrograde          0  \n",
       "1                                      Pathology          0  \n",
       "2                                       Symbiote          0  \n",
       "3  ProductOfDrugs (Prod. The Virus and Antidote)          0  \n",
       "4                                          Venom          0  "
      ]
     },
     "execution_count": 75,
     "metadata": {},
     "output_type": "execute_result"
    }
   ],
   "source": [
    "song_data_clean.head()"
   ]
  },
  {
   "cell_type": "code",
   "execution_count": 76,
   "metadata": {},
   "outputs": [
    {
     "name": "stdout",
     "output_type": "stream",
     "text": [
      "For n_clusters=2, SSE is 1265.4361054439241\n",
      "For n_clusters=3, SSE is 978.7362630626286\n",
      "For n_clusters=4, SSE is 830.8088403336114\n",
      "For n_clusters=5, SSE is 726.8467295229395\n",
      "For n_clusters=6, SSE is 648.9788530662937\n",
      "For n_clusters=7, SSE is 591.00627114746\n",
      "For n_clusters=8, SSE is 551.480433095463\n",
      "For n_clusters=9, SSE is 514.6493429582085\n"
     ]
    },
    {
     "data": {
      "image/png": "[encoded data removed]",
      "text/plain": [
       "<Figure size 432x288 with 1 Axes>"
      ]
     },
     "metadata": {
      "needs_background": "light"
     },
     "output_type": "display_data"
    }
   ],
   "source": [
    "sse = []\n",
    "for i in range(2, 10):\n",
    "    kc = KMeans(n_clusters=i, n_init=20)\n",
    "    kc = kc.fit(song_data_clean.drop(['song_name', 'genre', 'genre_enc'], axis=1))\n",
    "    sse.append(kc.inertia_)\n",
    "    print(f'For n_clusters={i}, SSE is {kc.inertia_}')\n",
    "plt.plot(range(2,10), sse, 'bx-')\n",
    "plt.xlabel('k')\n",
    "plt.ylabel('sum of squares distance')\n",
    "plt.title('Elbow Method For Optimal k')\n",
    "plt.show()"
   ]
  },
  {
   "cell_type": "code",
   "execution_count": 77,
   "metadata": {},
   "outputs": [
    {
     "name": "stderr",
     "output_type": "stream",
     "text": [
      "C:\\Users\\tg584\\AppData\\Local\\Programs\\Python\\Python37\\lib\\site-packages\\ipykernel_launcher.py:2: SettingWithCopyWarning: \n",
      "A value is trying to be set on a copy of a slice from a DataFrame.\n",
      "Try using .loc[row_indexer,col_indexer] = value instead\n",
      "\n",
      "See the caveats in the documentation: https://pandas.pydata.org/pandas-docs/stable/user_guide/indexing.html#returning-a-view-versus-a-copy\n",
      "  \n"
     ]
    }
   ],
   "source": [
    "kc = KMeans(n_clusters=6, n_init=20)\n",
    "song_data_clean['clusters'] = kc.fit_predict(song_data_clean.drop(['song_name', 'genre', 'genre_enc'], axis=1))"
   ]
  },
  {
   "cell_type": "code",
   "execution_count": 78,
   "metadata": {},
   "outputs": [
    {
     "data": {
      "text/html": [
       "<div>\n",
       "<style scoped>\n",
       "    .dataframe tbody tr th:only-of-type {\n",
       "        vertical-align: middle;\n",
       "    }\n",
       "\n",
       "    .dataframe tbody tr th {\n",
       "        vertical-align: top;\n",
       "    }\n",
       "\n",
       "    .dataframe thead th {\n",
       "        text-align: right;\n",
       "    }\n",
       "</style>\n",
       "<table border=\"1\" class=\"dataframe\">\n",
       "  <thead>\n",
       "    <tr style=\"text-align: right;\">\n",
       "      <th></th>\n",
       "      <th>danceability</th>\n",
       "      <th>energy</th>\n",
       "      <th>loudness</th>\n",
       "      <th>valence</th>\n",
       "      <th>genre</th>\n",
       "      <th>song_name</th>\n",
       "      <th>genre_enc</th>\n",
       "      <th>clusters</th>\n",
       "    </tr>\n",
       "  </thead>\n",
       "  <tbody>\n",
       "    <tr>\n",
       "      <th>0</th>\n",
       "      <td>0.829884</td>\n",
       "      <td>0.814770</td>\n",
       "      <td>0.727688</td>\n",
       "      <td>0.383990</td>\n",
       "      <td>Dark Trap</td>\n",
       "      <td>Mercury: Retrograde</td>\n",
       "      <td>0</td>\n",
       "      <td>1</td>\n",
       "    </tr>\n",
       "    <tr>\n",
       "      <th>1</th>\n",
       "      <td>0.708527</td>\n",
       "      <td>0.493370</td>\n",
       "      <td>0.731439</td>\n",
       "      <td>0.107776</td>\n",
       "      <td>Dark Trap</td>\n",
       "      <td>Pathology</td>\n",
       "      <td>0</td>\n",
       "      <td>1</td>\n",
       "    </tr>\n",
       "    <tr>\n",
       "      <th>2</th>\n",
       "      <td>0.850471</td>\n",
       "      <td>0.893868</td>\n",
       "      <td>0.799944</td>\n",
       "      <td>0.019283</td>\n",
       "      <td>Dark Trap</td>\n",
       "      <td>Symbiote</td>\n",
       "      <td>0</td>\n",
       "      <td>1</td>\n",
       "    </tr>\n",
       "    <tr>\n",
       "      <th>3</th>\n",
       "      <td>0.445227</td>\n",
       "      <td>0.781729</td>\n",
       "      <td>0.801988</td>\n",
       "      <td>0.160934</td>\n",
       "      <td>Dark Trap</td>\n",
       "      <td>ProductOfDrugs (Prod. The Virus and Antidote)</td>\n",
       "      <td>0</td>\n",
       "      <td>3</td>\n",
       "    </tr>\n",
       "    <tr>\n",
       "      <th>4</th>\n",
       "      <td>0.794127</td>\n",
       "      <td>0.624533</td>\n",
       "      <td>0.719177</td>\n",
       "      <td>0.594538</td>\n",
       "      <td>Dark Trap</td>\n",
       "      <td>Venom</td>\n",
       "      <td>0</td>\n",
       "      <td>2</td>\n",
       "    </tr>\n",
       "  </tbody>\n",
       "</table>\n",
       "</div>"
      ],
      "text/plain": [
       "   danceability    energy  loudness   valence      genre  \\\n",
       "0      0.829884  0.814770  0.727688  0.383990  Dark Trap   \n",
       "1      0.708527  0.493370  0.731439  0.107776  Dark Trap   \n",
       "2      0.850471  0.893868  0.799944  0.019283  Dark Trap   \n",
       "3      0.445227  0.781729  0.801988  0.160934  Dark Trap   \n",
       "4      0.794127  0.624533  0.719177  0.594538  Dark Trap   \n",
       "\n",
       "                                       song_name  genre_enc  clusters  \n",
       "0                            Mercury: Retrograde          0         1  \n",
       "1                                      Pathology          0         1  \n",
       "2                                       Symbiote          0         1  \n",
       "3  ProductOfDrugs (Prod. The Virus and Antidote)          0         3  \n",
       "4                                          Venom          0         2  "
      ]
     },
     "execution_count": 78,
     "metadata": {},
     "output_type": "execute_result"
    }
   ],
   "source": [
    "song_data_clean.head()"
   ]
  },
  {
   "cell_type": "code",
   "execution_count": 79,
   "metadata": {},
   "outputs": [
    {
     "name": "stdout",
     "output_type": "stream",
     "text": [
      "[(0, 'anger'), (1, 'fear'), (2, 'joy'), (3, 'love'), (4, 'sadness'), (5, 'surprise')]\n",
      "[[0.75938555 0.74477918 0.76670765 0.77761521]\n",
      " [0.76712467 0.58119693 0.72013099 0.23897566]\n",
      " [0.77251266 0.54648251 0.69912253 0.54273769]\n",
      " [0.45760628 0.79967457 0.77373232 0.17325626]\n",
      " [0.51387411 0.42433039 0.6341917  0.16255558]\n",
      " [0.56221683 0.8239868  0.78957881 0.51376271]]\n"
     ]
    }
   ],
   "source": [
    "print(list(zip(test_df.label.unique(), test_df.label_raw.unique())))\n",
    "centers = kc.cluster_centers_\n",
    "print(centers)\n",
    "# based on subjective feeling of how to map to emotions: in general, low valence -> less strong emotions\n",
    "emo2center = {(0, 'anger'): 0, (1, 'fear'): 2, (2, 'joy'): 5, (3, 'love'): 3, (4, 'sadness'): 4, (5, 'surprise'): 1}"
   ]
  },
  {
   "cell_type": "code",
   "execution_count": 80,
   "metadata": {},
   "outputs": [
    {
     "name": "stderr",
     "output_type": "stream",
     "text": [
      "C:\\Users\\tg584\\AppData\\Local\\Programs\\Python\\Python37\\lib\\site-packages\\pandas\\core\\frame.py:5047: SettingWithCopyWarning: \n",
      "A value is trying to be set on a copy of a slice from a DataFrame\n",
      "\n",
      "See the caveats in the documentation: https://pandas.pydata.org/pandas-docs/stable/user_guide/indexing.html#returning-a-view-versus-a-copy\n",
      "  errors=errors,\n",
      "C:\\Users\\tg584\\AppData\\Local\\Programs\\Python\\Python37\\lib\\site-packages\\ipykernel_launcher.py:11: SettingWithCopyWarning: \n",
      "A value is trying to be set on a copy of a slice from a DataFrame.\n",
      "Try using .loc[row_indexer,col_indexer] = value instead\n",
      "\n",
      "See the caveats in the documentation: https://pandas.pydata.org/pandas-docs/stable/user_guide/indexing.html#returning-a-view-versus-a-copy\n",
      "  # This is added back by InteractiveShellApp.init_path()\n"
     ]
    }
   ],
   "source": [
    "def process_song_data(df):\n",
    "    # print(df_strat)\n",
    "    df.rename(columns={'song_name': 'data'}, inplace=True)\n",
    "    tokenized = tokenize_data(df)\n",
    "    sw_removed = remove_stopwords(tokenized)\n",
    "    lemmatized = lemmatize(sw_removed)\n",
    "    final_data = []\n",
    "    # each l is a list of processed words\n",
    "    for l in lemmatized:\n",
    "        final_data.append(' '.join(l))\n",
    "    df['clean_name'] = final_data\n",
    "    return df\n",
    "clean_song_data = process_song_data(song_data_clean)"
   ]
  },
  {
   "cell_type": "code",
   "execution_count": 81,
   "metadata": {},
   "outputs": [
    {
     "data": {
      "text/html": [
       "<div>\n",
       "<style scoped>\n",
       "    .dataframe tbody tr th:only-of-type {\n",
       "        vertical-align: middle;\n",
       "    }\n",
       "\n",
       "    .dataframe tbody tr th {\n",
       "        vertical-align: top;\n",
       "    }\n",
       "\n",
       "    .dataframe thead th {\n",
       "        text-align: right;\n",
       "    }\n",
       "</style>\n",
       "<table border=\"1\" class=\"dataframe\">\n",
       "  <thead>\n",
       "    <tr style=\"text-align: right;\">\n",
       "      <th></th>\n",
       "      <th>danceability</th>\n",
       "      <th>energy</th>\n",
       "      <th>loudness</th>\n",
       "      <th>valence</th>\n",
       "      <th>genre</th>\n",
       "      <th>data</th>\n",
       "      <th>genre_enc</th>\n",
       "      <th>clusters</th>\n",
       "      <th>clean_name</th>\n",
       "    </tr>\n",
       "  </thead>\n",
       "  <tbody>\n",
       "    <tr>\n",
       "      <th>0</th>\n",
       "      <td>0.829884</td>\n",
       "      <td>0.814770</td>\n",
       "      <td>0.727688</td>\n",
       "      <td>0.383990</td>\n",
       "      <td>Dark Trap</td>\n",
       "      <td>Mercury: Retrograde</td>\n",
       "      <td>0</td>\n",
       "      <td>1</td>\n",
       "      <td>mercury retrograde</td>\n",
       "    </tr>\n",
       "    <tr>\n",
       "      <th>1</th>\n",
       "      <td>0.708527</td>\n",
       "      <td>0.493370</td>\n",
       "      <td>0.731439</td>\n",
       "      <td>0.107776</td>\n",
       "      <td>Dark Trap</td>\n",
       "      <td>Pathology</td>\n",
       "      <td>0</td>\n",
       "      <td>1</td>\n",
       "      <td>pathology</td>\n",
       "    </tr>\n",
       "    <tr>\n",
       "      <th>2</th>\n",
       "      <td>0.850471</td>\n",
       "      <td>0.893868</td>\n",
       "      <td>0.799944</td>\n",
       "      <td>0.019283</td>\n",
       "      <td>Dark Trap</td>\n",
       "      <td>Symbiote</td>\n",
       "      <td>0</td>\n",
       "      <td>1</td>\n",
       "      <td>symbiote</td>\n",
       "    </tr>\n",
       "    <tr>\n",
       "      <th>3</th>\n",
       "      <td>0.445227</td>\n",
       "      <td>0.781729</td>\n",
       "      <td>0.801988</td>\n",
       "      <td>0.160934</td>\n",
       "      <td>Dark Trap</td>\n",
       "      <td>ProductOfDrugs (Prod. The Virus and Antidote)</td>\n",
       "      <td>0</td>\n",
       "      <td>3</td>\n",
       "      <td>productofdrugs prod virus antidote</td>\n",
       "    </tr>\n",
       "    <tr>\n",
       "      <th>4</th>\n",
       "      <td>0.794127</td>\n",
       "      <td>0.624533</td>\n",
       "      <td>0.719177</td>\n",
       "      <td>0.594538</td>\n",
       "      <td>Dark Trap</td>\n",
       "      <td>Venom</td>\n",
       "      <td>0</td>\n",
       "      <td>2</td>\n",
       "      <td>venom</td>\n",
       "    </tr>\n",
       "  </tbody>\n",
       "</table>\n",
       "</div>"
      ],
      "text/plain": [
       "   danceability    energy  loudness   valence      genre  \\\n",
       "0      0.829884  0.814770  0.727688  0.383990  Dark Trap   \n",
       "1      0.708527  0.493370  0.731439  0.107776  Dark Trap   \n",
       "2      0.850471  0.893868  0.799944  0.019283  Dark Trap   \n",
       "3      0.445227  0.781729  0.801988  0.160934  Dark Trap   \n",
       "4      0.794127  0.624533  0.719177  0.594538  Dark Trap   \n",
       "\n",
       "                                            data  genre_enc  clusters  \\\n",
       "0                            Mercury: Retrograde          0         1   \n",
       "1                                      Pathology          0         1   \n",
       "2                                       Symbiote          0         1   \n",
       "3  ProductOfDrugs (Prod. The Virus and Antidote)          0         3   \n",
       "4                                          Venom          0         2   \n",
       "\n",
       "                           clean_name  \n",
       "0                  mercury retrograde  \n",
       "1                           pathology  \n",
       "2                            symbiote  \n",
       "3  productofdrugs prod virus antidote  \n",
       "4                               venom  "
      ]
     },
     "execution_count": 81,
     "metadata": {},
     "output_type": "execute_result"
    }
   ],
   "source": [
    "clean_song_data.head()"
   ]
  },
  {
   "cell_type": "code",
   "execution_count": 82,
   "metadata": {},
   "outputs": [],
   "source": [
    "df_anger = clean_song_data[clean_song_data['clusters'] == 0]\n",
    "df_fear = clean_song_data[clean_song_data['clusters'] == 2]\n",
    "df_joy = clean_song_data[clean_song_data['clusters'] == 5]\n",
    "df_love = clean_song_data[clean_song_data['clusters'] == 3]\n",
    "df_sadness = clean_song_data[clean_song_data['clusters'] == 4]\n",
    "df_surprise = clean_song_data[clean_song_data['clusters'] == 1]"
   ]
  },
  {
   "cell_type": "code",
   "execution_count": 83,
   "metadata": {},
   "outputs": [],
   "source": [
    "from sklearn.metrics.pairwise import cosine_similarity\n",
    "from sklearn.feature_extraction.text import TfidfVectorizer"
   ]
  },
  {
   "cell_type": "code",
   "execution_count": 84,
   "metadata": {},
   "outputs": [],
   "source": [
    "list_clustered_dfs = [df_anger, df_fear, df_joy, df_love, df_sadness, df_surprise]"
   ]
  },
  {
   "cell_type": "code",
   "execution_count": 85,
   "metadata": {},
   "outputs": [
    {
     "data": {
      "text/plain": [
       "dict_keys([(0, 'anger'), (1, 'fear'), (2, 'joy'), (3, 'love'), (4, 'sadness'), (5, 'surprise')])"
      ]
     },
     "execution_count": 85,
     "metadata": {},
     "output_type": "execute_result"
    }
   ],
   "source": [
    "emo2center.keys()"
   ]
  },
  {
   "cell_type": "code",
   "execution_count": 86,
   "metadata": {},
   "outputs": [
    {
     "name": "stdout",
     "output_type": "stream",
     "text": [
      "Raw input string: id kick myself into gear but i just feel irritable with no motivation what so ever\n",
      "Predicted sentiment: anger, /////// Actual sentiment: anger\n",
      "-----Song recommendations-----\n",
      "Name: Baby Boy (feat. Sean Paul), Genre: RnB\n",
      "Name: Fired Up, Genre: Hiphop\n",
      "Name: Spotlight (feat. Usher), Genre: RnB\n",
      "------------------------------------------------------------------------------------------\n",
      "Raw input string: i forgot to take my meds this morning and i am predictably feeling irritable but less predictably i have been sitting here all day thinking ima kill a bitch if i dont get my hands on a chocolate cupcake\n",
      "Predicted sentiment: anger, /////// Actual sentiment: anger\n",
      "-----Song recommendations-----\n",
      "Name: Spot the Difference, Genre: Underground Rap\n",
      "Name: He Got Game, Genre: Dark Trap\n",
      "Name: My Girl - Remix, Genre: RnB\n",
      "------------------------------------------------------------------------------------------\n",
      "Raw input string: i know that i still feel kind of agitated but i also switch from feeling hot to feeling cold when i lay down\n",
      "Predicted sentiment: fear, /////// Actual sentiment: anger\n",
      "-----Song recommendations-----\n",
      "Name: BrokenTrees, Genre: Dark Trap\n",
      "Name: I Used to Love H.E.R., Genre: Underground Rap\n",
      "Name: BluntGutSonata, Genre: Underground Rap\n",
      "------------------------------------------------------------------------------------------\n",
      "Raw input string: i am at the bus stop and i hear the squeak of a baachan trolley i feel a little paranoid\n",
      "Predicted sentiment: fear, /////// Actual sentiment: fear\n",
      "-----Song recommendations-----\n",
      "Name: What's The Deal/ Half-A-Mil (Interlude), Genre: Hiphop\n",
      "Name: Rather Unique, Genre: Underground Rap\n",
      "Name: Amazing, Genre: Rap\n",
      "------------------------------------------------------------------------------------------\n",
      "Raw input string: i cant help but feel a little bit agitated\n",
      "Predicted sentiment: fear, /////// Actual sentiment: fear\n",
      "-----Song recommendations-----\n",
      "Name: U Like My Style, Genre: Hiphop\n",
      "Name: Game Is Stronger, Genre: Underground Rap\n",
      "Name: Zoom, Genre: Underground Rap\n",
      "------------------------------------------------------------------------------------------\n",
      "Raw input string: i feel strange talking about less serious things right now like cooking\n",
      "Predicted sentiment: fear, /////// Actual sentiment: fear\n",
      "-----Song recommendations-----\n",
      "Name: Xotic (feat. Future, Rich The Kid & Young Thug), Genre: Underground Rap\n",
      "Name: Da Grind (Featuring Apocalypse), Genre: Hiphop\n",
      "Name: Wet Em Up Pt. 2, Genre: Underground Rap\n",
      "------------------------------------------------------------------------------------------\n",
      "Raw input string: i feel them gnawing out holes all throughout my flawless soul\n",
      "Predicted sentiment: joy, /////// Actual sentiment: joy\n",
      "-----Song recommendations-----\n",
      "Name: Cheers (Drink To That), Genre: RnB\n",
      "Name: Bacon, Genre: Trap Metal\n",
      "Name: Dive In, Genre: RnB\n",
      "------------------------------------------------------------------------------------------\n",
      "Raw input string: im feeling lucky see the jumping google logo it may take time\n",
      "Predicted sentiment: joy, /////// Actual sentiment: joy\n",
      "-----Song recommendations-----\n",
      "Name: Duck n Creep, Genre: Dark Trap\n",
      "Name: Soulfood, Genre: Underground Rap\n",
      "Name: Amityville, Genre: Rap\n",
      "------------------------------------------------------------------------------------------\n",
      "Raw input string: i talk to you i feel like a lot gets resolved\n",
      "Predicted sentiment: joy, /////// Actual sentiment: joy\n",
      "-----Song recommendations-----\n",
      "Name: Trendsetting, Genre: Underground Rap\n",
      "Name: Killa Cam, Genre: Hiphop\n",
      "Name: Take My Chances, Genre: Emo\n",
      "------------------------------------------------------------------------------------------\n",
      "Raw input string: i still feel like im getting away with something naughty\n",
      "Predicted sentiment: love, /////// Actual sentiment: love\n",
      "-----Song recommendations-----\n",
      "Name: I Videre, Genre: Dark Trap\n",
      "Name: No God Above, No Devil Below, Genre: Trap Metal\n",
      "Name: Just Can’t Get Enough, Genre: RnB\n",
      "------------------------------------------------------------------------------------------\n",
      "Raw input string: i asked how does the long grass feel he said this long grass feels lovely\n",
      "Predicted sentiment: love, /////// Actual sentiment: love\n",
      "-----Song recommendations-----\n",
      "Name: Six Feet Under The Stars, Genre: Emo\n",
      "Name: Cyber Select, Genre: Dark Trap\n",
      "Name: So Far Away, Genre: Emo\n",
      "------------------------------------------------------------------------------------------\n",
      "Raw input string: i feel this gentle desire to treat my body differently like a pregnant woman whose in the process of giving birth to her new self\n",
      "Predicted sentiment: love, /////// Actual sentiment: love\n",
      "-----Song recommendations-----\n",
      "Name: HOMICIDE, Genre: Trap Metal\n",
      "Name: You Can't Look Back, Genre: Emo\n",
      "Name: Tear, Genre: Underground Rap\n",
      "------------------------------------------------------------------------------------------\n",
      "Raw input string: i don t talk about it a lot but a majority of my time is spent at work and at work i m feeling generally unhappy lonely frustrated and even a little bitter from past events that just won t go away\n",
      "Predicted sentiment: anger, /////// Actual sentiment: sadness\n",
      "-----Song recommendations-----\n",
      "Name: Hunting Season, Genre: Trap Metal\n",
      "Name: I'm Him (feat. Denzel Curry), Genre: Underground Rap\n",
      "Name: Shadowboxin', Genre: Underground Rap\n",
      "------------------------------------------------------------------------------------------\n",
      "Raw input string: i feel very lonely but thats alright nothing a little tv or music cant fix\n",
      "Predicted sentiment: sadness, /////// Actual sentiment: sadness\n",
      "-----Song recommendations-----\n",
      "Name: 18th Floor Balcony, Genre: Emo\n",
      "Name: Relic, Genre: Underground Rap\n",
      "Name: Rush Hour, Genre: Hiphop\n",
      "------------------------------------------------------------------------------------------\n",
      "Raw input string: i want to tell everyone exactly how im feeling but as soon as i start to i feel ten times more pathetic and stop talking\n",
      "Predicted sentiment: sadness, /////// Actual sentiment: sadness\n",
      "-----Song recommendations-----\n",
      "Name: Fun Girl, Genre: RnB\n",
      "Name: Jij Bent De Liefde, Genre: Emo\n",
      "Name: SPLIT DECISION, Genre: RnB\n",
      "------------------------------------------------------------------------------------------\n",
      "Raw input string: i feel as if im in some strange catholic vortex\n",
      "Predicted sentiment: surprise, /////// Actual sentiment: surprise\n",
      "-----Song recommendations-----\n",
      "Name: NXT MY BUSINESS, Genre: Trap Metal\n",
      "Name: Down For Me, Genre: Underground Rap\n",
      "Name: Bounce Back, Genre: Underground Rap\n",
      "------------------------------------------------------------------------------------------\n",
      "Raw input string: i still feel a little weird calling the ceo of my company bob but relented after he corrected me repeatedly\n",
      "Predicted sentiment: surprise, /////// Actual sentiment: surprise\n",
      "-----Song recommendations-----\n",
      "Name: My Blunt, Genre: Underground Rap\n",
      "Name: Scared Of Love, Genre: Dark Trap\n",
      "Name: OUT WEST (feat. Young Thug), Genre: Rap\n",
      "------------------------------------------------------------------------------------------\n",
      "Raw input string: i feel so amazing about taking this trip as i think ill finally be able to relax and feel comfortable at home and somehow just melt back into it\n",
      "Predicted sentiment: joy, /////// Actual sentiment: surprise\n",
      "-----Song recommendations-----\n",
      "Name: Warm Thoughts, Genre: Hiphop\n",
      "Name: Buttons - Final Edit Version, Genre: Pop\n",
      "Name: Aftershock, Genre: Dark Trap\n",
      "------------------------------------------------------------------------------------------\n"
     ]
    }
   ],
   "source": [
    "for ind, prob in enumerate(probs_trans):\n",
    "    print(f\"Raw input string: {test_df.iloc[ind]['data_raw']}\")\n",
    "    print(f'Predicted sentiment: {list(emo2center.keys())[prob][1]}, /////// Actual sentiment: {test_df.iloc[ind][\"label_raw\"]}')\n",
    "    chosen_df = list_clustered_dfs[prob]\n",
    "    print('-----Song recommendations-----')\n",
    "    chosen_df = chosen_df.sample(n=3)\n",
    "    for i, row in chosen_df.iterrows():\n",
    "        print(f'Name: {row[\"data\"]}, Genre: {row[\"genre\"]}')\n",
    "    print(\"---\" * 30)"
   ]
  },
  {
   "cell_type": "code",
   "execution_count": null,
   "metadata": {},
   "outputs": [],
   "source": []
  },
  {
   "cell_type": "code",
   "execution_count": 87,
   "metadata": {},
   "outputs": [
    {
     "name": "stdout",
     "output_type": "stream",
     "text": [
      "Raw input string: id kick myself into gear but i just feel irritable with no motivation what so ever\n",
      "Predicted sentiment: anger, /////// Actual sentiment: anger\n",
      "-----Song recommendations-----\n",
      "                                   data            genre\n",
      "21055                    Let's Get High           Hiphop\n",
      "8081                        Get Em High  Underground Rap\n",
      "6514   Yamborghini High (feat. Juicy J)  Underground Rap\n",
      "------------------------------------------------------------------------------------------\n",
      "Raw input string: i forgot to take my meds this morning and i am predictably feeling irritable but less predictably i have been sitting here all day thinking ima kill a bitch if i dont get my hands on a chocolate cupcake\n",
      "Predicted sentiment: anger, /////// Actual sentiment: anger\n",
      "-----Song recommendations-----\n",
      "                              data            genre\n",
      "15256              I Got the Juice              Rap\n",
      "5106   Godzilla (feat. Juice WRLD)  Underground Rap\n",
      "9473              Ill Street Blues  Underground Rap\n",
      "------------------------------------------------------------------------------------------\n",
      "Raw input string: i know that i still feel kind of agitated but i also switch from feeling hot to feeling cold when i lay down\n",
      "Predicted sentiment: fear, /////// Actual sentiment: anger\n",
      "-----Song recommendations-----\n",
      "                         data            genre\n",
      "343       We up (feat. Bones)        Dark Trap\n",
      "5114          Bone Collecting  Underground Rap\n",
      "457   Canal St. (feat. Bones)        Dark Trap\n",
      "------------------------------------------------------------------------------------------\n",
      "Raw input string: i am at the bus stop and i hear the squeak of a baachan trolley i feel a little paranoid\n",
      "Predicted sentiment: fear, /////// Actual sentiment: fear\n",
      "-----Song recommendations-----\n",
      "              data            genre\n",
      "452     Blue Waves        Dark Trap\n",
      "8140  Gucci Coffin  Underground Rap\n",
      "9565    Heat Waves  Underground Rap\n",
      "------------------------------------------------------------------------------------------\n",
      "Raw input string: i cant help but feel a little bit agitated\n",
      "Predicted sentiment: fear, /////// Actual sentiment: fear\n",
      "-----Song recommendations-----\n",
      "        data      genre\n",
      "4      Venom  Dark Trap\n",
      "15   D(R)Own  Dark Trap\n",
      "31  Bone Saw  Dark Trap\n",
      "------------------------------------------------------------------------------------------\n",
      "Raw input string: i feel strange talking about less serious things right now like cooking\n",
      "Predicted sentiment: fear, /////// Actual sentiment: fear\n",
      "-----Song recommendations-----\n",
      "             data      genre\n",
      "14135  goosebumps        Rap\n",
      "4           Venom  Dark Trap\n",
      "15        D(R)Own  Dark Trap\n",
      "------------------------------------------------------------------------------------------\n",
      "Raw input string: i feel them gnawing out holes all throughout my flawless soul\n",
      "Predicted sentiment: joy, /////// Actual sentiment: joy\n",
      "-----Song recommendations-----\n",
      "                                        data      genre\n",
      "43  Nightmare Choir (I Been Asleep Too Long)  Dark Trap\n",
      "65                      Memoirs Of A Gorilla  Dark Trap\n",
      "73                         Champion Of Death  Dark Trap\n",
      "------------------------------------------------------------------------------------------\n",
      "Raw input string: im feeling lucky see the jumping google logo it may take time\n",
      "Predicted sentiment: joy, /////// Actual sentiment: joy\n",
      "-----Song recommendations-----\n",
      "                                        data      genre\n",
      "43  Nightmare Choir (I Been Asleep Too Long)  Dark Trap\n",
      "65                      Memoirs Of A Gorilla  Dark Trap\n",
      "73                         Champion Of Death  Dark Trap\n",
      "------------------------------------------------------------------------------------------\n",
      "Raw input string: i talk to you i feel like a lot gets resolved\n",
      "Predicted sentiment: joy, /////// Actual sentiment: joy\n",
      "-----Song recommendations-----\n",
      "                                                    data            genre\n",
      "10382  Friday Night Cypher (feat. Tee Grizzley, Kash ...  Underground Rap\n",
      "43              Nightmare Choir (I Been Asleep Too Long)        Dark Trap\n",
      "65                                  Memoirs Of A Gorilla        Dark Trap\n",
      "------------------------------------------------------------------------------------------\n",
      "Raw input string: i still feel like im getting away with something naughty\n",
      "Predicted sentiment: love, /////// Actual sentiment: love\n",
      "-----Song recommendations-----\n",
      "                                             data      genre\n",
      "3   ProductOfDrugs (Prod. The Virus and Antidote)  Dark Trap\n",
      "11                         Troll Under the Bridge  Dark Trap\n",
      "24                                          Nails  Dark Trap\n",
      "------------------------------------------------------------------------------------------\n",
      "Raw input string: i asked how does the long grass feel he said this long grass feels lovely\n",
      "Predicted sentiment: love, /////// Actual sentiment: love\n",
      "-----Song recommendations-----\n",
      "                      data      genre\n",
      "11  Troll Under the Bridge  Dark Trap\n",
      "24                   Nails  Dark Trap\n",
      "27    Bang Ya Fucking Head  Dark Trap\n",
      "------------------------------------------------------------------------------------------\n",
      "Raw input string: i feel this gentle desire to treat my body differently like a pregnant woman whose in the process of giving birth to her new self\n",
      "Predicted sentiment: love, /////// Actual sentiment: love\n",
      "-----Song recommendations-----\n",
      "                                             data      genre\n",
      "3   ProductOfDrugs (Prod. The Virus and Antidote)  Dark Trap\n",
      "11                         Troll Under the Bridge  Dark Trap\n",
      "24                                          Nails  Dark Trap\n",
      "------------------------------------------------------------------------------------------\n",
      "Raw input string: i don t talk about it a lot but a majority of my time is spent at work and at work i m feeling generally unhappy lonely frustrated and even a little bitter from past events that just won t go away\n",
      "Predicted sentiment: anger, /////// Actual sentiment: sadness\n",
      "-----Song recommendations-----\n",
      "                         data            genre\n",
      "8652   Boss Bitch (Freestyle)  Underground Rap\n",
      "20659     Rolling Like a Boss           Hiphop\n",
      "21             High 'N Mighty        Dark Trap\n",
      "------------------------------------------------------------------------------------------\n",
      "Raw input string: i feel very lonely but thats alright nothing a little tv or music cant fix\n",
      "Predicted sentiment: sadness, /////// Actual sentiment: sadness\n",
      "-----Song recommendations-----\n",
      "                         data      genre\n",
      "16  Okay,ButThisIsTheLastTime  Dark Trap\n",
      "33                      OhNo!  Dark Trap\n",
      "37          FunnyToSeeYouHere  Dark Trap\n",
      "------------------------------------------------------------------------------------------\n",
      "Raw input string: i want to tell everyone exactly how im feeling but as soon as i start to i feel ten times more pathetic and stop talking\n",
      "Predicted sentiment: sadness, /////// Actual sentiment: sadness\n",
      "-----Song recommendations-----\n",
      "                      data      genre\n",
      "4016               Pathway  Dark Trap\n",
      "1376            Still Cold  Dark Trap\n",
      "1707  FROM WHERE IT'S COLD  Dark Trap\n",
      "------------------------------------------------------------------------------------------\n",
      "Raw input string: i feel as if im in some strange catholic vortex\n",
      "Predicted sentiment: surprise, /////// Actual sentiment: surprise\n",
      "-----Song recommendations-----\n",
      "                                           data            genre\n",
      "8946                            Murder Yxurself  Underground Rap\n",
      "21051  Murder One (feat. BG Knockout & Mc Eiht)           Hiphop\n",
      "0                           Mercury: Retrograde        Dark Trap\n",
      "------------------------------------------------------------------------------------------\n",
      "Raw input string: i still feel a little weird calling the ceo of my company bob but relented after he corrected me repeatedly\n",
      "Predicted sentiment: surprise, /////// Actual sentiment: surprise\n",
      "-----Song recommendations-----\n",
      "                  data      genre\n",
      "0  Mercury: Retrograde  Dark Trap\n",
      "1            Pathology  Dark Trap\n",
      "2             Symbiote  Dark Trap\n",
      "------------------------------------------------------------------------------------------\n",
      "Raw input string: i feel so amazing about taking this trip as i think ill finally be able to relax and feel comfortable at home and somehow just melt back into it\n",
      "Predicted sentiment: joy, /////// Actual sentiment: surprise\n",
      "-----Song recommendations-----\n",
      "                                           data      genre\n",
      "12752                          Bulletproof Love        Emo\n",
      "1225                     BULLETPROOF SHOWER CAP  Dark Trap\n",
      "43     Nightmare Choir (I Been Asleep Too Long)  Dark Trap\n",
      "------------------------------------------------------------------------------------------\n"
     ]
    }
   ],
   "source": [
    "for ind, prob in enumerate(probs_trans):\n",
    "    print(f\"Raw input string: {test_df.iloc[ind]['data_raw']}\")\n",
    "    print(f'Predicted sentiment: {list(emo2center.keys())[prob][1]}, /////// Actual sentiment: {test_df.iloc[ind][\"label_raw\"]}')\n",
    "    chosen_df = list_clustered_dfs[prob]\n",
    "    all_text = chosen_df.append({'clean_name': test_df.iloc[ind]['data_raw']}, ignore_index=True)\n",
    "    tfidf = TfidfVectorizer(stop_words='english')\n",
    "    tf_mat = tfidf.fit_transform(chosen_df['clean_name'])\n",
    "    cos_sim = cosine_similarity(tf_mat, tf_mat)\n",
    "    simi = list(enumerate(cos_sim[ind]))\n",
    "    simi = sorted(simi, key=lambda x: x[1], reverse=True)\n",
    "    best = simi[1:4]\n",
    "    inds = [x[0] for x in best]\n",
    "    print('-----Song recommendations-----')\n",
    "    print(chosen_df.iloc[inds][['data', 'genre']])\n",
    "    print(\"---\" * 30)"
   ]
  },
  {
   "cell_type": "code",
   "execution_count": null,
   "metadata": {},
   "outputs": [],
   "source": []
  }
 ],
 "metadata": {
  "interpreter": {
   "hash": "cc5422b12685f2e26a219cc1c3684d3fd12358109a1007c8dc1ebf1fad93bcb8"
  },
  "kernelspec": {
   "display_name": "Python 3.7.9 64-bit",
   "language": "python",
   "name": "python3"
  },
  "language_info": {
   "codemirror_mode": {
    "name": "ipython",
    "version": 3
   },
   "file_extension": ".py",
   "mimetype": "text/x-python",
   "name": "python",
   "nbconvert_exporter": "python",
   "pygments_lexer": "ipython3",
   "version": "3.7.9"
  },
  "orig_nbformat": 4
 },
 "nbformat": 4,
 "nbformat_minor": 2
}
