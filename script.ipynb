{
 "cells": [
  {
   "cell_type": "code",
   "execution_count": 3,
   "metadata": {},
   "outputs": [],
   "source": [
    "import pandas as pd\n",
    "import numpy as np\n",
    "import nltk\n",
    "from nltk.corpus import stopwords\n",
    "from nltk.stem import WordNetLemmatizer\n",
    "from keras.preprocessing.sequence import pad_sequences\n",
    "from keras.preprocessing.text import Tokenizer\n",
    "from sklearn.preprocessing import OneHotEncoder, LabelEncoder\n",
    "import tensorflow as tf"
   ]
  },
  {
   "cell_type": "code",
   "execution_count": null,
   "metadata": {},
   "outputs": [],
   "source": [
    "nltk.download('stopwords')\n",
    "nltk.download('wordnet')\n",
    "nltk.download('omw-1.4')\n"
   ]
  },
  {
   "cell_type": "code",
   "execution_count": 4,
   "metadata": {},
   "outputs": [
    {
     "data": {
      "text/plain": [
       "(20000, 2)"
      ]
     },
     "execution_count": 4,
     "metadata": {},
     "output_type": "execute_result"
    }
   ],
   "source": [
    "# read data\n",
    "train = pd.read_csv('./data/train.txt', delimiter=';', header=None, names=['data', 'label'])\n",
    "test = pd.read_csv('./data/test.txt', delimiter=';', header=None, names=['data', 'label'])\n",
    "val = pd.read_csv('./data/val.txt', delimiter=';', header=None, names=['data', 'label'])\n",
    "comb_data = pd.concat([train, val, test])\n",
    "comb_data.shape"
   ]
  },
  {
   "cell_type": "code",
   "execution_count": 5,
   "metadata": {},
   "outputs": [
    {
     "data": {
      "text/html": [
       "<div>\n",
       "<style scoped>\n",
       "    .dataframe tbody tr th:only-of-type {\n",
       "        vertical-align: middle;\n",
       "    }\n",
       "\n",
       "    .dataframe tbody tr th {\n",
       "        vertical-align: top;\n",
       "    }\n",
       "\n",
       "    .dataframe thead th {\n",
       "        text-align: right;\n",
       "    }\n",
       "</style>\n",
       "<table border=\"1\" class=\"dataframe\">\n",
       "  <thead>\n",
       "    <tr style=\"text-align: right;\">\n",
       "      <th></th>\n",
       "      <th>data</th>\n",
       "      <th>label</th>\n",
       "      <th>label_enc</th>\n",
       "    </tr>\n",
       "  </thead>\n",
       "  <tbody>\n",
       "    <tr>\n",
       "      <th>0</th>\n",
       "      <td>i didnt feel humiliated</td>\n",
       "      <td>sadness</td>\n",
       "      <td>4</td>\n",
       "    </tr>\n",
       "    <tr>\n",
       "      <th>1</th>\n",
       "      <td>i can go from feeling so hopeless to so damned...</td>\n",
       "      <td>sadness</td>\n",
       "      <td>4</td>\n",
       "    </tr>\n",
       "    <tr>\n",
       "      <th>2</th>\n",
       "      <td>im grabbing a minute to post i feel greedy wrong</td>\n",
       "      <td>anger</td>\n",
       "      <td>0</td>\n",
       "    </tr>\n",
       "    <tr>\n",
       "      <th>3</th>\n",
       "      <td>i am ever feeling nostalgic about the fireplac...</td>\n",
       "      <td>love</td>\n",
       "      <td>3</td>\n",
       "    </tr>\n",
       "    <tr>\n",
       "      <th>4</th>\n",
       "      <td>i am feeling grouchy</td>\n",
       "      <td>anger</td>\n",
       "      <td>0</td>\n",
       "    </tr>\n",
       "  </tbody>\n",
       "</table>\n",
       "</div>"
      ],
      "text/plain": [
       "                                                data    label  label_enc\n",
       "0                            i didnt feel humiliated  sadness          4\n",
       "1  i can go from feeling so hopeless to so damned...  sadness          4\n",
       "2   im grabbing a minute to post i feel greedy wrong    anger          0\n",
       "3  i am ever feeling nostalgic about the fireplac...     love          3\n",
       "4                               i am feeling grouchy    anger          0"
      ]
     },
     "execution_count": 5,
     "metadata": {},
     "output_type": "execute_result"
    }
   ],
   "source": [
    "le = LabelEncoder()\n",
    "comb_data['label_enc'] = le.fit_transform(comb_data['label'])\n",
    "comb_data.head()"
   ]
  },
  {
   "cell_type": "code",
   "execution_count": 6,
   "metadata": {},
   "outputs": [],
   "source": [
    "def tokenize_data(df):\n",
    "    sents = df['data']\n",
    "    tokenizer = nltk.RegexpTokenizer(r'\\w+')\n",
    "    tokens = []\n",
    "    for i in sents:\n",
    "        tokens.append(tokenizer.tokenize(i.lower()))\n",
    "    return tokens\n",
    "tokenized = tokenize_data(comb_data)"
   ]
  },
  {
   "cell_type": "code",
   "execution_count": 7,
   "metadata": {},
   "outputs": [],
   "source": [
    "def remove_stopwords(tokenized):\n",
    "    sw = set(stopwords.words('english'))\n",
    "    sw_removed = []\n",
    "    for sent in tokenized:\n",
    "        filtered = []\n",
    "        for word in sent:\n",
    "            if word not in sw:\n",
    "                filtered.append(word)\n",
    "        sw_removed.append(filtered)\n",
    "    return sw_removed\n",
    "stopwords_removed = remove_stopwords(tokenized)"
   ]
  },
  {
   "cell_type": "code",
   "execution_count": 8,
   "metadata": {},
   "outputs": [
    {
     "name": "stderr",
     "output_type": "stream",
     "text": [
      "[nltk_data] Downloading package omw-1.4 to\n",
      "[nltk_data]     C:\\Users\\tg584\\AppData\\Roaming\\nltk_data...\n",
      "[nltk_data]   Package omw-1.4 is already up-to-date!\n"
     ]
    }
   ],
   "source": [
    "def lemmatize(processed):\n",
    "    lemma = WordNetLemmatizer()\n",
    "    lemmatized = []\n",
    "    for sent in processed:\n",
    "        filtered = []\n",
    "        for word in sent:\n",
    "            filtered.append(lemma.lemmatize(word, pos='v'))\n",
    "        lemmatized.append(filtered)\n",
    "    return lemmatized\n",
    "lemmatized = lemmatize(stopwords_removed)"
   ]
  },
  {
   "cell_type": "code",
   "execution_count": 9,
   "metadata": {},
   "outputs": [],
   "source": [
    "final_data = []\n",
    "# each l is a list of processed words\n",
    "for l in lemmatized:\n",
    "    final_data.append(' '.join(l))\n",
    "d = {'data': final_data, 'label': comb_data['label_enc'], 'label_raw': comb_data['label']}\n",
    "final_df = pd.DataFrame(data=d)"
   ]
  },
  {
   "cell_type": "code",
   "execution_count": 10,
   "metadata": {},
   "outputs": [
    {
     "data": {
      "text/html": [
       "<div>\n",
       "<style scoped>\n",
       "    .dataframe tbody tr th:only-of-type {\n",
       "        vertical-align: middle;\n",
       "    }\n",
       "\n",
       "    .dataframe tbody tr th {\n",
       "        vertical-align: top;\n",
       "    }\n",
       "\n",
       "    .dataframe thead th {\n",
       "        text-align: right;\n",
       "    }\n",
       "</style>\n",
       "<table border=\"1\" class=\"dataframe\">\n",
       "  <thead>\n",
       "    <tr style=\"text-align: right;\">\n",
       "      <th></th>\n",
       "      <th>data</th>\n",
       "      <th>label</th>\n",
       "      <th>label_raw</th>\n",
       "    </tr>\n",
       "  </thead>\n",
       "  <tbody>\n",
       "    <tr>\n",
       "      <th>0</th>\n",
       "      <td>didnt feel humiliate</td>\n",
       "      <td>4</td>\n",
       "      <td>sadness</td>\n",
       "    </tr>\n",
       "    <tr>\n",
       "      <th>1</th>\n",
       "      <td>go feel hopeless damn hopeful around someone c...</td>\n",
       "      <td>4</td>\n",
       "      <td>sadness</td>\n",
       "    </tr>\n",
       "    <tr>\n",
       "      <th>2</th>\n",
       "      <td>im grab minute post feel greedy wrong</td>\n",
       "      <td>0</td>\n",
       "      <td>anger</td>\n",
       "    </tr>\n",
       "    <tr>\n",
       "      <th>3</th>\n",
       "      <td>ever feel nostalgic fireplace know still property</td>\n",
       "      <td>3</td>\n",
       "      <td>love</td>\n",
       "    </tr>\n",
       "    <tr>\n",
       "      <th>4</th>\n",
       "      <td>feel grouchy</td>\n",
       "      <td>0</td>\n",
       "      <td>anger</td>\n",
       "    </tr>\n",
       "  </tbody>\n",
       "</table>\n",
       "</div>"
      ],
      "text/plain": [
       "                                                data  label label_raw\n",
       "0                               didnt feel humiliate      4   sadness\n",
       "1  go feel hopeless damn hopeful around someone c...      4   sadness\n",
       "2              im grab minute post feel greedy wrong      0     anger\n",
       "3  ever feel nostalgic fireplace know still property      3      love\n",
       "4                                       feel grouchy      0     anger"
      ]
     },
     "execution_count": 10,
     "metadata": {},
     "output_type": "execute_result"
    }
   ],
   "source": [
    "final_df.head()"
   ]
  },
  {
   "cell_type": "code",
   "execution_count": 13,
   "metadata": {},
   "outputs": [
    {
     "name": "stdout",
     "output_type": "stream",
     "text": [
      "x:  (16000, 30)\n",
      "(4000, 30)\n",
      "y:  (16000, 6)\n",
      "(4000, 6)\n",
      "13660\n"
     ]
    }
   ],
   "source": [
    "from sklearn.model_selection import train_test_split\n",
    "def prepare_dataset(df, test_size=0.2, seq_len=30, embedding_dim=100):\n",
    "    xtrain, xtest, ytrain, ytest = train_test_split(df['data'], df['label'], test_size=test_size, random_state=42)\n",
    "    tokenizer = Tokenizer()\n",
    "    tokenizer.fit_on_texts(df['data'])\n",
    "    word_inds = tokenizer.word_index\n",
    "    vocab_size = len(word_inds) + 1\n",
    "\n",
    "    ytrain = tf.keras.utils.to_categorical(ytrain, dtype='uint8')\n",
    "    ytest = tf.keras.utils.to_categorical(ytest, dtype='uint8')\n",
    "\n",
    "    xtrain = pad_sequences(tokenizer.texts_to_sequences(xtrain), maxlen=seq_len)\n",
    "    xtest = pad_sequences(tokenizer.texts_to_sequences(xtest), maxlen=seq_len)\n",
    "    print('x: ', xtrain.shape)\n",
    "    print(xtest.shape)\n",
    "    print('y: ', ytrain.shape)\n",
    "    print(ytest.shape)\n",
    "    print(vocab_size)\n",
    "    return xtrain, xtest, ytrain, ytest, vocab_size\n",
    "\n",
    "xtrain, xtest, ytrain, ytest, vocab_size = prepare_dataset(final_df)"
   ]
  },
  {
   "cell_type": "markdown",
   "metadata": {},
   "source": [
    "## CNN classifier"
   ]
  },
  {
   "cell_type": "code",
   "execution_count": 14,
   "metadata": {},
   "outputs": [],
   "source": [
    "from tensorflow.keras.callbacks import ReduceLROnPlateau, EarlyStopping\n",
    "import matplotlib.pyplot as plt\n",
    "from tensorflow.keras.layers import Conv1D, Dense, GlobalMaxPooling1D, MaxPooling1D, Dropout, Embedding, Input, BatchNormalization\n",
    "from tensorflow.keras.optimizers import Adam\n",
    "import numpy as np\n",
    "from tensorflow.python.ops.gen_batch_ops import batch"
   ]
  },
  {
   "cell_type": "code",
   "execution_count": 15,
   "metadata": {},
   "outputs": [],
   "source": [
    "class CNN:\n",
    "    def __init__(self, vocab_size, batch_size=256, epochs=20, embedding_dim=100, seq_len=30):\n",
    "        self.embedding_dim = embedding_dim\n",
    "        self.batch_size = batch_size\n",
    "        self.epochs = epochs\n",
    "        self.seq_len = seq_len\n",
    "        self.early_stop = EarlyStopping(monitor='val_loss', mode='min', patience=5, verbose=0)\n",
    "        self.reduce_lr = ReduceLROnPlateau(monitor='val_loss', factor=0.1, min_lr=0.000001, verbose=0)\n",
    "        self.model = self.build_model(vocab_size)\n",
    "\n",
    "    def build_model(self, vocab_size):\n",
    "        inputs = Input(shape=(self.seq_len,), dtype=np.int32)\n",
    "        embedding = Embedding(input_dim=vocab_size, output_dim=self.embedding_dim, input_length=self.seq_len, trainable=True)\n",
    "        model = embedding(inputs)\n",
    "        model = Dropout(0.2)(model)\n",
    "\n",
    "        # conv block 1\n",
    "        model = Conv1D(128, 3, activation='relu')(model)\n",
    "        model = Conv1D(128, 3, activation='relu')(model)\n",
    "        model = MaxPooling1D()(model)\n",
    "\n",
    "        # conv block 2\n",
    "        model = Conv1D(64, 3, activation='relu')(model)\n",
    "        model = Conv1D(64, 3, activation='relu')(model)\n",
    "        model = Dropout(0.2)(model)\n",
    "\n",
    "        # conv block 3\n",
    "        model = Conv1D(64, 3, activation='relu')(model)\n",
    "        model = Conv1D(32, 3, activation='relu')(model)\n",
    "        model = GlobalMaxPooling1D()(model)\n",
    "\n",
    "        # FC\n",
    "        model = BatchNormalization()(model)\n",
    "        model = Dense(512, activation='relu')(model)\n",
    "        model = Dense(128, activation='relu')(model)\n",
    "        model = Dropout(0.2)(model)\n",
    "\n",
    "        # output\n",
    "        outputs = Dense(6, activation='softmax')(model)\n",
    "        return tf.keras.Model(inputs, outputs, name='cnn')\n",
    "\n",
    "    def summary(self):\n",
    "        return self.model.summary()\n",
    "\n",
    "    def train(self, xtrain, xtest, ytrain, ytest):\n",
    "        opt = Adam(learning_rate=0.01)\n",
    "        self.model.compile(optimizer=opt, loss='categorical_crossentropy', metrics=['accuracy', 'AUC'])\n",
    "        history = self.model.fit(xtrain, ytrain, batch_size=self.batch_size, epochs=self.epochs, validation_data=(xtest, ytest), callbacks=[self.early_stop, self.reduce_lr], verbose=1)\n",
    "        return history"
   ]
  },
  {
   "cell_type": "code",
   "execution_count": 16,
   "metadata": {},
   "outputs": [
    {
     "name": "stdout",
     "output_type": "stream",
     "text": [
      "Epoch 1/20\n",
      "63/63 [==============================] - 7s 29ms/step - loss: 1.5926 - accuracy: 0.3299 - auc: 0.7123 - val_loss: 1.5565 - val_accuracy: 0.3338 - val_auc: 0.7549\n",
      "Epoch 2/20\n",
      "63/63 [==============================] - 1s 14ms/step - loss: 1.1829 - accuracy: 0.4327 - auc: 0.8519 - val_loss: 2.0520 - val_accuracy: 0.3517 - val_auc: 0.7538\n",
      "Epoch 3/20\n",
      "63/63 [==============================] - 1s 15ms/step - loss: 0.9229 - accuracy: 0.5770 - auc: 0.9078 - val_loss: 1.8320 - val_accuracy: 0.5755 - val_auc: 0.8439\n",
      "Epoch 4/20\n",
      "63/63 [==============================] - 1s 15ms/step - loss: 0.5958 - accuracy: 0.8046 - auc: 0.9632 - val_loss: 0.7369 - val_accuracy: 0.7505 - val_auc: 0.9521\n",
      "Epoch 5/20\n",
      "63/63 [==============================] - 1s 14ms/step - loss: 0.4775 - accuracy: 0.8516 - auc: 0.9753 - val_loss: 1.2363 - val_accuracy: 0.6270 - val_auc: 0.8936\n",
      "Epoch 6/20\n",
      "63/63 [==============================] - 1s 14ms/step - loss: 0.4038 - accuracy: 0.8740 - auc: 0.9815 - val_loss: 0.6892 - val_accuracy: 0.8065 - val_auc: 0.9533\n",
      "Epoch 7/20\n",
      "63/63 [==============================] - 1s 15ms/step - loss: 0.3177 - accuracy: 0.9025 - auc: 0.9873 - val_loss: 0.5933 - val_accuracy: 0.8405 - val_auc: 0.9643\n",
      "Epoch 8/20\n",
      "63/63 [==============================] - 1s 15ms/step - loss: 0.2860 - accuracy: 0.9163 - auc: 0.9888 - val_loss: 0.5548 - val_accuracy: 0.8490 - val_auc: 0.9717\n",
      "Epoch 9/20\n",
      "63/63 [==============================] - 1s 15ms/step - loss: 0.2691 - accuracy: 0.9180 - auc: 0.9906 - val_loss: 0.5384 - val_accuracy: 0.8418 - val_auc: 0.9747\n",
      "Epoch 10/20\n",
      "63/63 [==============================] - 1s 15ms/step - loss: 0.2322 - accuracy: 0.9280 - auc: 0.9929 - val_loss: 0.5363 - val_accuracy: 0.8712 - val_auc: 0.9751\n",
      "Epoch 11/20\n",
      "63/63 [==============================] - 1s 15ms/step - loss: 0.1967 - accuracy: 0.9398 - auc: 0.9946 - val_loss: 0.4171 - val_accuracy: 0.8860 - val_auc: 0.9809\n",
      "Epoch 12/20\n",
      "63/63 [==============================] - 1s 15ms/step - loss: 0.1682 - accuracy: 0.9464 - auc: 0.9960 - val_loss: 0.4579 - val_accuracy: 0.8900 - val_auc: 0.9796\n",
      "Epoch 13/20\n",
      "63/63 [==============================] - 1s 15ms/step - loss: 0.1440 - accuracy: 0.9528 - auc: 0.9972 - val_loss: 0.5829 - val_accuracy: 0.8840 - val_auc: 0.9739\n",
      "Epoch 14/20\n",
      "63/63 [==============================] - 1s 14ms/step - loss: 0.1329 - accuracy: 0.9559 - auc: 0.9972 - val_loss: 0.5956 - val_accuracy: 0.7843 - val_auc: 0.9696\n",
      "Epoch 15/20\n",
      "63/63 [==============================] - 1s 15ms/step - loss: 0.1331 - accuracy: 0.9561 - auc: 0.9972 - val_loss: 0.5055 - val_accuracy: 0.8857 - val_auc: 0.9777\n",
      "Epoch 16/20\n",
      "63/63 [==============================] - 1s 15ms/step - loss: 0.1219 - accuracy: 0.9601 - auc: 0.9975 - val_loss: 0.5185 - val_accuracy: 0.8758 - val_auc: 0.9764\n"
     ]
    }
   ],
   "source": [
    "cnn = CNN(vocab_size)\n",
    "history = cnn.train(xtrain, xtest, ytrain, ytest)"
   ]
  },
  {
   "cell_type": "code",
   "execution_count": 17,
   "metadata": {},
   "outputs": [
    {
     "data": {
      "image/png": "[encoded data removed]",
      "text/plain": [
       "<Figure size 432x288 with 1 Axes>"
      ]
     },
     "metadata": {
      "needs_background": "light"
     },
     "output_type": "display_data"
    },
    {
     "data": {
      "text/plain": [
       "<Figure size 432x288 with 0 Axes>"
      ]
     },
     "metadata": {},
     "output_type": "display_data"
    }
   ],
   "source": [
    "import matplotlib.pyplot as plt\n",
    "def plot_outs(history, name):\n",
    "    plt.plot(history.history[name])\n",
    "    plt.plot(history.history['val_'+name])\n",
    "    plt.title('Training '+name)\n",
    "    plt.ylabel(name)\n",
    "    plt.xlabel('Epoch')\n",
    "    plt.legend(['Train', 'Validation'], loc='upper left')\n",
    "    plt.show()\n",
    "    plt.clf()\n",
    "\n",
    "plot_outs(history, 'accuracy')\n"
   ]
  },
  {
   "cell_type": "code",
   "execution_count": 18,
   "metadata": {},
   "outputs": [
    {
     "data": {
      "image/png": "[encoded data removed]",
      "text/plain": [
       "<Figure size 432x288 with 1 Axes>"
      ]
     },
     "metadata": {
      "needs_background": "light"
     },
     "output_type": "display_data"
    },
    {
     "data": {
      "text/plain": [
       "<Figure size 432x288 with 0 Axes>"
      ]
     },
     "metadata": {},
     "output_type": "display_data"
    }
   ],
   "source": [
    "plot_outs(history, 'auc')"
   ]
  },
  {
   "cell_type": "code",
   "execution_count": 19,
   "metadata": {},
   "outputs": [
    {
     "data": {
      "image/png": "[encoded data removed]",
      "text/plain": [
       "<Figure size 432x288 with 1 Axes>"
      ]
     },
     "metadata": {
      "needs_background": "light"
     },
     "output_type": "display_data"
    },
    {
     "data": {
      "text/plain": [
       "<Figure size 432x288 with 0 Axes>"
      ]
     },
     "metadata": {},
     "output_type": "display_data"
    }
   ],
   "source": [
    "plot_outs(history, 'loss')"
   ]
  },
  {
   "cell_type": "code",
   "execution_count": 122,
   "metadata": {},
   "outputs": [],
   "source": [
    "from tensorflow.keras.layers import LSTM, Bidirectional\n",
    "class RNN:\n",
    "    def __init__(self, vocab_size, batch_size=256, epochs=20, embedding_dim=100, seq_len=30):\n",
    "        self.embedding_dim = embedding_dim\n",
    "        self.batch_size = batch_size\n",
    "        self.epochs = epochs\n",
    "        self.seq_len = seq_len\n",
    "        self.early_stop = EarlyStopping(monitor='val_loss', mode='min', patience=5, verbose=0)\n",
    "        self.reduce_lr = ReduceLROnPlateau(monitor='val_loss', factor=0.1, min_lr=0.000001, verbose=0)\n",
    "        self.model = self.build_model(vocab_size)\n",
    "\n",
    "    def build_model(self, vocab_size):\n",
    "        inputs = Input(shape=(self.seq_len,), dtype=np.int32)\n",
    "        embedding = Embedding(input_dim=vocab_size, output_dim=self.embedding_dim, input_length=self.seq_len, trainable=True)\n",
    "        model = embedding(inputs)\n",
    "        model = Dropout(0.2)(model)\n",
    "\n",
    "        model = Bidirectional(LSTM(4, input_shape=(self.seq_len, 1), return_sequences=True))(model)\n",
    "        model = Dropout(0.2)(model)\n",
    "        model = Bidirectional(LSTM(4, return_sequences=True))(model)\n",
    "        model = Dropout(0.2)(model)\n",
    "        model = Bidirectional(LSTM(4, return_sequences=True))(model)\n",
    "        model = Dropout(0.2)(model)\n",
    "        model = Bidirectional(LSTM(4))(model)\n",
    "        outputs = Dense(6, activation='softmax')(model)\n",
    "        return tf.keras.Model(inputs, outputs)\n",
    "\n",
    "    def summary(self):\n",
    "        return self.model.summary()\n",
    "\n",
    "    def train(self, xtrain, xtest, ytrain, ytest):\n",
    "        opt = Adam(learning_rate=0.01)\n",
    "        self.model.compile(optimizer=opt, loss='categorical_crossentropy', metrics=['accuracy', 'AUC'])\n",
    "        history = self.model.fit(xtrain, ytrain, batch_size=self.batch_size, epochs=self.epochs, validation_data=(xtest, ytest), callbacks=[self.early_stop, self.reduce_lr])\n",
    "        return history\n"
   ]
  },
  {
   "cell_type": "code",
   "execution_count": 124,
   "metadata": {},
   "outputs": [
    {
     "name": "stdout",
     "output_type": "stream",
     "text": [
      "Epoch 1/20\n",
      "63/63 [==============================] - 23s 74ms/step - loss: 1.4784 - accuracy: 0.4581 - auc: 0.7586 - val_loss: 1.3411 - val_accuracy: 0.5270 - val_auc: 0.8067\n",
      "Epoch 2/20\n",
      "63/63 [==============================] - 3s 42ms/step - loss: 1.1328 - accuracy: 0.5990 - auc: 0.8685 - val_loss: 1.0526 - val_accuracy: 0.6357 - val_auc: 0.8873\n",
      "Epoch 3/20\n",
      "63/63 [==============================] - 3s 42ms/step - loss: 0.9027 - accuracy: 0.6741 - auc: 0.9176 - val_loss: 0.9214 - val_accuracy: 0.6417 - val_auc: 0.9155\n",
      "Epoch 4/20\n",
      "63/63 [==============================] - 3s 43ms/step - loss: 0.7355 - accuracy: 0.7218 - auc: 0.9444 - val_loss: 0.8230 - val_accuracy: 0.7085 - val_auc: 0.9322\n",
      "Epoch 5/20\n",
      "63/63 [==============================] - 3s 43ms/step - loss: 0.5893 - accuracy: 0.7949 - auc: 0.9648 - val_loss: 0.6740 - val_accuracy: 0.8012 - val_auc: 0.9514\n",
      "Epoch 6/20\n",
      "63/63 [==============================] - 3s 42ms/step - loss: 0.3953 - accuracy: 0.8765 - auc: 0.9821 - val_loss: 0.5091 - val_accuracy: 0.8493 - val_auc: 0.9704\n",
      "Epoch 7/20\n",
      "63/63 [==============================] - 3s 45ms/step - loss: 0.2873 - accuracy: 0.9152 - auc: 0.9892 - val_loss: 0.4635 - val_accuracy: 0.8708 - val_auc: 0.9746\n",
      "Epoch 8/20\n",
      "63/63 [==============================] - 3s 43ms/step - loss: 0.2191 - accuracy: 0.9371 - auc: 0.9930 - val_loss: 0.4727 - val_accuracy: 0.8763 - val_auc: 0.9737\n",
      "Epoch 9/20\n",
      "63/63 [==============================] - 3s 43ms/step - loss: 0.1838 - accuracy: 0.9469 - auc: 0.9943 - val_loss: 0.4458 - val_accuracy: 0.8760 - val_auc: 0.9771\n",
      "Epoch 10/20\n",
      "63/63 [==============================] - 3s 50ms/step - loss: 0.1540 - accuracy: 0.9547 - auc: 0.9960 - val_loss: 0.4428 - val_accuracy: 0.8760 - val_auc: 0.9771\n",
      "Epoch 11/20\n",
      "63/63 [==============================] - 3s 46ms/step - loss: 0.1349 - accuracy: 0.9604 - auc: 0.9964 - val_loss: 0.4537 - val_accuracy: 0.8838 - val_auc: 0.9765\n",
      "Epoch 12/20\n",
      "63/63 [==============================] - 3s 44ms/step - loss: 0.1113 - accuracy: 0.9674 - auc: 0.9973 - val_loss: 0.4648 - val_accuracy: 0.8733 - val_auc: 0.9757\n",
      "Epoch 13/20\n",
      "63/63 [==============================] - 4s 58ms/step - loss: 0.1073 - accuracy: 0.9676 - auc: 0.9977 - val_loss: 0.4603 - val_accuracy: 0.8795 - val_auc: 0.9770\n",
      "Epoch 14/20\n",
      "63/63 [==============================] - 5s 79ms/step - loss: 0.0989 - accuracy: 0.9693 - auc: 0.9982 - val_loss: 0.4764 - val_accuracy: 0.8817 - val_auc: 0.9757\n",
      "Epoch 15/20\n",
      "63/63 [==============================] - 7s 107ms/step - loss: 0.0822 - accuracy: 0.9758 - auc: 0.9983 - val_loss: 0.4846 - val_accuracy: 0.8838 - val_auc: 0.9732\n"
     ]
    }
   ],
   "source": [
    "lstm = RNN(vocab_size)\n",
    "history_lstm = lstm.train(xtrain, xtest, ytrain, ytest)"
   ]
  },
  {
   "cell_type": "code",
   "execution_count": 125,
   "metadata": {},
   "outputs": [
    {
     "data": {
      "image/png": "[encoded data removed]",
      "text/plain": [
       "<Figure size 432x288 with 1 Axes>"
      ]
     },
     "metadata": {
      "needs_background": "light"
     },
     "output_type": "display_data"
    },
    {
     "data": {
      "text/plain": [
       "<Figure size 432x288 with 0 Axes>"
      ]
     },
     "metadata": {},
     "output_type": "display_data"
    }
   ],
   "source": [
    "plot_outs(history_lstm, 'accuracy')"
   ]
  },
  {
   "cell_type": "code",
   "execution_count": 126,
   "metadata": {},
   "outputs": [
    {
     "data": {
      "image/png": "[encoded data removed]",
      "text/plain": [
       "<Figure size 432x288 with 1 Axes>"
      ]
     },
     "metadata": {
      "needs_background": "light"
     },
     "output_type": "display_data"
    },
    {
     "data": {
      "text/plain": [
       "<Figure size 432x288 with 0 Axes>"
      ]
     },
     "metadata": {},
     "output_type": "display_data"
    }
   ],
   "source": [
    "plot_outs(history_lstm, 'auc')"
   ]
  },
  {
   "cell_type": "code",
   "execution_count": 127,
   "metadata": {},
   "outputs": [
    {
     "data": {
      "image/png": "[encoded data removed]",
      "text/plain": [
       "<Figure size 432x288 with 1 Axes>"
      ]
     },
     "metadata": {
      "needs_background": "light"
     },
     "output_type": "display_data"
    },
    {
     "data": {
      "text/plain": [
       "<Figure size 432x288 with 0 Axes>"
      ]
     },
     "metadata": {},
     "output_type": "display_data"
    }
   ],
   "source": [
    "plot_outs(history_lstm, 'loss')"
   ]
  },
  {
   "cell_type": "markdown",
   "metadata": {},
   "source": [
    "# Results\n",
    "LSTM performs better, but CNN runs faster"
   ]
  },
  {
   "cell_type": "code",
   "execution_count": null,
   "metadata": {},
   "outputs": [],
   "source": []
  }
 ],
 "metadata": {
  "interpreter": {
   "hash": "cc5422b12685f2e26a219cc1c3684d3fd12358109a1007c8dc1ebf1fad93bcb8"
  },
  "kernelspec": {
   "display_name": "Python 3.7.9 64-bit",
   "language": "python",
   "name": "python3"
  },
  "language_info": {
   "codemirror_mode": {
    "name": "ipython",
    "version": 3
   },
   "file_extension": ".py",
   "mimetype": "text/x-python",
   "name": "python",
   "nbconvert_exporter": "python",
   "pygments_lexer": "ipython3",
   "version": "3.7.9"
  },
  "orig_nbformat": 4
 },
 "nbformat": 4,
 "nbformat_minor": 2
}
