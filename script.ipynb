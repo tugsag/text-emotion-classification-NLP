{
 "cells": [
  {
   "cell_type": "code",
   "execution_count": 1,
   "metadata": {},
   "outputs": [],
   "source": [
    "import pandas as pd\n",
    "import numpy as np\n",
    "import nltk\n",
    "from nltk.corpus import stopwords\n",
    "from nltk.stem import WordNetLemmatizer\n",
    "from keras.preprocessing.sequence import pad_sequences\n",
    "from keras.preprocessing.text import Tokenizer\n",
    "from sklearn.preprocessing import OneHotEncoder, LabelEncoder\n",
    "import tensorflow as tf"
   ]
  },
  {
   "cell_type": "code",
   "execution_count": 2,
   "metadata": {},
   "outputs": [
    {
     "name": "stderr",
     "output_type": "stream",
     "text": [
      "[nltk_data] Downloading package stopwords to\n",
      "[nltk_data]     C:\\Users\\tg584\\AppData\\Roaming\\nltk_data...\n",
      "[nltk_data]   Package stopwords is already up-to-date!\n",
      "[nltk_data] Downloading package wordnet to\n",
      "[nltk_data]     C:\\Users\\tg584\\AppData\\Roaming\\nltk_data...\n",
      "[nltk_data]   Package wordnet is already up-to-date!\n",
      "[nltk_data] Downloading package omw-1.4 to\n",
      "[nltk_data]     C:\\Users\\tg584\\AppData\\Roaming\\nltk_data...\n",
      "[nltk_data]   Package omw-1.4 is already up-to-date!\n"
     ]
    },
    {
     "data": {
      "text/plain": [
       "True"
      ]
     },
     "execution_count": 2,
     "metadata": {},
     "output_type": "execute_result"
    }
   ],
   "source": [
    "nltk.download('stopwords')\n",
    "nltk.download('wordnet')\n",
    "nltk.download('omw-1.4')\n"
   ]
  },
  {
   "cell_type": "code",
   "execution_count": 3,
   "metadata": {},
   "outputs": [
    {
     "data": {
      "text/plain": [
       "(20000, 2)"
      ]
     },
     "execution_count": 3,
     "metadata": {},
     "output_type": "execute_result"
    }
   ],
   "source": [
    "# read data\n",
    "train = pd.read_csv('./data/train.txt', delimiter=';', header=None, names=['data', 'label'])\n",
    "test = pd.read_csv('./data/test.txt', delimiter=';', header=None, names=['data', 'label'])\n",
    "val = pd.read_csv('./data/val.txt', delimiter=';', header=None, names=['data', 'label'])\n",
    "comb_data = pd.concat([train, val, test])\n",
    "comb_data.shape"
   ]
  },
  {
   "cell_type": "code",
   "execution_count": 4,
   "metadata": {},
   "outputs": [
    {
     "data": {
      "text/html": [
       "<div>\n",
       "<style scoped>\n",
       "    .dataframe tbody tr th:only-of-type {\n",
       "        vertical-align: middle;\n",
       "    }\n",
       "\n",
       "    .dataframe tbody tr th {\n",
       "        vertical-align: top;\n",
       "    }\n",
       "\n",
       "    .dataframe thead th {\n",
       "        text-align: right;\n",
       "    }\n",
       "</style>\n",
       "<table border=\"1\" class=\"dataframe\">\n",
       "  <thead>\n",
       "    <tr style=\"text-align: right;\">\n",
       "      <th></th>\n",
       "      <th>data</th>\n",
       "      <th>label</th>\n",
       "      <th>label_enc</th>\n",
       "    </tr>\n",
       "  </thead>\n",
       "  <tbody>\n",
       "    <tr>\n",
       "      <th>0</th>\n",
       "      <td>i didnt feel humiliated</td>\n",
       "      <td>sadness</td>\n",
       "      <td>4</td>\n",
       "    </tr>\n",
       "    <tr>\n",
       "      <th>1</th>\n",
       "      <td>i can go from feeling so hopeless to so damned...</td>\n",
       "      <td>sadness</td>\n",
       "      <td>4</td>\n",
       "    </tr>\n",
       "    <tr>\n",
       "      <th>2</th>\n",
       "      <td>im grabbing a minute to post i feel greedy wrong</td>\n",
       "      <td>anger</td>\n",
       "      <td>0</td>\n",
       "    </tr>\n",
       "    <tr>\n",
       "      <th>3</th>\n",
       "      <td>i am ever feeling nostalgic about the fireplac...</td>\n",
       "      <td>love</td>\n",
       "      <td>3</td>\n",
       "    </tr>\n",
       "    <tr>\n",
       "      <th>4</th>\n",
       "      <td>i am feeling grouchy</td>\n",
       "      <td>anger</td>\n",
       "      <td>0</td>\n",
       "    </tr>\n",
       "  </tbody>\n",
       "</table>\n",
       "</div>"
      ],
      "text/plain": [
       "                                                data    label  label_enc\n",
       "0                            i didnt feel humiliated  sadness          4\n",
       "1  i can go from feeling so hopeless to so damned...  sadness          4\n",
       "2   im grabbing a minute to post i feel greedy wrong    anger          0\n",
       "3  i am ever feeling nostalgic about the fireplac...     love          3\n",
       "4                               i am feeling grouchy    anger          0"
      ]
     },
     "execution_count": 4,
     "metadata": {},
     "output_type": "execute_result"
    }
   ],
   "source": [
    "le = LabelEncoder()\n",
    "comb_data['label_enc'] = le.fit_transform(comb_data['label'])\n",
    "comb_data.head()"
   ]
  },
  {
   "cell_type": "code",
   "execution_count": 5,
   "metadata": {},
   "outputs": [],
   "source": [
    "def tokenize_data(df):\n",
    "    sents = df['data']\n",
    "    tokenizer = nltk.RegexpTokenizer(r'\\w+')\n",
    "    tokens = []\n",
    "    for i in sents:\n",
    "        tokens.append(tokenizer.tokenize(i.lower()))\n",
    "    return tokens\n",
    "tokenized = tokenize_data(comb_data)"
   ]
  },
  {
   "cell_type": "code",
   "execution_count": 6,
   "metadata": {},
   "outputs": [],
   "source": [
    "def remove_stopwords(tokenized):\n",
    "    sw = set(stopwords.words('english'))\n",
    "    sw_removed = []\n",
    "    for sent in tokenized:\n",
    "        filtered = []\n",
    "        for word in sent:\n",
    "            if word not in sw:\n",
    "                filtered.append(word)\n",
    "        sw_removed.append(filtered)\n",
    "    return sw_removed\n",
    "stopwords_removed = remove_stopwords(tokenized)"
   ]
  },
  {
   "cell_type": "code",
   "execution_count": 7,
   "metadata": {},
   "outputs": [],
   "source": [
    "def lemmatize(processed):\n",
    "    lemma = WordNetLemmatizer()\n",
    "    lemmatized = []\n",
    "    for sent in processed:\n",
    "        filtered = []\n",
    "        for word in sent:\n",
    "            filtered.append(lemma.lemmatize(word, pos='v'))\n",
    "        lemmatized.append(filtered)\n",
    "    return lemmatized\n",
    "lemmatized = lemmatize(stopwords_removed)"
   ]
  },
  {
   "cell_type": "code",
   "execution_count": 8,
   "metadata": {},
   "outputs": [],
   "source": [
    "final_data = []\n",
    "# each l is a list of processed words\n",
    "for l in lemmatized:\n",
    "    final_data.append(' '.join(l))\n",
    "d = {'data': final_data, 'label': comb_data['label_enc'], 'label_raw': comb_data['label']}\n",
    "final_df = pd.DataFrame(data=d)"
   ]
  },
  {
   "cell_type": "code",
   "execution_count": 9,
   "metadata": {},
   "outputs": [
    {
     "data": {
      "text/html": [
       "<div>\n",
       "<style scoped>\n",
       "    .dataframe tbody tr th:only-of-type {\n",
       "        vertical-align: middle;\n",
       "    }\n",
       "\n",
       "    .dataframe tbody tr th {\n",
       "        vertical-align: top;\n",
       "    }\n",
       "\n",
       "    .dataframe thead th {\n",
       "        text-align: right;\n",
       "    }\n",
       "</style>\n",
       "<table border=\"1\" class=\"dataframe\">\n",
       "  <thead>\n",
       "    <tr style=\"text-align: right;\">\n",
       "      <th></th>\n",
       "      <th>data</th>\n",
       "      <th>label</th>\n",
       "      <th>label_raw</th>\n",
       "    </tr>\n",
       "  </thead>\n",
       "  <tbody>\n",
       "    <tr>\n",
       "      <th>0</th>\n",
       "      <td>didnt feel humiliate</td>\n",
       "      <td>4</td>\n",
       "      <td>sadness</td>\n",
       "    </tr>\n",
       "    <tr>\n",
       "      <th>1</th>\n",
       "      <td>go feel hopeless damn hopeful around someone c...</td>\n",
       "      <td>4</td>\n",
       "      <td>sadness</td>\n",
       "    </tr>\n",
       "    <tr>\n",
       "      <th>2</th>\n",
       "      <td>im grab minute post feel greedy wrong</td>\n",
       "      <td>0</td>\n",
       "      <td>anger</td>\n",
       "    </tr>\n",
       "    <tr>\n",
       "      <th>3</th>\n",
       "      <td>ever feel nostalgic fireplace know still property</td>\n",
       "      <td>3</td>\n",
       "      <td>love</td>\n",
       "    </tr>\n",
       "    <tr>\n",
       "      <th>4</th>\n",
       "      <td>feel grouchy</td>\n",
       "      <td>0</td>\n",
       "      <td>anger</td>\n",
       "    </tr>\n",
       "  </tbody>\n",
       "</table>\n",
       "</div>"
      ],
      "text/plain": [
       "                                                data  label label_raw\n",
       "0                               didnt feel humiliate      4   sadness\n",
       "1  go feel hopeless damn hopeful around someone c...      4   sadness\n",
       "2              im grab minute post feel greedy wrong      0     anger\n",
       "3  ever feel nostalgic fireplace know still property      3      love\n",
       "4                                       feel grouchy      0     anger"
      ]
     },
     "execution_count": 9,
     "metadata": {},
     "output_type": "execute_result"
    }
   ],
   "source": [
    "final_df.head()"
   ]
  },
  {
   "cell_type": "code",
   "execution_count": 10,
   "metadata": {},
   "outputs": [
    {
     "name": "stdout",
     "output_type": "stream",
     "text": [
      "x:  (16000, 30)\n",
      "(4000, 30)\n",
      "y:  (16000, 6)\n",
      "(4000, 6)\n",
      "13660\n"
     ]
    }
   ],
   "source": [
    "from sklearn.model_selection import train_test_split\n",
    "def prepare_dataset(df, test_size=0.2, seq_len=30, embedding_dim=100):\n",
    "    xtrain, xtest, ytrain, ytest = train_test_split(df['data'], df['label'], test_size=test_size, random_state=42)\n",
    "    tokenizer = Tokenizer()\n",
    "    tokenizer.fit_on_texts(df['data'])\n",
    "    word_inds = tokenizer.word_index\n",
    "    vocab_size = len(word_inds) + 1\n",
    "\n",
    "    ytrain = tf.keras.utils.to_categorical(ytrain, dtype='uint8')\n",
    "    ytest = tf.keras.utils.to_categorical(ytest, dtype='uint8')\n",
    "\n",
    "    xtrain = pad_sequences(tokenizer.texts_to_sequences(xtrain), maxlen=seq_len)\n",
    "    xtest = pad_sequences(tokenizer.texts_to_sequences(xtest), maxlen=seq_len)\n",
    "    print('x: ', xtrain.shape)\n",
    "    print(xtest.shape)\n",
    "    print('y: ', ytrain.shape)\n",
    "    print(ytest.shape)\n",
    "    print(vocab_size)\n",
    "    return xtrain, xtest, ytrain, ytest, vocab_size\n",
    "\n",
    "xtrain, xtest, ytrain, ytest, vocab_size = prepare_dataset(final_df)"
   ]
  },
  {
   "cell_type": "markdown",
   "metadata": {},
   "source": [
    "## CNN classifier"
   ]
  },
  {
   "cell_type": "code",
   "execution_count": 11,
   "metadata": {},
   "outputs": [],
   "source": [
    "from tensorflow.keras.callbacks import ReduceLROnPlateau, EarlyStopping\n",
    "import matplotlib.pyplot as plt\n",
    "from tensorflow.keras.layers import Conv1D, Dense, GlobalMaxPooling1D, MaxPooling1D, Dropout, Embedding, Input, BatchNormalization\n",
    "from tensorflow.keras.optimizers import Adam\n",
    "import numpy as np\n",
    "from tensorflow.python.ops.gen_batch_ops import batch"
   ]
  },
  {
   "cell_type": "code",
   "execution_count": 27,
   "metadata": {},
   "outputs": [],
   "source": [
    "class CNN:\n",
    "    def __init__(self, vocab_size, batch_size=256, epochs=20, embedding_dim=100, seq_len=30):\n",
    "        self.embedding_dim = embedding_dim\n",
    "        self.batch_size = batch_size\n",
    "        self.epochs = epochs\n",
    "        self.seq_len = seq_len\n",
    "        self.early_stop = EarlyStopping(monitor='val_loss', mode='min', patience=5, verbose=0)\n",
    "        self.reduce_lr = ReduceLROnPlateau(monitor='val_loss', factor=0.1, min_lr=0.000001, verbose=0)\n",
    "        self.model = self.build_model(vocab_size)\n",
    "\n",
    "    def build_model(self, vocab_size):\n",
    "        inputs = Input(shape=(self.seq_len,), dtype=np.int32)\n",
    "        embedding = Embedding(input_dim=vocab_size, output_dim=self.embedding_dim, input_length=self.seq_len, trainable=True)\n",
    "        model = embedding(inputs)\n",
    "        model = Dropout(0.2)(model)\n",
    "\n",
    "        # conv block 1\n",
    "        model = Conv1D(128, 3, activation='relu')(model)\n",
    "        model = Conv1D(128, 3, activation='relu')(model)\n",
    "        model = MaxPooling1D()(model)\n",
    "\n",
    "        # conv block 2\n",
    "        model = Conv1D(64, 3, activation='relu')(model)\n",
    "        model = Conv1D(64, 3, activation='relu')(model)\n",
    "        model = Dropout(0.2)(model)\n",
    "\n",
    "        # conv block 3\n",
    "        model = Conv1D(64, 3, activation='relu')(model)\n",
    "        model = Conv1D(32, 3, activation='relu')(model)\n",
    "        model = GlobalMaxPooling1D()(model)\n",
    "\n",
    "        # FC\n",
    "        model = BatchNormalization()(model)\n",
    "        model = Dense(512, activation='relu')(model)\n",
    "        model = Dense(128, activation='relu')(model)\n",
    "        model = Dropout(0.2)(model)\n",
    "\n",
    "        # output\n",
    "        outputs = Dense(6, activation='softmax')(model)\n",
    "        return tf.keras.Model(inputs, outputs, name='cnn')\n",
    "\n",
    "    def summary(self):\n",
    "        return self.model.summary()\n",
    "\n",
    "    def train(self, xtrain, xtest, ytrain, ytest):\n",
    "        opt = Adam(learning_rate=0.01)\n",
    "        self.model.compile(optimizer=opt, loss='categorical_crossentropy', metrics=['accuracy', 'AUC'])\n",
    "        history = self.model.fit(xtrain, ytrain, batch_size=self.batch_size, epochs=self.epochs, validation_data=(xtest, ytest), callbacks=[self.reduce_lr], verbose=1)\n",
    "        return history\n",
    "\n",
    "    def predict(self, data):\n",
    "        # assume data is already cleaned\n",
    "        return self.model.predict(data)"
   ]
  },
  {
   "cell_type": "code",
   "execution_count": 30,
   "metadata": {},
   "outputs": [
    {
     "name": "stdout",
     "output_type": "stream",
     "text": [
      "Epoch 1/20\n",
      "63/63 [==============================] - 2s 19ms/step - loss: 1.5267 - accuracy: 0.3856 - auc: 0.7411 - val_loss: 5.6392 - val_accuracy: 0.3997 - val_auc: 0.6744\n",
      "Epoch 2/20\n",
      "63/63 [==============================] - 1s 13ms/step - loss: 1.0253 - accuracy: 0.6007 - auc: 0.8931 - val_loss: 4.2628 - val_accuracy: 0.4882 - val_auc: 0.7042\n",
      "Epoch 3/20\n",
      "63/63 [==============================] - 1s 14ms/step - loss: 0.7621 - accuracy: 0.7086 - auc: 0.9426 - val_loss: 1.1881 - val_accuracy: 0.6938 - val_auc: 0.9156\n",
      "Epoch 4/20\n",
      "63/63 [==============================] - 1s 14ms/step - loss: 0.5356 - accuracy: 0.8139 - auc: 0.9708 - val_loss: 0.8595 - val_accuracy: 0.7325 - val_auc: 0.9406\n",
      "Epoch 5/20\n",
      "63/63 [==============================] - 1s 14ms/step - loss: 0.4403 - accuracy: 0.8501 - auc: 0.9795 - val_loss: 0.6996 - val_accuracy: 0.7427 - val_auc: 0.9563\n",
      "Epoch 6/20\n",
      "63/63 [==============================] - 1s 13ms/step - loss: 0.3602 - accuracy: 0.8816 - auc: 0.9853 - val_loss: 0.7447 - val_accuracy: 0.7430 - val_auc: 0.9551\n",
      "Epoch 7/20\n",
      "63/63 [==============================] - 1s 13ms/step - loss: 0.3268 - accuracy: 0.8927 - auc: 0.9878 - val_loss: 0.5369 - val_accuracy: 0.8282 - val_auc: 0.9714\n",
      "Epoch 8/20\n",
      "63/63 [==============================] - 1s 13ms/step - loss: 0.2933 - accuracy: 0.9029 - auc: 0.9898 - val_loss: 0.6358 - val_accuracy: 0.8175 - val_auc: 0.9655\n",
      "Epoch 9/20\n",
      "63/63 [==============================] - 1s 14ms/step - loss: 0.2503 - accuracy: 0.9179 - auc: 0.9921 - val_loss: 0.6739 - val_accuracy: 0.8235 - val_auc: 0.9650\n",
      "Epoch 10/20\n",
      "63/63 [==============================] - 1s 13ms/step - loss: 0.2159 - accuracy: 0.9276 - auc: 0.9938 - val_loss: 0.5260 - val_accuracy: 0.8685 - val_auc: 0.9757\n",
      "Epoch 11/20\n",
      "63/63 [==============================] - 1s 13ms/step - loss: 0.1967 - accuracy: 0.9342 - auc: 0.9947 - val_loss: 0.5494 - val_accuracy: 0.8798 - val_auc: 0.9745\n",
      "Epoch 12/20\n",
      "63/63 [==============================] - 2s 26ms/step - loss: 0.1854 - accuracy: 0.9376 - auc: 0.9955 - val_loss: 0.4463 - val_accuracy: 0.8800 - val_auc: 0.9796\n",
      "Epoch 13/20\n",
      "63/63 [==============================] - 2s 31ms/step - loss: 0.1737 - accuracy: 0.9430 - auc: 0.9955 - val_loss: 0.4907 - val_accuracy: 0.8802 - val_auc: 0.9789\n",
      "Epoch 14/20\n",
      "63/63 [==============================] - 2s 31ms/step - loss: 0.1622 - accuracy: 0.9445 - auc: 0.9962 - val_loss: 0.5870 - val_accuracy: 0.8660 - val_auc: 0.9717\n",
      "Epoch 15/20\n",
      "63/63 [==============================] - 2s 32ms/step - loss: 0.1368 - accuracy: 0.9532 - auc: 0.9971 - val_loss: 0.4976 - val_accuracy: 0.8758 - val_auc: 0.9777\n",
      "Epoch 16/20\n",
      "63/63 [==============================] - 2s 32ms/step - loss: 0.1299 - accuracy: 0.9555 - auc: 0.9971 - val_loss: 0.5568 - val_accuracy: 0.8687 - val_auc: 0.9751\n",
      "Epoch 17/20\n",
      "63/63 [==============================] - 2s 33ms/step - loss: 0.1173 - accuracy: 0.9594 - auc: 0.9978 - val_loss: 0.5257 - val_accuracy: 0.8850 - val_auc: 0.9792\n"
     ]
    }
   ],
   "source": [
    "cnn = CNN(vocab_size)\n",
    "history = cnn.train(xtrain, xtest, ytrain, ytest)"
   ]
  },
  {
   "cell_type": "code",
   "execution_count": 14,
   "metadata": {},
   "outputs": [
    {
     "data": {
      "image/png": "[encoded data removed]",
      "text/plain": [
       "<Figure size 432x288 with 1 Axes>"
      ]
     },
     "metadata": {
      "needs_background": "light"
     },
     "output_type": "display_data"
    },
    {
     "data": {
      "text/plain": [
       "<Figure size 432x288 with 0 Axes>"
      ]
     },
     "metadata": {},
     "output_type": "display_data"
    }
   ],
   "source": [
    "import matplotlib.pyplot as plt\n",
    "def plot_outs(history, name):\n",
    "    plt.plot(history.history[name])\n",
    "    plt.plot(history.history['val_'+name])\n",
    "    plt.title('Training '+name)\n",
    "    plt.ylabel(name)\n",
    "    plt.xlabel('Epoch')\n",
    "    plt.legend(['Train', 'Validation'], loc='upper left')\n",
    "    plt.show()\n",
    "    plt.clf()\n",
    "\n",
    "plot_outs(history, 'accuracy')\n"
   ]
  },
  {
   "cell_type": "code",
   "execution_count": 15,
   "metadata": {},
   "outputs": [
    {
     "data": {
      "image/png": "[encoded data removed]",
      "text/plain": [
       "<Figure size 432x288 with 1 Axes>"
      ]
     },
     "metadata": {
      "needs_background": "light"
     },
     "output_type": "display_data"
    },
    {
     "data": {
      "text/plain": [
       "<Figure size 432x288 with 0 Axes>"
      ]
     },
     "metadata": {},
     "output_type": "display_data"
    }
   ],
   "source": [
    "plot_outs(history, 'auc')"
   ]
  },
  {
   "cell_type": "code",
   "execution_count": 16,
   "metadata": {},
   "outputs": [
    {
     "data": {
      "image/png": "[encoded data removed]",
      "text/plain": [
       "<Figure size 432x288 with 1 Axes>"
      ]
     },
     "metadata": {
      "needs_background": "light"
     },
     "output_type": "display_data"
    },
    {
     "data": {
      "text/plain": [
       "<Figure size 432x288 with 0 Axes>"
      ]
     },
     "metadata": {},
     "output_type": "display_data"
    }
   ],
   "source": [
    "plot_outs(history, 'loss')"
   ]
  },
  {
   "cell_type": "code",
   "execution_count": 17,
   "metadata": {},
   "outputs": [],
   "source": [
    "from tensorflow.keras.layers import LSTM, Bidirectional\n",
    "class RNN:\n",
    "    def __init__(self, vocab_size, batch_size=256, epochs=20, embedding_dim=100, seq_len=30):\n",
    "        self.embedding_dim = embedding_dim\n",
    "        self.batch_size = batch_size\n",
    "        self.epochs = epochs\n",
    "        self.seq_len = seq_len\n",
    "        self.early_stop = EarlyStopping(monitor='val_loss', mode='min', patience=5, verbose=0)\n",
    "        self.reduce_lr = ReduceLROnPlateau(monitor='val_loss', factor=0.1, min_lr=0.000001, verbose=0)\n",
    "        self.model = self.build_model(vocab_size)\n",
    "\n",
    "    def build_model(self, vocab_size):\n",
    "        inputs = Input(shape=(self.seq_len,), dtype=np.int32)\n",
    "        embedding = Embedding(input_dim=vocab_size, output_dim=self.embedding_dim, input_length=self.seq_len, trainable=True)\n",
    "        model = embedding(inputs)\n",
    "        model = Dropout(0.2)(model)\n",
    "\n",
    "        model = Bidirectional(LSTM(4, input_shape=(self.seq_len, 1), return_sequences=True))(model)\n",
    "        model = Dropout(0.2)(model)\n",
    "        model = Bidirectional(LSTM(4, return_sequences=True))(model)\n",
    "        model = Dropout(0.2)(model)\n",
    "        model = Bidirectional(LSTM(4, return_sequences=True))(model)\n",
    "        model = Dropout(0.2)(model)\n",
    "        model = Bidirectional(LSTM(4))(model)\n",
    "        outputs = Dense(6, activation='softmax')(model)\n",
    "        return tf.keras.Model(inputs, outputs)\n",
    "\n",
    "    def summary(self):\n",
    "        return self.model.summary()\n",
    "\n",
    "    def train(self, xtrain, xtest, ytrain, ytest):\n",
    "        opt = Adam(learning_rate=0.01)\n",
    "        self.model.compile(optimizer=opt, loss='categorical_crossentropy', metrics=['accuracy', 'AUC'])\n",
    "        history = self.model.fit(xtrain, ytrain, batch_size=self.batch_size, epochs=self.epochs, validation_data=(xtest, ytest), callbacks=[self.early_stop, self.reduce_lr])\n",
    "        return history\n"
   ]
  },
  {
   "cell_type": "code",
   "execution_count": 18,
   "metadata": {},
   "outputs": [
    {
     "name": "stdout",
     "output_type": "stream",
     "text": [
      "Epoch 1/20\n",
      "63/63 [==============================] - 13s 73ms/step - loss: 1.4230 - accuracy: 0.4396 - auc: 0.7817 - val_loss: 1.0769 - val_accuracy: 0.6202 - val_auc: 0.8816\n",
      "Epoch 2/20\n",
      "63/63 [==============================] - 3s 40ms/step - loss: 0.8691 - accuracy: 0.6905 - auc: 0.9202 - val_loss: 0.8311 - val_accuracy: 0.7057 - val_auc: 0.9276\n",
      "Epoch 3/20\n",
      "63/63 [==============================] - 2s 37ms/step - loss: 0.6418 - accuracy: 0.7527 - auc: 0.9569 - val_loss: 0.6170 - val_accuracy: 0.7610 - val_auc: 0.9606\n",
      "Epoch 4/20\n",
      "63/63 [==============================] - 2s 37ms/step - loss: 0.4827 - accuracy: 0.7959 - auc: 0.9751 - val_loss: 0.5694 - val_accuracy: 0.7812 - val_auc: 0.9661\n",
      "Epoch 5/20\n",
      "63/63 [==============================] - 2s 37ms/step - loss: 0.3951 - accuracy: 0.8309 - auc: 0.9826 - val_loss: 0.5354 - val_accuracy: 0.8183 - val_auc: 0.9697\n",
      "Epoch 6/20\n",
      "63/63 [==============================] - 2s 37ms/step - loss: 0.2946 - accuracy: 0.9026 - auc: 0.9903 - val_loss: 0.4490 - val_accuracy: 0.8708 - val_auc: 0.9762\n",
      "Epoch 7/20\n",
      "63/63 [==============================] - 2s 37ms/step - loss: 0.2096 - accuracy: 0.9375 - auc: 0.9940 - val_loss: 0.4721 - val_accuracy: 0.8625 - val_auc: 0.9741\n",
      "Epoch 8/20\n",
      "63/63 [==============================] - 2s 37ms/step - loss: 0.1667 - accuracy: 0.9504 - auc: 0.9958 - val_loss: 0.4554 - val_accuracy: 0.8808 - val_auc: 0.9752\n",
      "Epoch 9/20\n",
      "63/63 [==============================] - 2s 38ms/step - loss: 0.1296 - accuracy: 0.9618 - auc: 0.9972 - val_loss: 0.4687 - val_accuracy: 0.8800 - val_auc: 0.9734\n",
      "Epoch 10/20\n",
      "63/63 [==============================] - 2s 38ms/step - loss: 0.1118 - accuracy: 0.9664 - auc: 0.9978 - val_loss: 0.4755 - val_accuracy: 0.8825 - val_auc: 0.9722\n",
      "Epoch 11/20\n",
      "63/63 [==============================] - 2s 37ms/step - loss: 0.0949 - accuracy: 0.9707 - auc: 0.9982 - val_loss: 0.4794 - val_accuracy: 0.8813 - val_auc: 0.9734\n"
     ]
    }
   ],
   "source": [
    "lstm = RNN(vocab_size)\n",
    "history_lstm = lstm.train(xtrain, xtest, ytrain, ytest)"
   ]
  },
  {
   "cell_type": "code",
   "execution_count": 19,
   "metadata": {},
   "outputs": [
    {
     "data": {
      "image/png": "[encoded data removed]",
      "text/plain": [
       "<Figure size 432x288 with 1 Axes>"
      ]
     },
     "metadata": {
      "needs_background": "light"
     },
     "output_type": "display_data"
    },
    {
     "data": {
      "text/plain": [
       "<Figure size 432x288 with 0 Axes>"
      ]
     },
     "metadata": {},
     "output_type": "display_data"
    }
   ],
   "source": [
    "plot_outs(history_lstm, 'accuracy')"
   ]
  },
  {
   "cell_type": "code",
   "execution_count": 20,
   "metadata": {},
   "outputs": [
    {
     "data": {
      "image/png": "[encoded data removed]",
      "text/plain": [
       "<Figure size 432x288 with 1 Axes>"
      ]
     },
     "metadata": {
      "needs_background": "light"
     },
     "output_type": "display_data"
    },
    {
     "data": {
      "text/plain": [
       "<Figure size 432x288 with 0 Axes>"
      ]
     },
     "metadata": {},
     "output_type": "display_data"
    }
   ],
   "source": [
    "plot_outs(history_lstm, 'auc')"
   ]
  },
  {
   "cell_type": "code",
   "execution_count": 21,
   "metadata": {},
   "outputs": [
    {
     "data": {
      "image/png": "[encoded data removed]",
      "text/plain": [
       "<Figure size 432x288 with 1 Axes>"
      ]
     },
     "metadata": {
      "needs_background": "light"
     },
     "output_type": "display_data"
    },
    {
     "data": {
      "text/plain": [
       "<Figure size 432x288 with 0 Axes>"
      ]
     },
     "metadata": {},
     "output_type": "display_data"
    }
   ],
   "source": [
    "plot_outs(history_lstm, 'loss')"
   ]
  },
  {
   "cell_type": "markdown",
   "metadata": {},
   "source": [
    "# Results\n",
    "LSTM performs better, but CNN runs faster"
   ]
  },
  {
   "cell_type": "code",
   "execution_count": 55,
   "metadata": {},
   "outputs": [
    {
     "data": {
      "text/plain": [
       "(4000, 6)"
      ]
     },
     "execution_count": 55,
     "metadata": {},
     "output_type": "execute_result"
    }
   ],
   "source": [
    "from sklearn.metrics import classification_report\n",
    "pred = cnn.predict(xtest)\n",
    "pred.shape"
   ]
  },
  {
   "cell_type": "code",
   "execution_count": 62,
   "metadata": {},
   "outputs": [
    {
     "data": {
      "text/plain": [
       "anger       2709\n",
       "fear        2373\n",
       "joy         6761\n",
       "love        1641\n",
       "sadness     5797\n",
       "surprise     719\n",
       "Name: label_raw, dtype: int64"
      ]
     },
     "execution_count": 62,
     "metadata": {},
     "output_type": "execute_result"
    }
   ],
   "source": [
    "final_df['label_raw'].value_counts().sort_index()"
   ]
  },
  {
   "cell_type": "code",
   "execution_count": 63,
   "metadata": {},
   "outputs": [],
   "source": [
    "cm = classification_report(np.argmax(ytest, axis=1), np.argmax(pred, axis=1), target_names=['anger', 'fear', 'joy', 'love', 'sadness', 'surprise'])"
   ]
  },
  {
   "cell_type": "code",
   "execution_count": 64,
   "metadata": {},
   "outputs": [
    {
     "name": "stdout",
     "output_type": "stream",
     "text": [
      "              precision    recall  f1-score   support\n",
      "\n",
      "       anger       0.87      0.89      0.88       540\n",
      "        fear       0.82      0.78      0.80       442\n",
      "         joy       0.93      0.91      0.92      1335\n",
      "        love       0.68      0.79      0.73       332\n",
      "     sadness       0.96      0.93      0.95      1195\n",
      "    surprise       0.68      0.79      0.73       156\n",
      "\n",
      "    accuracy                           0.89      4000\n",
      "   macro avg       0.82      0.85      0.84      4000\n",
      "weighted avg       0.89      0.89      0.89      4000\n",
      "\n"
     ]
    }
   ],
   "source": [
    "print(cm)"
   ]
  },
  {
   "cell_type": "code",
   "execution_count": null,
   "metadata": {},
   "outputs": [],
   "source": []
  }
 ],
 "metadata": {
  "interpreter": {
   "hash": "cc5422b12685f2e26a219cc1c3684d3fd12358109a1007c8dc1ebf1fad93bcb8"
  },
  "kernelspec": {
   "display_name": "Python 3.7.9 64-bit",
   "language": "python",
   "name": "python3"
  },
  "language_info": {
   "codemirror_mode": {
    "name": "ipython",
    "version": 3
   },
   "file_extension": ".py",
   "mimetype": "text/x-python",
   "name": "python",
   "nbconvert_exporter": "python",
   "pygments_lexer": "ipython3",
   "version": "3.7.9"
  },
  "orig_nbformat": 4
 },
 "nbformat": 4,
 "nbformat_minor": 2
}
