{
 "cells": [
  {
   "cell_type": "code",
   "execution_count": 1,
   "metadata": {},
   "outputs": [],
   "source": [
    "import pandas as pd\n",
    "import numpy as np\n",
    "import nltk\n",
    "from nltk.corpus import stopwords\n",
    "from nltk.stem import WordNetLemmatizer\n",
    "from keras.preprocessing.sequence import pad_sequences\n",
    "from keras.preprocessing.text import Tokenizer\n",
    "from sklearn.preprocessing import OneHotEncoder, LabelEncoder\n",
    "import tensorflow as tf"
   ]
  },
  {
   "cell_type": "code",
   "execution_count": 2,
   "metadata": {},
   "outputs": [],
   "source": [
    "# nltk.download('stopwords')\n",
    "# nltk.download('wordnet')\n",
    "# nltk.download('omw-1.4')\n"
   ]
  },
  {
   "cell_type": "code",
   "execution_count": 3,
   "metadata": {},
   "outputs": [
    {
     "data": {
      "text/plain": [
       "(20000, 2)"
      ]
     },
     "execution_count": 3,
     "metadata": {},
     "output_type": "execute_result"
    }
   ],
   "source": [
    "# read data\n",
    "train = pd.read_csv('./data/train.txt', delimiter=';', header=None, names=['data', 'label'])\n",
    "test = pd.read_csv('./data/test.txt', delimiter=';', header=None, names=['data', 'label'])\n",
    "val = pd.read_csv('./data/val.txt', delimiter=';', header=None, names=['data', 'label'])\n",
    "comb_data = pd.concat([train, val, test])\n",
    "comb_data.shape"
   ]
  },
  {
   "cell_type": "code",
   "execution_count": 4,
   "metadata": {},
   "outputs": [
    {
     "data": {
      "text/html": [
       "<div>\n",
       "<style scoped>\n",
       "    .dataframe tbody tr th:only-of-type {\n",
       "        vertical-align: middle;\n",
       "    }\n",
       "\n",
       "    .dataframe tbody tr th {\n",
       "        vertical-align: top;\n",
       "    }\n",
       "\n",
       "    .dataframe thead th {\n",
       "        text-align: right;\n",
       "    }\n",
       "</style>\n",
       "<table border=\"1\" class=\"dataframe\">\n",
       "  <thead>\n",
       "    <tr style=\"text-align: right;\">\n",
       "      <th></th>\n",
       "      <th>data</th>\n",
       "      <th>label</th>\n",
       "      <th>label_enc</th>\n",
       "    </tr>\n",
       "  </thead>\n",
       "  <tbody>\n",
       "    <tr>\n",
       "      <th>0</th>\n",
       "      <td>i didnt feel humiliated</td>\n",
       "      <td>sadness</td>\n",
       "      <td>4</td>\n",
       "    </tr>\n",
       "    <tr>\n",
       "      <th>1</th>\n",
       "      <td>i can go from feeling so hopeless to so damned...</td>\n",
       "      <td>sadness</td>\n",
       "      <td>4</td>\n",
       "    </tr>\n",
       "    <tr>\n",
       "      <th>2</th>\n",
       "      <td>im grabbing a minute to post i feel greedy wrong</td>\n",
       "      <td>anger</td>\n",
       "      <td>0</td>\n",
       "    </tr>\n",
       "    <tr>\n",
       "      <th>3</th>\n",
       "      <td>i am ever feeling nostalgic about the fireplac...</td>\n",
       "      <td>love</td>\n",
       "      <td>3</td>\n",
       "    </tr>\n",
       "    <tr>\n",
       "      <th>4</th>\n",
       "      <td>i am feeling grouchy</td>\n",
       "      <td>anger</td>\n",
       "      <td>0</td>\n",
       "    </tr>\n",
       "  </tbody>\n",
       "</table>\n",
       "</div>"
      ],
      "text/plain": [
       "                                                data    label  label_enc\n",
       "0                            i didnt feel humiliated  sadness          4\n",
       "1  i can go from feeling so hopeless to so damned...  sadness          4\n",
       "2   im grabbing a minute to post i feel greedy wrong    anger          0\n",
       "3  i am ever feeling nostalgic about the fireplac...     love          3\n",
       "4                               i am feeling grouchy    anger          0"
      ]
     },
     "execution_count": 4,
     "metadata": {},
     "output_type": "execute_result"
    }
   ],
   "source": [
    "le = LabelEncoder()\n",
    "comb_data['label_enc'] = le.fit_transform(comb_data['label'])\n",
    "comb_data.head()"
   ]
  },
  {
   "cell_type": "code",
   "execution_count": 5,
   "metadata": {},
   "outputs": [],
   "source": [
    "def tokenize_data(df):\n",
    "    sents = df['data']\n",
    "    tokenizer = nltk.RegexpTokenizer(r'\\w+')\n",
    "    tokens = []\n",
    "    for i in sents:\n",
    "        tokens.append(tokenizer.tokenize(i.lower()))\n",
    "    return tokens\n",
    "tokenized = tokenize_data(comb_data)"
   ]
  },
  {
   "cell_type": "code",
   "execution_count": 6,
   "metadata": {},
   "outputs": [],
   "source": [
    "def remove_stopwords(tokenized):\n",
    "    sw = set(stopwords.words('english'))\n",
    "    sw_removed = []\n",
    "    for sent in tokenized:\n",
    "        filtered = []\n",
    "        for word in sent:\n",
    "            if word not in sw:\n",
    "                filtered.append(word)\n",
    "        sw_removed.append(filtered)\n",
    "    return sw_removed\n",
    "stopwords_removed = remove_stopwords(tokenized)"
   ]
  },
  {
   "cell_type": "code",
   "execution_count": 7,
   "metadata": {},
   "outputs": [],
   "source": [
    "def lemmatize(processed):\n",
    "    lemma = WordNetLemmatizer()\n",
    "    lemmatized = []\n",
    "    for sent in processed:\n",
    "        filtered = []\n",
    "        for word in sent:\n",
    "            filtered.append(lemma.lemmatize(word, pos='v'))\n",
    "        lemmatized.append(filtered)\n",
    "    return lemmatized\n",
    "lemmatized = lemmatize(stopwords_removed)"
   ]
  },
  {
   "cell_type": "code",
   "execution_count": 8,
   "metadata": {},
   "outputs": [],
   "source": [
    "final_data = []\n",
    "# each l is a list of processed words\n",
    "for l in lemmatized:\n",
    "    final_data.append(' '.join(l))\n",
    "d = {'data': final_data, 'label': comb_data['label_enc'], 'label_raw': comb_data['label']}\n",
    "final_df = pd.DataFrame(data=d)"
   ]
  },
  {
   "cell_type": "code",
   "execution_count": 9,
   "metadata": {},
   "outputs": [
    {
     "data": {
      "text/html": [
       "<div>\n",
       "<style scoped>\n",
       "    .dataframe tbody tr th:only-of-type {\n",
       "        vertical-align: middle;\n",
       "    }\n",
       "\n",
       "    .dataframe tbody tr th {\n",
       "        vertical-align: top;\n",
       "    }\n",
       "\n",
       "    .dataframe thead th {\n",
       "        text-align: right;\n",
       "    }\n",
       "</style>\n",
       "<table border=\"1\" class=\"dataframe\">\n",
       "  <thead>\n",
       "    <tr style=\"text-align: right;\">\n",
       "      <th></th>\n",
       "      <th>data</th>\n",
       "      <th>label</th>\n",
       "      <th>label_raw</th>\n",
       "    </tr>\n",
       "  </thead>\n",
       "  <tbody>\n",
       "    <tr>\n",
       "      <th>0</th>\n",
       "      <td>didnt feel humiliate</td>\n",
       "      <td>4</td>\n",
       "      <td>sadness</td>\n",
       "    </tr>\n",
       "    <tr>\n",
       "      <th>1</th>\n",
       "      <td>go feel hopeless damn hopeful around someone c...</td>\n",
       "      <td>4</td>\n",
       "      <td>sadness</td>\n",
       "    </tr>\n",
       "    <tr>\n",
       "      <th>2</th>\n",
       "      <td>im grab minute post feel greedy wrong</td>\n",
       "      <td>0</td>\n",
       "      <td>anger</td>\n",
       "    </tr>\n",
       "    <tr>\n",
       "      <th>3</th>\n",
       "      <td>ever feel nostalgic fireplace know still property</td>\n",
       "      <td>3</td>\n",
       "      <td>love</td>\n",
       "    </tr>\n",
       "    <tr>\n",
       "      <th>4</th>\n",
       "      <td>feel grouchy</td>\n",
       "      <td>0</td>\n",
       "      <td>anger</td>\n",
       "    </tr>\n",
       "  </tbody>\n",
       "</table>\n",
       "</div>"
      ],
      "text/plain": [
       "                                                data  label label_raw\n",
       "0                               didnt feel humiliate      4   sadness\n",
       "1  go feel hopeless damn hopeful around someone c...      4   sadness\n",
       "2              im grab minute post feel greedy wrong      0     anger\n",
       "3  ever feel nostalgic fireplace know still property      3      love\n",
       "4                                       feel grouchy      0     anger"
      ]
     },
     "execution_count": 9,
     "metadata": {},
     "output_type": "execute_result"
    }
   ],
   "source": [
    "final_df.head()"
   ]
  },
  {
   "cell_type": "code",
   "execution_count": 10,
   "metadata": {},
   "outputs": [
    {
     "name": "stdout",
     "output_type": "stream",
     "text": [
      "x:  (16000, 30)\n",
      "(4000, 30)\n",
      "y:  (16000, 6)\n",
      "(4000, 6)\n",
      "13660\n"
     ]
    }
   ],
   "source": [
    "from sklearn.model_selection import train_test_split\n",
    "def prepare_dataset(df, test_size=0.2, seq_len=30, embedding_dim=100):\n",
    "    xtrain, xtest, ytrain, ytest = train_test_split(df['data'], df['label'], test_size=test_size, random_state=42)\n",
    "    tokenizer = Tokenizer()\n",
    "    tokenizer.fit_on_texts(df['data'])\n",
    "    word_inds = tokenizer.word_index\n",
    "    vocab_size = len(word_inds) + 1\n",
    "\n",
    "    ytrain = tf.keras.utils.to_categorical(ytrain, dtype='uint8')\n",
    "    ytest = tf.keras.utils.to_categorical(ytest, dtype='uint8')\n",
    "\n",
    "    xtrain = pad_sequences(tokenizer.texts_to_sequences(xtrain), maxlen=seq_len)\n",
    "    xtest = pad_sequences(tokenizer.texts_to_sequences(xtest), maxlen=seq_len)\n",
    "    print('x: ', xtrain.shape)\n",
    "    print(xtest.shape)\n",
    "    print('y: ', ytrain.shape)\n",
    "    print(ytest.shape)\n",
    "    print(vocab_size)\n",
    "    return xtrain, xtest, ytrain, ytest, vocab_size\n",
    "\n",
    "xtrain, xtest, ytrain, ytest, vocab_size = prepare_dataset(final_df)"
   ]
  },
  {
   "cell_type": "markdown",
   "metadata": {},
   "source": [
    "## CNN classifier"
   ]
  },
  {
   "cell_type": "code",
   "execution_count": 11,
   "metadata": {},
   "outputs": [],
   "source": [
    "from tensorflow.keras.callbacks import ReduceLROnPlateau, EarlyStopping\n",
    "import matplotlib.pyplot as plt\n",
    "from tensorflow.keras.layers import Conv1D, Dense, GlobalMaxPooling1D, MaxPooling1D, Dropout, Embedding, Input, BatchNormalization, GlobalAveragePooling1D\n",
    "from tensorflow.keras.optimizers import Adam\n",
    "import numpy as np\n",
    "from tensorflow.python.ops.gen_batch_ops import batch"
   ]
  },
  {
   "cell_type": "code",
   "execution_count": 12,
   "metadata": {},
   "outputs": [],
   "source": [
    "class CNN:\n",
    "    def __init__(self, vocab_size, batch_size=256, epochs=20, embedding_dim=100, seq_len=30):\n",
    "        self.embedding_dim = embedding_dim\n",
    "        self.batch_size = batch_size\n",
    "        self.epochs = epochs\n",
    "        self.seq_len = seq_len\n",
    "        self.early_stop = EarlyStopping(monitor='val_loss', mode='min', patience=5, verbose=0)\n",
    "        self.reduce_lr = ReduceLROnPlateau(monitor='val_loss', factor=0.1, min_lr=0.000001, verbose=0)\n",
    "        self.model = self.build_model(vocab_size)\n",
    "\n",
    "    def build_model(self, vocab_size):\n",
    "        inputs = Input(shape=(self.seq_len,), dtype=np.int32)\n",
    "        embedding = Embedding(input_dim=vocab_size, output_dim=self.embedding_dim, input_length=self.seq_len, trainable=True)\n",
    "        model = embedding(inputs)\n",
    "        model = Dropout(0.2)(model)\n",
    "\n",
    "        # conv block 1\n",
    "        model = Conv1D(128, 3, activation='relu')(model)\n",
    "        model = Conv1D(128, 3, activation='relu')(model)\n",
    "        model = MaxPooling1D()(model)\n",
    "\n",
    "        # conv block 2\n",
    "        model = Conv1D(64, 3, activation='relu')(model)\n",
    "        model = Conv1D(64, 3, activation='relu')(model)\n",
    "        model = Dropout(0.2)(model)\n",
    "\n",
    "        # conv block 3\n",
    "        model = Conv1D(64, 3, activation='relu')(model)\n",
    "        model = Conv1D(32, 3, activation='relu')(model)\n",
    "        model = GlobalMaxPooling1D()(model)\n",
    "\n",
    "        # FC\n",
    "        model = BatchNormalization()(model)\n",
    "        model = Dense(512, activation='relu')(model)\n",
    "        model = Dense(128, activation='relu')(model)\n",
    "        model = Dropout(0.2)(model)\n",
    "\n",
    "        # output\n",
    "        outputs = Dense(6, activation='softmax')(model)\n",
    "        return tf.keras.Model(inputs, outputs, name='cnn')\n",
    "\n",
    "    def summary(self):\n",
    "        return self.model.summary()\n",
    "\n",
    "    def train(self, xtrain, xtest, ytrain, ytest):\n",
    "        opt = Adam(learning_rate=0.01)\n",
    "        self.model.compile(optimizer=opt, loss='categorical_crossentropy', metrics=['accuracy', 'AUC'])\n",
    "        history = self.model.fit(xtrain, ytrain, batch_size=self.batch_size, epochs=self.epochs, validation_data=(xtest, ytest), callbacks=[self.reduce_lr], verbose=1)\n",
    "        return history\n",
    "\n",
    "    def predict(self, data):\n",
    "        # assume data is already cleaned\n",
    "        return self.model.predict(data)"
   ]
  },
  {
   "cell_type": "code",
   "execution_count": 13,
   "metadata": {},
   "outputs": [
    {
     "name": "stdout",
     "output_type": "stream",
     "text": [
      "Epoch 1/20\n",
      "63/63 [==============================] - 8s 19ms/step - loss: 1.4375 - accuracy: 0.4370 - auc: 0.7763 - val_loss: 3.6078 - val_accuracy: 0.4392 - val_auc: 0.6945\n",
      "Epoch 2/20\n",
      "63/63 [==============================] - 1s 10ms/step - loss: 0.9666 - accuracy: 0.6379 - auc: 0.9062 - val_loss: 2.1072 - val_accuracy: 0.4888 - val_auc: 0.7708\n",
      "Epoch 3/20\n",
      "63/63 [==============================] - 1s 9ms/step - loss: 0.8209 - accuracy: 0.6911 - auc: 0.9324 - val_loss: 1.6294 - val_accuracy: 0.3525 - val_auc: 0.7944\n",
      "Epoch 4/20\n",
      "63/63 [==============================] - 1s 10ms/step - loss: 0.6825 - accuracy: 0.7526 - auc: 0.9531 - val_loss: 0.8374 - val_accuracy: 0.6777 - val_auc: 0.9311\n",
      "Epoch 5/20\n",
      "63/63 [==============================] - 1s 10ms/step - loss: 0.5746 - accuracy: 0.8051 - auc: 0.9659 - val_loss: 3.1903 - val_accuracy: 0.5383 - val_auc: 0.7890\n",
      "Epoch 6/20\n",
      "63/63 [==============================] - 1s 10ms/step - loss: 0.5222 - accuracy: 0.8254 - auc: 0.9711 - val_loss: 0.7852 - val_accuracy: 0.7570 - val_auc: 0.9497\n",
      "Epoch 7/20\n",
      "63/63 [==============================] - 1s 10ms/step - loss: 0.4289 - accuracy: 0.8594 - auc: 0.9800 - val_loss: 0.6447 - val_accuracy: 0.7778 - val_auc: 0.9619\n",
      "Epoch 8/20\n",
      "63/63 [==============================] - 1s 10ms/step - loss: 0.4081 - accuracy: 0.8659 - auc: 0.9816 - val_loss: 1.0739 - val_accuracy: 0.7517 - val_auc: 0.9340\n",
      "Epoch 9/20\n",
      "63/63 [==============================] - 1s 10ms/step - loss: 0.3399 - accuracy: 0.8878 - auc: 0.9866 - val_loss: 0.6334 - val_accuracy: 0.7962 - val_auc: 0.9630\n",
      "Epoch 10/20\n",
      "63/63 [==============================] - 1s 10ms/step - loss: 0.3021 - accuracy: 0.8999 - auc: 0.9893 - val_loss: 2.0146 - val_accuracy: 0.7540 - val_auc: 0.9500\n",
      "Epoch 11/20\n",
      "63/63 [==============================] - 1s 10ms/step - loss: 0.2743 - accuracy: 0.9079 - auc: 0.9912 - val_loss: 0.5713 - val_accuracy: 0.8405 - val_auc: 0.9722\n",
      "Epoch 12/20\n",
      "63/63 [==============================] - 1s 9ms/step - loss: 0.2320 - accuracy: 0.9233 - auc: 0.9933 - val_loss: 0.8371 - val_accuracy: 0.8083 - val_auc: 0.9519\n",
      "Epoch 13/20\n",
      "63/63 [==============================] - 1s 10ms/step - loss: 0.2319 - accuracy: 0.9241 - auc: 0.9932 - val_loss: 0.7640 - val_accuracy: 0.7720 - val_auc: 0.9536\n",
      "Epoch 14/20\n",
      "63/63 [==============================] - 1s 10ms/step - loss: 0.2351 - accuracy: 0.9189 - auc: 0.9932 - val_loss: 0.5770 - val_accuracy: 0.8612 - val_auc: 0.9740\n",
      "Epoch 15/20\n",
      "63/63 [==============================] - 1s 9ms/step - loss: 0.1886 - accuracy: 0.9339 - auc: 0.9954 - val_loss: 0.9544 - val_accuracy: 0.7830 - val_auc: 0.9443\n",
      "Epoch 16/20\n",
      "63/63 [==============================] - 1s 10ms/step - loss: 0.2102 - accuracy: 0.9254 - auc: 0.9945 - val_loss: 0.6580 - val_accuracy: 0.8605 - val_auc: 0.9716\n",
      "Epoch 17/20\n",
      "63/63 [==============================] - 1s 10ms/step - loss: 0.1672 - accuracy: 0.9424 - auc: 0.9961 - val_loss: 0.5914 - val_accuracy: 0.8635 - val_auc: 0.9741\n",
      "Epoch 18/20\n",
      "63/63 [==============================] - 1s 10ms/step - loss: 0.1506 - accuracy: 0.9476 - auc: 0.9967 - val_loss: 0.5124 - val_accuracy: 0.8597 - val_auc: 0.9775\n",
      "Epoch 19/20\n",
      "63/63 [==============================] - 1s 10ms/step - loss: 0.1348 - accuracy: 0.9541 - auc: 0.9973 - val_loss: 0.5733 - val_accuracy: 0.8735 - val_auc: 0.9763\n",
      "Epoch 20/20\n",
      "63/63 [==============================] - 1s 10ms/step - loss: 0.1275 - accuracy: 0.9572 - auc: 0.9976 - val_loss: 0.6011 - val_accuracy: 0.8652 - val_auc: 0.9751\n"
     ]
    }
   ],
   "source": [
    "cnn = CNN(vocab_size)\n",
    "history = cnn.train(xtrain, xtest, ytrain, ytest)"
   ]
  },
  {
   "cell_type": "code",
   "execution_count": 14,
   "metadata": {},
   "outputs": [
    {
     "data": {
      "image/png": "[encoded data removed]",
      "text/plain": [
       "<Figure size 432x288 with 1 Axes>"
      ]
     },
     "metadata": {
      "needs_background": "light"
     },
     "output_type": "display_data"
    },
    {
     "data": {
      "text/plain": [
       "<Figure size 432x288 with 0 Axes>"
      ]
     },
     "metadata": {},
     "output_type": "display_data"
    }
   ],
   "source": [
    "import matplotlib.pyplot as plt\n",
    "def plot_outs(history, name):\n",
    "    plt.plot(history.history[name])\n",
    "    plt.plot(history.history['val_'+name])\n",
    "    plt.title('Training '+name)\n",
    "    plt.ylabel(name)\n",
    "    plt.xlabel('Epoch')\n",
    "    plt.legend(['Train', 'Validation'], loc='upper left')\n",
    "    plt.show()\n",
    "    plt.clf()\n",
    "\n",
    "plot_outs(history, 'accuracy')\n"
   ]
  },
  {
   "cell_type": "code",
   "execution_count": 15,
   "metadata": {},
   "outputs": [
    {
     "data": {
      "image/png": "[encoded data removed]",
      "text/plain": [
       "<Figure size 432x288 with 1 Axes>"
      ]
     },
     "metadata": {
      "needs_background": "light"
     },
     "output_type": "display_data"
    },
    {
     "data": {
      "text/plain": [
       "<Figure size 432x288 with 0 Axes>"
      ]
     },
     "metadata": {},
     "output_type": "display_data"
    }
   ],
   "source": [
    "plot_outs(history, 'auc')"
   ]
  },
  {
   "cell_type": "code",
   "execution_count": 16,
   "metadata": {},
   "outputs": [
    {
     "data": {
      "image/png": "[encoded data removed]",
      "text/plain": [
       "<Figure size 432x288 with 1 Axes>"
      ]
     },
     "metadata": {
      "needs_background": "light"
     },
     "output_type": "display_data"
    },
    {
     "data": {
      "text/plain": [
       "<Figure size 432x288 with 0 Axes>"
      ]
     },
     "metadata": {},
     "output_type": "display_data"
    }
   ],
   "source": [
    "plot_outs(history, 'loss')"
   ]
  },
  {
   "cell_type": "code",
   "execution_count": 17,
   "metadata": {},
   "outputs": [],
   "source": [
    "from tensorflow.keras.layers import LSTM, Bidirectional\n",
    "class RNN:\n",
    "    def __init__(self, vocab_size, batch_size=256, epochs=20, embedding_dim=100, seq_len=30):\n",
    "        self.embedding_dim = embedding_dim\n",
    "        self.batch_size = batch_size\n",
    "        self.epochs = epochs\n",
    "        self.seq_len = seq_len\n",
    "        self.early_stop = EarlyStopping(monitor='val_loss', mode='min', patience=5, verbose=0)\n",
    "        self.reduce_lr = ReduceLROnPlateau(monitor='val_loss', factor=0.1, min_lr=0.000001, verbose=0)\n",
    "        self.model = self.build_model(vocab_size)\n",
    "\n",
    "    def build_model(self, vocab_size):\n",
    "        inputs = Input(shape=(self.seq_len,), dtype=np.int32)\n",
    "        embedding = Embedding(input_dim=vocab_size, output_dim=self.embedding_dim, input_length=self.seq_len, trainable=True)\n",
    "        model = embedding(inputs)\n",
    "        model = Dropout(0.2)(model)\n",
    "\n",
    "        model = Bidirectional(LSTM(4, input_shape=(self.seq_len, 1), return_sequences=True))(model)\n",
    "        model = Dropout(0.2)(model)\n",
    "        model = Bidirectional(LSTM(4, return_sequences=True))(model)\n",
    "        model = Dropout(0.2)(model)\n",
    "        model = Bidirectional(LSTM(4, return_sequences=True))(model)\n",
    "        model = Dropout(0.2)(model)\n",
    "        model = Bidirectional(LSTM(4))(model)\n",
    "        outputs = Dense(6, activation='softmax')(model)\n",
    "        return tf.keras.Model(inputs, outputs)\n",
    "\n",
    "    def summary(self):\n",
    "        return self.model.summary()\n",
    "\n",
    "    def train(self, xtrain, xtest, ytrain, ytest):\n",
    "        opt = Adam(learning_rate=0.01)\n",
    "        self.model.compile(optimizer=opt, loss='categorical_crossentropy', metrics=['accuracy', 'AUC'])\n",
    "        history = self.model.fit(xtrain, ytrain, batch_size=self.batch_size, epochs=self.epochs, validation_data=(xtest, ytest), callbacks=[self.reduce_lr])\n",
    "        return history\n",
    "\n",
    "    def predict(self, data):\n",
    "        return self.model.predict(data)\n"
   ]
  },
  {
   "cell_type": "code",
   "execution_count": 18,
   "metadata": {},
   "outputs": [
    {
     "name": "stdout",
     "output_type": "stream",
     "text": [
      "Epoch 1/20\n",
      "63/63 [==============================] - 10s 45ms/step - loss: 1.4638 - accuracy: 0.4274 - auc: 0.7669 - val_loss: 1.1964 - val_accuracy: 0.5788 - val_auc: 0.8523\n",
      "Epoch 2/20\n",
      "63/63 [==============================] - 1s 24ms/step - loss: 0.8749 - accuracy: 0.6918 - auc: 0.9245 - val_loss: 0.6527 - val_accuracy: 0.7915 - val_auc: 0.9567\n",
      "Epoch 3/20\n",
      "63/63 [==============================] - 1s 24ms/step - loss: 0.4610 - accuracy: 0.8531 - auc: 0.9772 - val_loss: 0.4553 - val_accuracy: 0.8568 - val_auc: 0.9759\n",
      "Epoch 4/20\n",
      "63/63 [==============================] - 2s 24ms/step - loss: 0.2797 - accuracy: 0.9114 - auc: 0.9906 - val_loss: 0.3722 - val_accuracy: 0.8765 - val_auc: 0.9834\n",
      "Epoch 5/20\n",
      "63/63 [==============================] - 2s 24ms/step - loss: 0.2031 - accuracy: 0.9352 - auc: 0.9943 - val_loss: 0.3913 - val_accuracy: 0.8845 - val_auc: 0.9805\n",
      "Epoch 6/20\n",
      "63/63 [==============================] - 2s 25ms/step - loss: 0.1575 - accuracy: 0.9517 - auc: 0.9957 - val_loss: 0.3841 - val_accuracy: 0.8815 - val_auc: 0.9816\n",
      "Epoch 7/20\n",
      "63/63 [==============================] - 2s 25ms/step - loss: 0.1312 - accuracy: 0.9578 - auc: 0.9969 - val_loss: 0.4320 - val_accuracy: 0.8830 - val_auc: 0.9767\n",
      "Epoch 8/20\n",
      "63/63 [==============================] - 1s 23ms/step - loss: 0.1167 - accuracy: 0.9630 - auc: 0.9975 - val_loss: 0.3951 - val_accuracy: 0.8815 - val_auc: 0.9810\n",
      "Epoch 9/20\n",
      "63/63 [==============================] - 1s 24ms/step - loss: 0.1014 - accuracy: 0.9665 - auc: 0.9980 - val_loss: 0.4011 - val_accuracy: 0.8882 - val_auc: 0.9801\n",
      "Epoch 10/20\n",
      "63/63 [==============================] - 2s 24ms/step - loss: 0.0831 - accuracy: 0.9730 - auc: 0.9984 - val_loss: 0.4598 - val_accuracy: 0.8832 - val_auc: 0.9749\n",
      "Epoch 11/20\n",
      "63/63 [==============================] - 2s 25ms/step - loss: 0.0815 - accuracy: 0.9726 - auc: 0.9984 - val_loss: 0.4422 - val_accuracy: 0.8888 - val_auc: 0.9765\n",
      "Epoch 12/20\n",
      "63/63 [==============================] - 2s 24ms/step - loss: 0.0805 - accuracy: 0.9740 - auc: 0.9983 - val_loss: 0.4782 - val_accuracy: 0.8770 - val_auc: 0.9744\n",
      "Epoch 13/20\n",
      "63/63 [==============================] - 2s 24ms/step - loss: 0.0777 - accuracy: 0.9737 - auc: 0.9987 - val_loss: 0.4340 - val_accuracy: 0.8845 - val_auc: 0.9779\n",
      "Epoch 14/20\n",
      "63/63 [==============================] - 1s 23ms/step - loss: 0.0682 - accuracy: 0.9767 - auc: 0.9989 - val_loss: 0.4821 - val_accuracy: 0.8840 - val_auc: 0.9732\n",
      "Epoch 15/20\n",
      "63/63 [==============================] - 2s 24ms/step - loss: 0.0481 - accuracy: 0.9828 - auc: 0.9995 - val_loss: 0.4645 - val_accuracy: 0.8857 - val_auc: 0.9739\n",
      "Epoch 16/20\n",
      "63/63 [==============================] - 1s 24ms/step - loss: 0.0452 - accuracy: 0.9843 - auc: 0.9995 - val_loss: 0.4738 - val_accuracy: 0.8857 - val_auc: 0.9733\n",
      "Epoch 17/20\n",
      "63/63 [==============================] - 2s 24ms/step - loss: 0.0404 - accuracy: 0.9859 - auc: 0.9996 - val_loss: 0.4747 - val_accuracy: 0.8875 - val_auc: 0.9728\n",
      "Epoch 18/20\n",
      "63/63 [==============================] - 1s 24ms/step - loss: 0.0401 - accuracy: 0.9854 - auc: 0.9996 - val_loss: 0.4782 - val_accuracy: 0.8865 - val_auc: 0.9729\n",
      "Epoch 19/20\n",
      "63/63 [==============================] - 2s 24ms/step - loss: 0.0388 - accuracy: 0.9859 - auc: 0.9995 - val_loss: 0.4738 - val_accuracy: 0.8867 - val_auc: 0.9730\n",
      "Epoch 20/20\n",
      "63/63 [==============================] - 2s 24ms/step - loss: 0.0396 - accuracy: 0.9860 - auc: 0.9996 - val_loss: 0.4709 - val_accuracy: 0.8870 - val_auc: 0.9734\n"
     ]
    }
   ],
   "source": [
    "lstm = RNN(vocab_size)\n",
    "history_lstm = lstm.train(xtrain, xtest, ytrain, ytest)"
   ]
  },
  {
   "cell_type": "code",
   "execution_count": 19,
   "metadata": {},
   "outputs": [
    {
     "data": {
      "image/png": "[encoded data removed]",
      "text/plain": [
       "<Figure size 432x288 with 1 Axes>"
      ]
     },
     "metadata": {
      "needs_background": "light"
     },
     "output_type": "display_data"
    },
    {
     "data": {
      "text/plain": [
       "<Figure size 432x288 with 0 Axes>"
      ]
     },
     "metadata": {},
     "output_type": "display_data"
    }
   ],
   "source": [
    "plot_outs(history_lstm, 'accuracy')"
   ]
  },
  {
   "cell_type": "code",
   "execution_count": 20,
   "metadata": {},
   "outputs": [
    {
     "data": {
      "image/png": "[encoded data removed]",
      "text/plain": [
       "<Figure size 432x288 with 1 Axes>"
      ]
     },
     "metadata": {
      "needs_background": "light"
     },
     "output_type": "display_data"
    },
    {
     "data": {
      "text/plain": [
       "<Figure size 432x288 with 0 Axes>"
      ]
     },
     "metadata": {},
     "output_type": "display_data"
    }
   ],
   "source": [
    "plot_outs(history_lstm, 'auc')"
   ]
  },
  {
   "cell_type": "code",
   "execution_count": 21,
   "metadata": {},
   "outputs": [
    {
     "data": {
      "image/png": "[encoded data removed]",
      "text/plain": [
       "<Figure size 432x288 with 1 Axes>"
      ]
     },
     "metadata": {
      "needs_background": "light"
     },
     "output_type": "display_data"
    },
    {
     "data": {
      "text/plain": [
       "<Figure size 432x288 with 0 Axes>"
      ]
     },
     "metadata": {},
     "output_type": "display_data"
    }
   ],
   "source": [
    "plot_outs(history_lstm, 'loss')"
   ]
  },
  {
   "cell_type": "markdown",
   "metadata": {},
   "source": [
    "# Transformer"
   ]
  },
  {
   "cell_type": "code",
   "execution_count": 22,
   "metadata": {},
   "outputs": [],
   "source": [
    "from tensorflow.keras import layers\n",
    "from tensorflow import keras\n",
    "\n",
    "class Transformer(layers.Layer):\n",
    "    def __init__(self, embed_dim, num_heads, ff_dim, rate=0.1):\n",
    "        super(Transformer, self).__init__()\n",
    "        self.attention = layers.MultiHeadAttention(num_heads=num_heads, key_dim=embed_dim)\n",
    "        self.ffn = keras.Sequential([layers.Dense(ff_dim, activation='relu'), layers.Dense(embed_dim),])\n",
    "        self.layernorm1 = layers.LayerNormalization(epsilon=0.001)\n",
    "        self.layernorm2 = layers.LayerNormalization(epsilon=0.001)\n",
    "        self.dropout1 = layers.Dropout(rate)\n",
    "        self.dropout2 = layers.Dropout(rate)\n",
    "\n",
    "    def call(self, inputs, training):\n",
    "        x = self.attention(inputs, inputs)\n",
    "        x = self.dropout1(x, training=training)\n",
    "        out1 = self.layernorm1(inputs + x)\n",
    "        y = self.ffn(x)\n",
    "        y = self.dropout2(x, training=training)\n",
    "        return self.layernorm2(out1 + y)\n",
    "\n",
    "class Embed(layers.Layer):\n",
    "    def __init__(self, maxlen, vocab_size, embed_dim, glove_matrix=None):\n",
    "        super(Embed, self).__init__()\n",
    "        if glove_matrix is not None:\n",
    "            self.token_emb = layers.Embedding(input_dim=vocab_size, output_dim=embed_dim, weights=[glove_matrix], trainable=False)\n",
    "        else:\n",
    "            self.token_emb = layers.Embedding(input_dim=vocab_size, output_dim=embed_dim)\n",
    "        self.pos_emb = layers.Embedding(input_dim=maxlen, output_dim=embed_dim)\n",
    "\n",
    "    def call(self, x):\n",
    "        maxlen = tf.shape(x)[-1]\n",
    "        positions = tf.range(0, limit=maxlen, delta=1)\n",
    "        positions = self.pos_emb(positions)\n",
    "        x = self.token_emb(x)\n",
    "        return x + positions"
   ]
  },
  {
   "cell_type": "code",
   "execution_count": 23,
   "metadata": {},
   "outputs": [],
   "source": [
    "def build_transformer(maxlen=30, embed_dim=100, num_heads=4, ff_dim=128, vocab_size=vocab_size):\n",
    "    trans = Transformer(embed_dim, num_heads, ff_dim, rate=0.3)\n",
    "    embed = Embed(maxlen, vocab_size, embed_dim)\n",
    "    input = Input(shape=(maxlen,))\n",
    "    x = embed(input)\n",
    "    x = trans(x)\n",
    "    x = GlobalAveragePooling1D()(x)\n",
    "    x = Dropout(0.3)(x)\n",
    "    x = Dense(128, activation='relu')(x)\n",
    "    x = Dropout(0.5)(x)\n",
    "    x = Dense(64, activation='relu')(x)\n",
    "    output = Dense(6, activation='softmax')(x)\n",
    "    return keras.Model(input, output)"
   ]
  },
  {
   "cell_type": "code",
   "execution_count": 24,
   "metadata": {},
   "outputs": [
    {
     "name": "stdout",
     "output_type": "stream",
     "text": [
      "Epoch 1/20\n",
      "WARNING:tensorflow:Gradients do not exist for variables ['dense_4/kernel:0', 'dense_4/bias:0', 'dense_5/kernel:0', 'dense_5/bias:0'] when minimizing the loss.\n",
      "WARNING:tensorflow:Gradients do not exist for variables ['dense_4/kernel:0', 'dense_4/bias:0', 'dense_5/kernel:0', 'dense_5/bias:0'] when minimizing the loss.\n",
      "63/63 [==============================] - 2s 22ms/step - loss: 1.6290 - accuracy: 0.3105 - auc: 0.6964 - val_loss: 1.5801 - val_accuracy: 0.3338 - val_auc: 0.7148\n",
      "Epoch 2/20\n",
      "63/63 [==============================] - 1s 18ms/step - loss: 1.5876 - accuracy: 0.3313 - auc: 0.7104 - val_loss: 1.5742 - val_accuracy: 0.3338 - val_auc: 0.7166\n",
      "Epoch 3/20\n",
      "63/63 [==============================] - 1s 18ms/step - loss: 1.5152 - accuracy: 0.3739 - auc: 0.7444 - val_loss: 1.3412 - val_accuracy: 0.4885 - val_auc: 0.8114\n",
      "Epoch 4/20\n",
      "63/63 [==============================] - 1s 18ms/step - loss: 1.0605 - accuracy: 0.6139 - auc: 0.8864 - val_loss: 0.8956 - val_accuracy: 0.7003 - val_auc: 0.9223\n",
      "Epoch 5/20\n",
      "63/63 [==============================] - 1s 19ms/step - loss: 0.6579 - accuracy: 0.7782 - auc: 0.9554 - val_loss: 0.5927 - val_accuracy: 0.8065 - val_auc: 0.9652\n",
      "Epoch 6/20\n",
      "63/63 [==============================] - 1s 19ms/step - loss: 0.4483 - accuracy: 0.8543 - auc: 0.9779 - val_loss: 0.4715 - val_accuracy: 0.8465 - val_auc: 0.9762\n",
      "Epoch 7/20\n",
      "63/63 [==============================] - 1s 20ms/step - loss: 0.3505 - accuracy: 0.8920 - auc: 0.9850 - val_loss: 0.4674 - val_accuracy: 0.8635 - val_auc: 0.9756\n",
      "Epoch 8/20\n",
      "63/63 [==============================] - 1s 22ms/step - loss: 0.3099 - accuracy: 0.9042 - auc: 0.9873 - val_loss: 0.4196 - val_accuracy: 0.8705 - val_auc: 0.9792\n",
      "Epoch 9/20\n",
      "63/63 [==============================] - 2s 24ms/step - loss: 0.2804 - accuracy: 0.9084 - auc: 0.9897 - val_loss: 0.4082 - val_accuracy: 0.8758 - val_auc: 0.9804\n",
      "Epoch 10/20\n",
      "63/63 [==============================] - 2s 28ms/step - loss: 0.2573 - accuracy: 0.9165 - auc: 0.9912 - val_loss: 0.4310 - val_accuracy: 0.8733 - val_auc: 0.9791\n",
      "Epoch 11/20\n",
      "63/63 [==============================] - 2s 28ms/step - loss: 0.2254 - accuracy: 0.9250 - auc: 0.9931 - val_loss: 0.4594 - val_accuracy: 0.8615 - val_auc: 0.9771\n",
      "Epoch 12/20\n",
      "63/63 [==============================] - 2s 27ms/step - loss: 0.2300 - accuracy: 0.9244 - auc: 0.9925 - val_loss: 0.4617 - val_accuracy: 0.8727 - val_auc: 0.9756\n",
      "Epoch 13/20\n",
      "63/63 [==============================] - 2s 28ms/step - loss: 0.2168 - accuracy: 0.9302 - auc: 0.9935 - val_loss: 0.4376 - val_accuracy: 0.8788 - val_auc: 0.9792\n",
      "Epoch 14/20\n",
      "63/63 [==============================] - 2s 28ms/step - loss: 0.1942 - accuracy: 0.9382 - auc: 0.9943 - val_loss: 0.5159 - val_accuracy: 0.8562 - val_auc: 0.9735\n"
     ]
    }
   ],
   "source": [
    "transformer = build_transformer()\n",
    "opt = Adam(learning_rate=0.01)\n",
    "transformer.compile(optimizer=opt, loss='categorical_crossentropy', metrics=['accuracy', 'AUC'])\n",
    "reduce_lr = ReduceLROnPlateau(monitor='val_loss', factor=0.1, min_lr=0.000001, verbose=0)\n",
    "early_stopping = EarlyStopping(monitor='val_loss', mode='min', patience=5, verbose=0)\n",
    "history = transformer.fit(xtrain, ytrain, batch_size=256, epochs=20, validation_data=(xtest, ytest), callbacks=[early_stopping, reduce_lr])"
   ]
  },
  {
   "cell_type": "code",
   "execution_count": 25,
   "metadata": {},
   "outputs": [
    {
     "data": {
      "image/png": "[encoded data removed]",
      "text/plain": [
       "<Figure size 432x288 with 1 Axes>"
      ]
     },
     "metadata": {
      "needs_background": "light"
     },
     "output_type": "display_data"
    },
    {
     "data": {
      "text/plain": [
       "<Figure size 432x288 with 0 Axes>"
      ]
     },
     "metadata": {},
     "output_type": "display_data"
    }
   ],
   "source": [
    "plot_outs(history, 'accuracy')"
   ]
  },
  {
   "cell_type": "code",
   "execution_count": 26,
   "metadata": {},
   "outputs": [
    {
     "data": {
      "image/png": "[encoded data removed]",
      "text/plain": [
       "<Figure size 432x288 with 1 Axes>"
      ]
     },
     "metadata": {
      "needs_background": "light"
     },
     "output_type": "display_data"
    },
    {
     "data": {
      "text/plain": [
       "<Figure size 432x288 with 0 Axes>"
      ]
     },
     "metadata": {},
     "output_type": "display_data"
    }
   ],
   "source": [
    "plot_outs(history, 'auc')"
   ]
  },
  {
   "cell_type": "code",
   "execution_count": 27,
   "metadata": {},
   "outputs": [
    {
     "data": {
      "image/png": "[encoded data removed]",
      "text/plain": [
       "<Figure size 432x288 with 1 Axes>"
      ]
     },
     "metadata": {
      "needs_background": "light"
     },
     "output_type": "display_data"
    },
    {
     "data": {
      "text/plain": [
       "<Figure size 432x288 with 0 Axes>"
      ]
     },
     "metadata": {},
     "output_type": "display_data"
    }
   ],
   "source": [
    "plot_outs(history, 'loss')"
   ]
  },
  {
   "cell_type": "markdown",
   "metadata": {},
   "source": [
    "# Results\n",
    "CNN outperforms other two models. Transformer tends toward overfitting. Results might be different for others; I never seeded my runs."
   ]
  },
  {
   "cell_type": "code",
   "execution_count": 28,
   "metadata": {},
   "outputs": [
    {
     "data": {
      "text/plain": [
       "(4000, 6)"
      ]
     },
     "execution_count": 28,
     "metadata": {},
     "output_type": "execute_result"
    }
   ],
   "source": [
    "from sklearn.metrics import classification_report\n",
    "pred = cnn.predict(xtest)\n",
    "pred.shape"
   ]
  },
  {
   "cell_type": "code",
   "execution_count": 29,
   "metadata": {},
   "outputs": [
    {
     "data": {
      "text/plain": [
       "anger       2709\n",
       "fear        2373\n",
       "joy         6761\n",
       "love        1641\n",
       "sadness     5797\n",
       "surprise     719\n",
       "Name: label_raw, dtype: int64"
      ]
     },
     "execution_count": 29,
     "metadata": {},
     "output_type": "execute_result"
    }
   ],
   "source": [
    "final_df['label_raw'].value_counts().sort_index()"
   ]
  },
  {
   "cell_type": "code",
   "execution_count": 30,
   "metadata": {},
   "outputs": [],
   "source": [
    "cm = classification_report(np.argmax(ytest, axis=1), np.argmax(pred, axis=1), target_names=['anger', 'fear', 'joy', 'love', 'sadness', 'surprise'])"
   ]
  },
  {
   "cell_type": "code",
   "execution_count": 31,
   "metadata": {},
   "outputs": [
    {
     "name": "stdout",
     "output_type": "stream",
     "text": [
      "              precision    recall  f1-score   support\n",
      "\n",
      "       anger       0.84      0.83      0.83       540\n",
      "        fear       0.80      0.83      0.81       442\n",
      "         joy       0.94      0.88      0.91      1335\n",
      "        love       0.67      0.74      0.70       332\n",
      "     sadness       0.94      0.93      0.94      1195\n",
      "    surprise       0.58      0.78      0.66       156\n",
      "\n",
      "    accuracy                           0.87      4000\n",
      "   macro avg       0.79      0.83      0.81      4000\n",
      "weighted avg       0.87      0.87      0.87      4000\n",
      "\n"
     ]
    }
   ],
   "source": [
    "print(cm)"
   ]
  },
  {
   "cell_type": "markdown",
   "metadata": {},
   "source": [
    "## Song recommendation"
   ]
  },
  {
   "cell_type": "code",
   "execution_count": 32,
   "metadata": {},
   "outputs": [
    {
     "data": {
      "text/html": [
       "<div>\n",
       "<style scoped>\n",
       "    .dataframe tbody tr th:only-of-type {\n",
       "        vertical-align: middle;\n",
       "    }\n",
       "\n",
       "    .dataframe tbody tr th {\n",
       "        vertical-align: top;\n",
       "    }\n",
       "\n",
       "    .dataframe thead th {\n",
       "        text-align: right;\n",
       "    }\n",
       "</style>\n",
       "<table border=\"1\" class=\"dataframe\">\n",
       "  <thead>\n",
       "    <tr style=\"text-align: right;\">\n",
       "      <th></th>\n",
       "      <th>data</th>\n",
       "      <th>label</th>\n",
       "      <th>label_enc</th>\n",
       "    </tr>\n",
       "  </thead>\n",
       "  <tbody>\n",
       "    <tr>\n",
       "      <th>0</th>\n",
       "      <td>i didnt feel humiliated</td>\n",
       "      <td>sadness</td>\n",
       "      <td>4</td>\n",
       "    </tr>\n",
       "    <tr>\n",
       "      <th>1</th>\n",
       "      <td>i can go from feeling so hopeless to so damned...</td>\n",
       "      <td>sadness</td>\n",
       "      <td>4</td>\n",
       "    </tr>\n",
       "    <tr>\n",
       "      <th>2</th>\n",
       "      <td>im grabbing a minute to post i feel greedy wrong</td>\n",
       "      <td>anger</td>\n",
       "      <td>0</td>\n",
       "    </tr>\n",
       "    <tr>\n",
       "      <th>3</th>\n",
       "      <td>i am ever feeling nostalgic about the fireplac...</td>\n",
       "      <td>love</td>\n",
       "      <td>3</td>\n",
       "    </tr>\n",
       "    <tr>\n",
       "      <th>4</th>\n",
       "      <td>i am feeling grouchy</td>\n",
       "      <td>anger</td>\n",
       "      <td>0</td>\n",
       "    </tr>\n",
       "  </tbody>\n",
       "</table>\n",
       "</div>"
      ],
      "text/plain": [
       "                                                data    label  label_enc\n",
       "0                            i didnt feel humiliated  sadness          4\n",
       "1  i can go from feeling so hopeless to so damned...  sadness          4\n",
       "2   im grabbing a minute to post i feel greedy wrong    anger          0\n",
       "3  i am ever feeling nostalgic about the fireplac...     love          3\n",
       "4                               i am feeling grouchy    anger          0"
      ]
     },
     "execution_count": 32,
     "metadata": {},
     "output_type": "execute_result"
    }
   ],
   "source": [
    "comb_data.head()"
   ]
  },
  {
   "cell_type": "code",
   "execution_count": 33,
   "metadata": {},
   "outputs": [],
   "source": [
    "def process_data(df):\n",
    "    df_strat = df.groupby('label').apply(lambda x: x.sample(3)).droplevel(level=0)\n",
    "    # print(df_strat)\n",
    "    tokenized = tokenize_data(df_strat)\n",
    "    sw_removed = remove_stopwords(tokenized)\n",
    "    lemmatized = lemmatize(sw_removed)\n",
    "    final_data = []\n",
    "    # each l is a list of processed words\n",
    "    for l in lemmatized:\n",
    "        final_data.append(' '.join(l))\n",
    "    d = {'data': final_data, 'data_raw': df_strat['data'], 'label': df_strat['label_enc'], 'label_raw': df_strat['label']}\n",
    "    final_df = pd.DataFrame(data=d)\n",
    "    return final_df\n",
    "    "
   ]
  },
  {
   "cell_type": "code",
   "execution_count": 34,
   "metadata": {},
   "outputs": [
    {
     "data": {
      "text/html": [
       "<div>\n",
       "<style scoped>\n",
       "    .dataframe tbody tr th:only-of-type {\n",
       "        vertical-align: middle;\n",
       "    }\n",
       "\n",
       "    .dataframe tbody tr th {\n",
       "        vertical-align: top;\n",
       "    }\n",
       "\n",
       "    .dataframe thead th {\n",
       "        text-align: right;\n",
       "    }\n",
       "</style>\n",
       "<table border=\"1\" class=\"dataframe\">\n",
       "  <thead>\n",
       "    <tr style=\"text-align: right;\">\n",
       "      <th></th>\n",
       "      <th>data</th>\n",
       "      <th>data_raw</th>\n",
       "      <th>label</th>\n",
       "      <th>label_raw</th>\n",
       "    </tr>\n",
       "  </thead>\n",
       "  <tbody>\n",
       "    <tr>\n",
       "      <th>697</th>\n",
       "      <td>really feel wrong patient</td>\n",
       "      <td>i really feel i was wronged as a patient</td>\n",
       "      <td>0</td>\n",
       "      <td>anger</td>\n",
       "    </tr>\n",
       "    <tr>\n",
       "      <th>6618</th>\n",
       "      <td>im marketer couldnt bother investigate make fe...</td>\n",
       "      <td>im a marketer and i couldnt be bothered to inv...</td>\n",
       "      <td>0</td>\n",
       "      <td>anger</td>\n",
       "    </tr>\n",
       "    <tr>\n",
       "      <th>4594</th>\n",
       "      <td>feel like fuck massively able fight suicidal</td>\n",
       "      <td>i feel like i ve fucked up massively for not b...</td>\n",
       "      <td>0</td>\n",
       "      <td>anger</td>\n",
       "    </tr>\n",
       "    <tr>\n",
       "      <th>8982</th>\n",
       "      <td>decide one lesson enough practise fair say fee...</td>\n",
       "      <td>i decided that this one lesson i had had was e...</td>\n",
       "      <td>1</td>\n",
       "      <td>fear</td>\n",
       "    </tr>\n",
       "    <tr>\n",
       "      <th>1738</th>\n",
       "      <td>believe im love believe youre love believe lif...</td>\n",
       "      <td>i believe that im love i believe that youre lo...</td>\n",
       "      <td>1</td>\n",
       "      <td>fear</td>\n",
       "    </tr>\n",
       "    <tr>\n",
       "      <th>2042</th>\n",
       "      <td>feel strange effect</td>\n",
       "      <td>i did not feel its strange effects no more</td>\n",
       "      <td>1</td>\n",
       "      <td>fear</td>\n",
       "    </tr>\n",
       "    <tr>\n",
       "      <th>833</th>\n",
       "      <td>im feel quite festive</td>\n",
       "      <td>im feeling quite festive</td>\n",
       "      <td>2</td>\n",
       "      <td>joy</td>\n",
       "    </tr>\n",
       "    <tr>\n",
       "      <th>6234</th>\n",
       "      <td>feel like haiku pleasant note end</td>\n",
       "      <td>i feel like a haiku is a pleasant note to end on</td>\n",
       "      <td>2</td>\n",
       "      <td>joy</td>\n",
       "    </tr>\n",
       "    <tr>\n",
       "      <th>5144</th>\n",
       "      <td>didnt sleep quite well last night still feel q...</td>\n",
       "      <td>i didnt sleep quite as well last night but i s...</td>\n",
       "      <td>2</td>\n",
       "      <td>joy</td>\n",
       "    </tr>\n",
       "    <tr>\n",
       "      <th>3609</th>\n",
       "      <td>also feel one music school really supportive</td>\n",
       "      <td>i also feel that no one in the music school is...</td>\n",
       "      <td>3</td>\n",
       "      <td>love</td>\n",
       "    </tr>\n",
       "    <tr>\n",
       "      <th>13639</th>\n",
       "      <td>feel kind thing logan would admire hes last pe...</td>\n",
       "      <td>i have a feeling its the kind of thing logan w...</td>\n",
       "      <td>3</td>\n",
       "      <td>love</td>\n",
       "    </tr>\n",
       "    <tr>\n",
       "      <th>3376</th>\n",
       "      <td>feel like girls really start get love hear sin...</td>\n",
       "      <td>i feel like my girls are really starting to ge...</td>\n",
       "      <td>3</td>\n",
       "      <td>love</td>\n",
       "    </tr>\n",
       "    <tr>\n",
       "      <th>8139</th>\n",
       "      <td>know hasnt even hear say make feel unimportant</td>\n",
       "      <td>i know that he hasnt even heard what i was say...</td>\n",
       "      <td>4</td>\n",
       "      <td>sadness</td>\n",
       "    </tr>\n",
       "    <tr>\n",
       "      <th>407</th>\n",
       "      <td>ive try bare minerals make feel like face dirty</td>\n",
       "      <td>ive tried bare minerals but it makes me feel l...</td>\n",
       "      <td>4</td>\n",
       "      <td>sadness</td>\n",
       "    </tr>\n",
       "    <tr>\n",
       "      <th>13302</th>\n",
       "      <td>feel hopeless helpless paralyse</td>\n",
       "      <td>i feel hopeless helpless and paralysed</td>\n",
       "      <td>4</td>\n",
       "      <td>sadness</td>\n",
       "    </tr>\n",
       "    <tr>\n",
       "      <th>945</th>\n",
       "      <td>still sit back feel amaze whole thing</td>\n",
       "      <td>i still sit back and feel amazed by the whole ...</td>\n",
       "      <td>5</td>\n",
       "      <td>surprise</td>\n",
       "    </tr>\n",
       "    <tr>\n",
       "      <th>14697</th>\n",
       "      <td>feel like kid constantly impress upon awesome ...</td>\n",
       "      <td>i feel like when i was a kid it was constantly...</td>\n",
       "      <td>5</td>\n",
       "      <td>surprise</td>\n",
       "    </tr>\n",
       "    <tr>\n",
       "      <th>8159</th>\n",
       "      <td>catholic certainly feel place take side issue ...</td>\n",
       "      <td>i am not a catholic i certainly don t feel it ...</td>\n",
       "      <td>5</td>\n",
       "      <td>surprise</td>\n",
       "    </tr>\n",
       "  </tbody>\n",
       "</table>\n",
       "</div>"
      ],
      "text/plain": [
       "                                                    data  \\\n",
       "697                            really feel wrong patient   \n",
       "6618   im marketer couldnt bother investigate make fe...   \n",
       "4594        feel like fuck massively able fight suicidal   \n",
       "8982   decide one lesson enough practise fair say fee...   \n",
       "1738   believe im love believe youre love believe lif...   \n",
       "2042                                 feel strange effect   \n",
       "833                                im feel quite festive   \n",
       "6234                   feel like haiku pleasant note end   \n",
       "5144   didnt sleep quite well last night still feel q...   \n",
       "3609        also feel one music school really supportive   \n",
       "13639  feel kind thing logan would admire hes last pe...   \n",
       "3376   feel like girls really start get love hear sin...   \n",
       "8139      know hasnt even hear say make feel unimportant   \n",
       "407      ive try bare minerals make feel like face dirty   \n",
       "13302                    feel hopeless helpless paralyse   \n",
       "945                still sit back feel amaze whole thing   \n",
       "14697  feel like kid constantly impress upon awesome ...   \n",
       "8159   catholic certainly feel place take side issue ...   \n",
       "\n",
       "                                                data_raw  label label_raw  \n",
       "697             i really feel i was wronged as a patient      0     anger  \n",
       "6618   im a marketer and i couldnt be bothered to inv...      0     anger  \n",
       "4594   i feel like i ve fucked up massively for not b...      0     anger  \n",
       "8982   i decided that this one lesson i had had was e...      1      fear  \n",
       "1738   i believe that im love i believe that youre lo...      1      fear  \n",
       "2042          i did not feel its strange effects no more      1      fear  \n",
       "833                             im feeling quite festive      2       joy  \n",
       "6234    i feel like a haiku is a pleasant note to end on      2       joy  \n",
       "5144   i didnt sleep quite as well last night but i s...      2       joy  \n",
       "3609   i also feel that no one in the music school is...      3      love  \n",
       "13639  i have a feeling its the kind of thing logan w...      3      love  \n",
       "3376   i feel like my girls are really starting to ge...      3      love  \n",
       "8139   i know that he hasnt even heard what i was say...      4   sadness  \n",
       "407    ive tried bare minerals but it makes me feel l...      4   sadness  \n",
       "13302             i feel hopeless helpless and paralysed      4   sadness  \n",
       "945    i still sit back and feel amazed by the whole ...      5  surprise  \n",
       "14697  i feel like when i was a kid it was constantly...      5  surprise  \n",
       "8159   i am not a catholic i certainly don t feel it ...      5  surprise  "
      ]
     },
     "execution_count": 34,
     "metadata": {},
     "output_type": "execute_result"
    }
   ],
   "source": [
    "test_df = process_data(comb_data)\n",
    "test_df"
   ]
  },
  {
   "cell_type": "code",
   "execution_count": 107,
   "metadata": {},
   "outputs": [
    {
     "data": {
      "text/html": [
       "<div>\n",
       "<style scoped>\n",
       "    .dataframe tbody tr th:only-of-type {\n",
       "        vertical-align: middle;\n",
       "    }\n",
       "\n",
       "    .dataframe tbody tr th {\n",
       "        vertical-align: top;\n",
       "    }\n",
       "\n",
       "    .dataframe thead th {\n",
       "        text-align: right;\n",
       "    }\n",
       "</style>\n",
       "<table border=\"1\" class=\"dataframe\">\n",
       "  <thead>\n",
       "    <tr style=\"text-align: right;\">\n",
       "      <th></th>\n",
       "      <th>data</th>\n",
       "      <th>label</th>\n",
       "      <th>label_raw</th>\n",
       "    </tr>\n",
       "  </thead>\n",
       "  <tbody>\n",
       "    <tr>\n",
       "      <th>0</th>\n",
       "      <td>didnt feel humiliate</td>\n",
       "      <td>4</td>\n",
       "      <td>sadness</td>\n",
       "    </tr>\n",
       "    <tr>\n",
       "      <th>1</th>\n",
       "      <td>go feel hopeless damn hopeful around someone c...</td>\n",
       "      <td>4</td>\n",
       "      <td>sadness</td>\n",
       "    </tr>\n",
       "    <tr>\n",
       "      <th>2</th>\n",
       "      <td>im grab minute post feel greedy wrong</td>\n",
       "      <td>0</td>\n",
       "      <td>anger</td>\n",
       "    </tr>\n",
       "    <tr>\n",
       "      <th>3</th>\n",
       "      <td>ever feel nostalgic fireplace know still property</td>\n",
       "      <td>3</td>\n",
       "      <td>love</td>\n",
       "    </tr>\n",
       "    <tr>\n",
       "      <th>4</th>\n",
       "      <td>feel grouchy</td>\n",
       "      <td>0</td>\n",
       "      <td>anger</td>\n",
       "    </tr>\n",
       "  </tbody>\n",
       "</table>\n",
       "</div>"
      ],
      "text/plain": [
       "                                                data  label label_raw\n",
       "0                               didnt feel humiliate      4   sadness\n",
       "1  go feel hopeless damn hopeful around someone c...      4   sadness\n",
       "2              im grab minute post feel greedy wrong      0     anger\n",
       "3  ever feel nostalgic fireplace know still property      3      love\n",
       "4                                       feel grouchy      0     anger"
      ]
     },
     "execution_count": 107,
     "metadata": {},
     "output_type": "execute_result"
    }
   ],
   "source": [
    "final_df.head()"
   ]
  },
  {
   "cell_type": "code",
   "execution_count": 36,
   "metadata": {},
   "outputs": [],
   "source": [
    "tokenizer = Tokenizer()\n",
    "tokenizer.fit_on_texts(final_df['data'])\n",
    "test_data = pad_sequences(tokenizer.texts_to_sequences(test_df['data']), maxlen=30)"
   ]
  },
  {
   "cell_type": "code",
   "execution_count": 37,
   "metadata": {},
   "outputs": [],
   "source": [
    "probs = np.argmax(cnn.predict(test_data), axis=1)"
   ]
  },
  {
   "cell_type": "code",
   "execution_count": 38,
   "metadata": {},
   "outputs": [],
   "source": [
    "probs_trans = np.argmax(transformer(test_data), axis=1)"
   ]
  },
  {
   "cell_type": "code",
   "execution_count": 39,
   "metadata": {},
   "outputs": [
    {
     "name": "stdout",
     "output_type": "stream",
     "text": [
      "0.9444444444444444\n",
      "1.0\n"
     ]
    }
   ],
   "source": [
    "from sklearn.metrics import accuracy_score\n",
    "print(accuracy_score(list(test_df['label']), probs))\n",
    "print(accuracy_score(list(test_df['label']), probs_trans))"
   ]
  },
  {
   "cell_type": "markdown",
   "metadata": {},
   "source": [
    "1.0 = perfect accuracy\n",
    "## Song data"
   ]
  },
  {
   "cell_type": "code",
   "execution_count": 47,
   "metadata": {},
   "outputs": [
    {
     "name": "stderr",
     "output_type": "stream",
     "text": [
      "C:\\Users\\tg584\\AppData\\Local\\Programs\\Python\\Python37\\lib\\site-packages\\IPython\\core\\interactiveshell.py:3457: DtypeWarning: Columns (19) have mixed types.Specify dtype option on import or set low_memory=False.\n",
      "  exec(code_obj, self.user_global_ns, self.user_ns)\n"
     ]
    }
   ],
   "source": [
    "song_data = pd.read_csv('data/songs.csv', usecols=['song_name', 'genre', 'valence', 'energy', 'danceability', 'loudness'])"
   ]
  },
  {
   "cell_type": "code",
   "execution_count": 48,
   "metadata": {},
   "outputs": [
    {
     "name": "stdout",
     "output_type": "stream",
     "text": [
      "(42305, 6)\n"
     ]
    },
    {
     "data": {
      "text/html": [
       "<div>\n",
       "<style scoped>\n",
       "    .dataframe tbody tr th:only-of-type {\n",
       "        vertical-align: middle;\n",
       "    }\n",
       "\n",
       "    .dataframe tbody tr th {\n",
       "        vertical-align: top;\n",
       "    }\n",
       "\n",
       "    .dataframe thead th {\n",
       "        text-align: right;\n",
       "    }\n",
       "</style>\n",
       "<table border=\"1\" class=\"dataframe\">\n",
       "  <thead>\n",
       "    <tr style=\"text-align: right;\">\n",
       "      <th></th>\n",
       "      <th>danceability</th>\n",
       "      <th>energy</th>\n",
       "      <th>loudness</th>\n",
       "      <th>valence</th>\n",
       "      <th>genre</th>\n",
       "      <th>song_name</th>\n",
       "    </tr>\n",
       "  </thead>\n",
       "  <tbody>\n",
       "    <tr>\n",
       "      <th>0</th>\n",
       "      <td>0.831</td>\n",
       "      <td>0.814</td>\n",
       "      <td>-7.364</td>\n",
       "      <td>0.3890</td>\n",
       "      <td>Dark Trap</td>\n",
       "      <td>Mercury: Retrograde</td>\n",
       "    </tr>\n",
       "    <tr>\n",
       "      <th>1</th>\n",
       "      <td>0.719</td>\n",
       "      <td>0.493</td>\n",
       "      <td>-7.230</td>\n",
       "      <td>0.1240</td>\n",
       "      <td>Dark Trap</td>\n",
       "      <td>Pathology</td>\n",
       "    </tr>\n",
       "    <tr>\n",
       "      <th>2</th>\n",
       "      <td>0.850</td>\n",
       "      <td>0.893</td>\n",
       "      <td>-4.783</td>\n",
       "      <td>0.0391</td>\n",
       "      <td>Dark Trap</td>\n",
       "      <td>Symbiote</td>\n",
       "    </tr>\n",
       "    <tr>\n",
       "      <th>3</th>\n",
       "      <td>0.476</td>\n",
       "      <td>0.781</td>\n",
       "      <td>-4.710</td>\n",
       "      <td>0.1750</td>\n",
       "      <td>Dark Trap</td>\n",
       "      <td>ProductOfDrugs (Prod. The Virus and Antidote)</td>\n",
       "    </tr>\n",
       "    <tr>\n",
       "      <th>4</th>\n",
       "      <td>0.798</td>\n",
       "      <td>0.624</td>\n",
       "      <td>-7.668</td>\n",
       "      <td>0.5910</td>\n",
       "      <td>Dark Trap</td>\n",
       "      <td>Venom</td>\n",
       "    </tr>\n",
       "  </tbody>\n",
       "</table>\n",
       "</div>"
      ],
      "text/plain": [
       "   danceability  energy  loudness  valence      genre  \\\n",
       "0         0.831   0.814    -7.364   0.3890  Dark Trap   \n",
       "1         0.719   0.493    -7.230   0.1240  Dark Trap   \n",
       "2         0.850   0.893    -4.783   0.0391  Dark Trap   \n",
       "3         0.476   0.781    -4.710   0.1750  Dark Trap   \n",
       "4         0.798   0.624    -7.668   0.5910  Dark Trap   \n",
       "\n",
       "                                       song_name  \n",
       "0                            Mercury: Retrograde  \n",
       "1                                      Pathology  \n",
       "2                                       Symbiote  \n",
       "3  ProductOfDrugs (Prod. The Virus and Antidote)  \n",
       "4                                          Venom  "
      ]
     },
     "execution_count": 48,
     "metadata": {},
     "output_type": "execute_result"
    }
   ],
   "source": [
    "print(song_data.shape)\n",
    "song_data.head()"
   ]
  },
  {
   "cell_type": "code",
   "execution_count": 75,
   "metadata": {},
   "outputs": [],
   "source": [
    "song_data_clean = song_data.dropna()"
   ]
  },
  {
   "cell_type": "code",
   "execution_count": 76,
   "metadata": {},
   "outputs": [
    {
     "data": {
      "text/plain": [
       "Underground Rap    5875\n",
       "Dark Trap          4578\n",
       "Hiphop             3022\n",
       "RnB                2099\n",
       "Trap Metal         1956\n",
       "Rap                1848\n",
       "Emo                1680\n",
       "Pop                 461\n",
       "Name: genre, dtype: int64"
      ]
     },
     "execution_count": 76,
     "metadata": {},
     "output_type": "execute_result"
    }
   ],
   "source": [
    "song_data_clean['genre'].value_counts()"
   ]
  },
  {
   "cell_type": "code",
   "execution_count": 77,
   "metadata": {},
   "outputs": [
    {
     "data": {
      "text/plain": [
       "(0.000243, 0.999)"
      ]
     },
     "execution_count": 77,
     "metadata": {},
     "output_type": "execute_result"
    }
   ],
   "source": [
    "song_data_clean['energy'].min(), song_data_clean['energy'].max()"
   ]
  },
  {
   "cell_type": "code",
   "execution_count": 78,
   "metadata": {},
   "outputs": [
    {
     "name": "stderr",
     "output_type": "stream",
     "text": [
      "C:\\Users\\tg584\\AppData\\Local\\Programs\\Python\\Python37\\lib\\site-packages\\ipykernel_launcher.py:6: SettingWithCopyWarning: \n",
      "A value is trying to be set on a copy of a slice from a DataFrame.\n",
      "Try using .loc[row_indexer,col_indexer] = value instead\n",
      "\n",
      "See the caveats in the documentation: https://pandas.pydata.org/pandas-docs/stable/user_guide/indexing.html#returning-a-view-versus-a-copy\n",
      "  \n",
      "C:\\Users\\tg584\\AppData\\Local\\Programs\\Python\\Python37\\lib\\site-packages\\pandas\\core\\frame.py:3678: SettingWithCopyWarning: \n",
      "A value is trying to be set on a copy of a slice from a DataFrame.\n",
      "Try using .loc[row_indexer,col_indexer] = value instead\n",
      "\n",
      "See the caveats in the documentation: https://pandas.pydata.org/pandas-docs/stable/user_guide/indexing.html#returning-a-view-versus-a-copy\n",
      "  self[col] = igetitem(value, i)\n"
     ]
    }
   ],
   "source": [
    "from sklearn.cluster import KMeans\n",
    "from sklearn.preprocessing import MinMaxScaler\n",
    "le = LabelEncoder()\n",
    "sc = MinMaxScaler()\n",
    "cols = ['danceability', 'energy', 'loudness', 'valence']\n",
    "song_data_clean['genre_enc'] = le.fit_transform(song_data_clean['genre'])\n",
    "song_data_clean[cols] = sc.fit_transform(song_data_clean[cols])"
   ]
  },
  {
   "cell_type": "code",
   "execution_count": 79,
   "metadata": {},
   "outputs": [
    {
     "data": {
      "text/html": [
       "<div>\n",
       "<style scoped>\n",
       "    .dataframe tbody tr th:only-of-type {\n",
       "        vertical-align: middle;\n",
       "    }\n",
       "\n",
       "    .dataframe tbody tr th {\n",
       "        vertical-align: top;\n",
       "    }\n",
       "\n",
       "    .dataframe thead th {\n",
       "        text-align: right;\n",
       "    }\n",
       "</style>\n",
       "<table border=\"1\" class=\"dataframe\">\n",
       "  <thead>\n",
       "    <tr style=\"text-align: right;\">\n",
       "      <th></th>\n",
       "      <th>danceability</th>\n",
       "      <th>energy</th>\n",
       "      <th>loudness</th>\n",
       "      <th>valence</th>\n",
       "      <th>genre</th>\n",
       "      <th>song_name</th>\n",
       "      <th>genre_enc</th>\n",
       "    </tr>\n",
       "  </thead>\n",
       "  <tbody>\n",
       "    <tr>\n",
       "      <th>0</th>\n",
       "      <td>0.829884</td>\n",
       "      <td>0.814770</td>\n",
       "      <td>0.712039</td>\n",
       "      <td>0.383990</td>\n",
       "      <td>Dark Trap</td>\n",
       "      <td>Mercury: Retrograde</td>\n",
       "      <td>0</td>\n",
       "    </tr>\n",
       "    <tr>\n",
       "      <th>1</th>\n",
       "      <td>0.708527</td>\n",
       "      <td>0.493370</td>\n",
       "      <td>0.715710</td>\n",
       "      <td>0.107776</td>\n",
       "      <td>Dark Trap</td>\n",
       "      <td>Pathology</td>\n",
       "      <td>0</td>\n",
       "    </tr>\n",
       "    <tr>\n",
       "      <th>2</th>\n",
       "      <td>0.850471</td>\n",
       "      <td>0.893868</td>\n",
       "      <td>0.782742</td>\n",
       "      <td>0.019283</td>\n",
       "      <td>Dark Trap</td>\n",
       "      <td>Symbiote</td>\n",
       "      <td>0</td>\n",
       "    </tr>\n",
       "    <tr>\n",
       "      <th>3</th>\n",
       "      <td>0.445227</td>\n",
       "      <td>0.781729</td>\n",
       "      <td>0.784742</td>\n",
       "      <td>0.160934</td>\n",
       "      <td>Dark Trap</td>\n",
       "      <td>ProductOfDrugs (Prod. The Virus and Antidote)</td>\n",
       "      <td>0</td>\n",
       "    </tr>\n",
       "    <tr>\n",
       "      <th>4</th>\n",
       "      <td>0.794127</td>\n",
       "      <td>0.624533</td>\n",
       "      <td>0.703712</td>\n",
       "      <td>0.594538</td>\n",
       "      <td>Dark Trap</td>\n",
       "      <td>Venom</td>\n",
       "      <td>0</td>\n",
       "    </tr>\n",
       "  </tbody>\n",
       "</table>\n",
       "</div>"
      ],
      "text/plain": [
       "   danceability    energy  loudness   valence      genre  \\\n",
       "0      0.829884  0.814770  0.712039  0.383990  Dark Trap   \n",
       "1      0.708527  0.493370  0.715710  0.107776  Dark Trap   \n",
       "2      0.850471  0.893868  0.782742  0.019283  Dark Trap   \n",
       "3      0.445227  0.781729  0.784742  0.160934  Dark Trap   \n",
       "4      0.794127  0.624533  0.703712  0.594538  Dark Trap   \n",
       "\n",
       "                                       song_name  genre_enc  \n",
       "0                            Mercury: Retrograde          0  \n",
       "1                                      Pathology          0  \n",
       "2                                       Symbiote          0  \n",
       "3  ProductOfDrugs (Prod. The Virus and Antidote)          0  \n",
       "4                                          Venom          0  "
      ]
     },
     "execution_count": 79,
     "metadata": {},
     "output_type": "execute_result"
    }
   ],
   "source": [
    "song_data_clean.head()"
   ]
  },
  {
   "cell_type": "code",
   "execution_count": 81,
   "metadata": {},
   "outputs": [
    {
     "name": "stdout",
     "output_type": "stream",
     "text": [
      "For n_clusters=2, SSE is 1721.2149797742845, labels is [1 0 0 ... 1 1 1]\n",
      "For n_clusters=3, SSE is 1333.4552203085457, labels is [0 2 1 ... 0 0 0]\n",
      "For n_clusters=4, SSE is 1135.204008711396, labels is [3 0 2 ... 3 1 1]\n",
      "For n_clusters=5, SSE is 994.7427473191192, labels is [1 2 0 ... 1 3 3]\n",
      "For n_clusters=6, SSE is 884.8502115500665, labels is [2 2 2 ... 4 1 5]\n",
      "For n_clusters=7, SSE is 803.6416156515635, labels is [0 6 0 ... 5 3 0]\n",
      "For n_clusters=8, SSE is 748.7753988187096, labels is [2 0 7 ... 2 1 2]\n",
      "For n_clusters=9, SSE is 699.3833542206853, labels is [5 8 7 ... 5 3 5]\n"
     ]
    },
    {
     "data": {
      "image/png": "[encoded data removed]",
      "text/plain": [
       "<Figure size 432x288 with 1 Axes>"
      ]
     },
     "metadata": {
      "needs_background": "light"
     },
     "output_type": "display_data"
    }
   ],
   "source": [
    "sse = []\n",
    "for i in range(2, 10):\n",
    "    kc = KMeans(n_clusters=i, n_init=20)\n",
    "    kc = kc.fit(song_data_clean.drop(['song_name', 'genre', 'genre_enc'], axis=1))\n",
    "    sse.append(kc.inertia_)\n",
    "    print(f'For n_clusters={i}, SSE is {kc.inertia_}')\n",
    "plt.plot(range(2,10), sse, 'bx-')\n",
    "plt.xlabel('k')\n",
    "plt.ylabel('sum of squares distance')\n",
    "plt.title('Elbow Method For Optimal k')\n",
    "plt.show()"
   ]
  },
  {
   "cell_type": "code",
   "execution_count": 82,
   "metadata": {},
   "outputs": [
    {
     "name": "stderr",
     "output_type": "stream",
     "text": [
      "C:\\Users\\tg584\\AppData\\Local\\Programs\\Python\\Python37\\lib\\site-packages\\ipykernel_launcher.py:2: SettingWithCopyWarning: \n",
      "A value is trying to be set on a copy of a slice from a DataFrame.\n",
      "Try using .loc[row_indexer,col_indexer] = value instead\n",
      "\n",
      "See the caveats in the documentation: https://pandas.pydata.org/pandas-docs/stable/user_guide/indexing.html#returning-a-view-versus-a-copy\n",
      "  \n"
     ]
    }
   ],
   "source": [
    "kc = KMeans(n_clusters=6, n_init=20)\n",
    "song_data_clean['clusters'] = kc.fit_predict(song_data_clean.drop(['song_name', 'genre', 'genre_enc'], axis=1))"
   ]
  },
  {
   "cell_type": "code",
   "execution_count": 83,
   "metadata": {},
   "outputs": [
    {
     "data": {
      "text/html": [
       "<div>\n",
       "<style scoped>\n",
       "    .dataframe tbody tr th:only-of-type {\n",
       "        vertical-align: middle;\n",
       "    }\n",
       "\n",
       "    .dataframe tbody tr th {\n",
       "        vertical-align: top;\n",
       "    }\n",
       "\n",
       "    .dataframe thead th {\n",
       "        text-align: right;\n",
       "    }\n",
       "</style>\n",
       "<table border=\"1\" class=\"dataframe\">\n",
       "  <thead>\n",
       "    <tr style=\"text-align: right;\">\n",
       "      <th></th>\n",
       "      <th>danceability</th>\n",
       "      <th>energy</th>\n",
       "      <th>loudness</th>\n",
       "      <th>valence</th>\n",
       "      <th>genre</th>\n",
       "      <th>song_name</th>\n",
       "      <th>genre_enc</th>\n",
       "      <th>clusters</th>\n",
       "    </tr>\n",
       "  </thead>\n",
       "  <tbody>\n",
       "    <tr>\n",
       "      <th>0</th>\n",
       "      <td>0.829884</td>\n",
       "      <td>0.814770</td>\n",
       "      <td>0.712039</td>\n",
       "      <td>0.383990</td>\n",
       "      <td>Dark Trap</td>\n",
       "      <td>Mercury: Retrograde</td>\n",
       "      <td>0</td>\n",
       "      <td>3</td>\n",
       "    </tr>\n",
       "    <tr>\n",
       "      <th>1</th>\n",
       "      <td>0.708527</td>\n",
       "      <td>0.493370</td>\n",
       "      <td>0.715710</td>\n",
       "      <td>0.107776</td>\n",
       "      <td>Dark Trap</td>\n",
       "      <td>Pathology</td>\n",
       "      <td>0</td>\n",
       "      <td>3</td>\n",
       "    </tr>\n",
       "    <tr>\n",
       "      <th>2</th>\n",
       "      <td>0.850471</td>\n",
       "      <td>0.893868</td>\n",
       "      <td>0.782742</td>\n",
       "      <td>0.019283</td>\n",
       "      <td>Dark Trap</td>\n",
       "      <td>Symbiote</td>\n",
       "      <td>0</td>\n",
       "      <td>3</td>\n",
       "    </tr>\n",
       "    <tr>\n",
       "      <th>3</th>\n",
       "      <td>0.445227</td>\n",
       "      <td>0.781729</td>\n",
       "      <td>0.784742</td>\n",
       "      <td>0.160934</td>\n",
       "      <td>Dark Trap</td>\n",
       "      <td>ProductOfDrugs (Prod. The Virus and Antidote)</td>\n",
       "      <td>0</td>\n",
       "      <td>2</td>\n",
       "    </tr>\n",
       "    <tr>\n",
       "      <th>4</th>\n",
       "      <td>0.794127</td>\n",
       "      <td>0.624533</td>\n",
       "      <td>0.703712</td>\n",
       "      <td>0.594538</td>\n",
       "      <td>Dark Trap</td>\n",
       "      <td>Venom</td>\n",
       "      <td>0</td>\n",
       "      <td>1</td>\n",
       "    </tr>\n",
       "  </tbody>\n",
       "</table>\n",
       "</div>"
      ],
      "text/plain": [
       "   danceability    energy  loudness   valence      genre  \\\n",
       "0      0.829884  0.814770  0.712039  0.383990  Dark Trap   \n",
       "1      0.708527  0.493370  0.715710  0.107776  Dark Trap   \n",
       "2      0.850471  0.893868  0.782742  0.019283  Dark Trap   \n",
       "3      0.445227  0.781729  0.784742  0.160934  Dark Trap   \n",
       "4      0.794127  0.624533  0.703712  0.594538  Dark Trap   \n",
       "\n",
       "                                       song_name  genre_enc  clusters  \n",
       "0                            Mercury: Retrograde          0         3  \n",
       "1                                      Pathology          0         3  \n",
       "2                                       Symbiote          0         3  \n",
       "3  ProductOfDrugs (Prod. The Virus and Antidote)          0         2  \n",
       "4                                          Venom          0         1  "
      ]
     },
     "execution_count": 83,
     "metadata": {},
     "output_type": "execute_result"
    }
   ],
   "source": [
    "song_data_clean.head()"
   ]
  },
  {
   "cell_type": "code",
   "execution_count": 103,
   "metadata": {},
   "outputs": [
    {
     "name": "stdout",
     "output_type": "stream",
     "text": [
      "[(0, 'anger'), (1, 'fear'), (2, 'joy'), (3, 'love'), (4, 'sadness'), (5, 'surprise')]\n",
      "[[0.5594681  0.82319268 0.77347656 0.51478891]\n",
      " [0.77265109 0.54842141 0.68766532 0.54116447]\n",
      " [0.45668647 0.79343483 0.75692375 0.17302053]\n",
      " [0.77344225 0.60034201 0.71563595 0.24057601]\n",
      " [0.54175345 0.42271159 0.62557935 0.16837439]\n",
      " [0.76658413 0.7472778  0.75370333 0.77585153]]\n"
     ]
    }
   ],
   "source": [
    "print(list(zip(test_df.label.unique(), test_df.label_raw.unique())))\n",
    "centers = kc.cluster_centers_\n",
    "print(centers)\n",
    "# based on subjective feeling of how to map to emotions: in general, low valence -> less strong emotions\n",
    "emo2center = {(0, 'anger'): 0, (1, 'fear'): 2, (2, 'joy'): 5, (3, 'love'): 3, (4, 'sadness'): 4, (5, 'surprise'): 1}"
   ]
  },
  {
   "cell_type": "code",
   "execution_count": 89,
   "metadata": {},
   "outputs": [
    {
     "name": "stderr",
     "output_type": "stream",
     "text": [
      "C:\\Users\\tg584\\AppData\\Local\\Programs\\Python\\Python37\\lib\\site-packages\\ipykernel_launcher.py:11: SettingWithCopyWarning: \n",
      "A value is trying to be set on a copy of a slice from a DataFrame.\n",
      "Try using .loc[row_indexer,col_indexer] = value instead\n",
      "\n",
      "See the caveats in the documentation: https://pandas.pydata.org/pandas-docs/stable/user_guide/indexing.html#returning-a-view-versus-a-copy\n",
      "  # This is added back by InteractiveShellApp.init_path()\n"
     ]
    }
   ],
   "source": [
    "def process_song_data(df):\n",
    "    # print(df_strat)\n",
    "    df.rename(columns={'song_name': 'data'}, inplace=True)\n",
    "    tokenized = tokenize_data(df)\n",
    "    sw_removed = remove_stopwords(tokenized)\n",
    "    lemmatized = lemmatize(sw_removed)\n",
    "    final_data = []\n",
    "    # each l is a list of processed words\n",
    "    for l in lemmatized:\n",
    "        final_data.append(' '.join(l))\n",
    "    df['clean_name'] = final_data\n",
    "    return df\n",
    "clean_song_data = process_song_data(song_data_clean)"
   ]
  },
  {
   "cell_type": "code",
   "execution_count": 95,
   "metadata": {},
   "outputs": [
    {
     "data": {
      "text/html": [
       "<div>\n",
       "<style scoped>\n",
       "    .dataframe tbody tr th:only-of-type {\n",
       "        vertical-align: middle;\n",
       "    }\n",
       "\n",
       "    .dataframe tbody tr th {\n",
       "        vertical-align: top;\n",
       "    }\n",
       "\n",
       "    .dataframe thead th {\n",
       "        text-align: right;\n",
       "    }\n",
       "</style>\n",
       "<table border=\"1\" class=\"dataframe\">\n",
       "  <thead>\n",
       "    <tr style=\"text-align: right;\">\n",
       "      <th></th>\n",
       "      <th>danceability</th>\n",
       "      <th>energy</th>\n",
       "      <th>loudness</th>\n",
       "      <th>valence</th>\n",
       "      <th>genre</th>\n",
       "      <th>data</th>\n",
       "      <th>genre_enc</th>\n",
       "      <th>clusters</th>\n",
       "      <th>clean_name</th>\n",
       "    </tr>\n",
       "  </thead>\n",
       "  <tbody>\n",
       "    <tr>\n",
       "      <th>0</th>\n",
       "      <td>0.829884</td>\n",
       "      <td>0.814770</td>\n",
       "      <td>0.712039</td>\n",
       "      <td>0.383990</td>\n",
       "      <td>Dark Trap</td>\n",
       "      <td>Mercury: Retrograde</td>\n",
       "      <td>0</td>\n",
       "      <td>3</td>\n",
       "      <td>mercury retrograde</td>\n",
       "    </tr>\n",
       "    <tr>\n",
       "      <th>1</th>\n",
       "      <td>0.708527</td>\n",
       "      <td>0.493370</td>\n",
       "      <td>0.715710</td>\n",
       "      <td>0.107776</td>\n",
       "      <td>Dark Trap</td>\n",
       "      <td>Pathology</td>\n",
       "      <td>0</td>\n",
       "      <td>3</td>\n",
       "      <td>pathology</td>\n",
       "    </tr>\n",
       "    <tr>\n",
       "      <th>2</th>\n",
       "      <td>0.850471</td>\n",
       "      <td>0.893868</td>\n",
       "      <td>0.782742</td>\n",
       "      <td>0.019283</td>\n",
       "      <td>Dark Trap</td>\n",
       "      <td>Symbiote</td>\n",
       "      <td>0</td>\n",
       "      <td>3</td>\n",
       "      <td>symbiote</td>\n",
       "    </tr>\n",
       "    <tr>\n",
       "      <th>3</th>\n",
       "      <td>0.445227</td>\n",
       "      <td>0.781729</td>\n",
       "      <td>0.784742</td>\n",
       "      <td>0.160934</td>\n",
       "      <td>Dark Trap</td>\n",
       "      <td>ProductOfDrugs (Prod. The Virus and Antidote)</td>\n",
       "      <td>0</td>\n",
       "      <td>2</td>\n",
       "      <td>productofdrugs prod virus antidote</td>\n",
       "    </tr>\n",
       "    <tr>\n",
       "      <th>4</th>\n",
       "      <td>0.794127</td>\n",
       "      <td>0.624533</td>\n",
       "      <td>0.703712</td>\n",
       "      <td>0.594538</td>\n",
       "      <td>Dark Trap</td>\n",
       "      <td>Venom</td>\n",
       "      <td>0</td>\n",
       "      <td>1</td>\n",
       "      <td>venom</td>\n",
       "    </tr>\n",
       "  </tbody>\n",
       "</table>\n",
       "</div>"
      ],
      "text/plain": [
       "   danceability    energy  loudness   valence      genre  \\\n",
       "0      0.829884  0.814770  0.712039  0.383990  Dark Trap   \n",
       "1      0.708527  0.493370  0.715710  0.107776  Dark Trap   \n",
       "2      0.850471  0.893868  0.782742  0.019283  Dark Trap   \n",
       "3      0.445227  0.781729  0.784742  0.160934  Dark Trap   \n",
       "4      0.794127  0.624533  0.703712  0.594538  Dark Trap   \n",
       "\n",
       "                                            data  genre_enc  clusters  \\\n",
       "0                            Mercury: Retrograde          0         3   \n",
       "1                                      Pathology          0         3   \n",
       "2                                       Symbiote          0         3   \n",
       "3  ProductOfDrugs (Prod. The Virus and Antidote)          0         2   \n",
       "4                                          Venom          0         1   \n",
       "\n",
       "                           clean_name  \n",
       "0                  mercury retrograde  \n",
       "1                           pathology  \n",
       "2                            symbiote  \n",
       "3  productofdrugs prod virus antidote  \n",
       "4                               venom  "
      ]
     },
     "execution_count": 95,
     "metadata": {},
     "output_type": "execute_result"
    }
   ],
   "source": [
    "clean_song_data.head()"
   ]
  },
  {
   "cell_type": "code",
   "execution_count": 104,
   "metadata": {},
   "outputs": [],
   "source": [
    "df_anger = clean_song_data[clean_song_data['clusters'] == 0]\n",
    "df_fear = clean_song_data[clean_song_data['clusters'] == 2]\n",
    "df_joy = clean_song_data[clean_song_data['clusters'] == 5]\n",
    "df_love = clean_song_data[clean_song_data['clusters'] == 3]\n",
    "df_sadness = clean_song_data[clean_song_data['clusters'] == 4]\n",
    "df_surprise = clean_song_data[clean_song_data['clusters'] == 1]"
   ]
  },
  {
   "cell_type": "code",
   "execution_count": 96,
   "metadata": {},
   "outputs": [],
   "source": [
    "from sklearn.metrics.pairwise import cosine_similarity\n",
    "from sklearn.feature_extraction.text import TfidfVectorizer"
   ]
  },
  {
   "cell_type": "code",
   "execution_count": 111,
   "metadata": {},
   "outputs": [],
   "source": [
    "list_clustered_dfs = [df_anger, df_fear, df_joy, df_love, df_sadness, df_surprise]"
   ]
  },
  {
   "cell_type": "code",
   "execution_count": 106,
   "metadata": {},
   "outputs": [
    {
     "data": {
      "text/plain": [
       "dict_keys([(0, 'anger'), (1, 'fear'), (2, 'joy'), (3, 'love'), (4, 'sadness'), (5, 'surprise')])"
      ]
     },
     "execution_count": 106,
     "metadata": {},
     "output_type": "execute_result"
    }
   ],
   "source": [
    "emo2center.keys()"
   ]
  },
  {
   "cell_type": "code",
   "execution_count": 112,
   "metadata": {},
   "outputs": [
    {
     "name": "stdout",
     "output_type": "stream",
     "text": [
      "Raw input string: i really feel i was wronged as a patient\n",
      "Predicted sentiment: anger, /////// Actual sentiment: anger\n",
      "-----Song recommendations-----\n",
      "Name: Gnarly (feat. Lil Pump), Genre: Underground Rap\n",
      "Name: Swang, Genre: Hiphop\n",
      "Name: All I Wear Is Black, Genre: Emo\n",
      "---------------------------------------------\n",
      "Raw input string: im a marketer and i couldnt be bothered to investigate further which makes me feel that consumers probably cant be bothered either\n",
      "Predicted sentiment: anger, /////// Actual sentiment: anger\n",
      "-----Song recommendations-----\n",
      "Name: M.I.N.D, Genre: Dark Trap\n",
      "Name: Oops (I'm Sorry), Genre: Underground Rap\n",
      "Name: Suga Suga, Genre: RnB\n",
      "---------------------------------------------\n",
      "Raw input string: i feel like i ve fucked up massively for not being able to fight off being suicidal\n",
      "Predicted sentiment: anger, /////// Actual sentiment: anger\n",
      "-----Song recommendations-----\n",
      "Name: Picasso, Genre: Underground Rap\n",
      "Name: Rubble Kingz, Genre: Dark Trap\n",
      "Name: Warm Me Up, Genre: Emo\n",
      "---------------------------------------------\n",
      "Raw input string: i decided that this one lesson i had had was enough practise for me so its fair to say i was feeling slightly apprehensive walking over to the nursery slopes\n",
      "Predicted sentiment: fear, /////// Actual sentiment: fear\n",
      "-----Song recommendations-----\n",
      "Name: Welcome Home, Genre: Emo\n",
      "Name: $Weatin', Genre: Underground Rap\n",
      "Name: N.G.I.S., Genre: Trap Metal\n",
      "---------------------------------------------\n",
      "Raw input string: i believe that im love i believe that youre love i believe that all life experiences and emotions are inspired by and exist as love even experiences and emotions which feel fearful\n",
      "Predicted sentiment: fear, /////// Actual sentiment: fear\n",
      "-----Song recommendations-----\n",
      "Name: Skin Me Alive, Genre: Trap Metal\n",
      "Name: Mystery, Genre: Dark Trap\n",
      "Name: Life is Beautiful, Genre: Hiphop\n",
      "---------------------------------------------\n",
      "Raw input string: i did not feel its strange effects no more\n",
      "Predicted sentiment: fear, /////// Actual sentiment: fear\n",
      "-----Song recommendations-----\n",
      "Name: Fuck It Up - Instrumental, Genre: Dark Trap\n",
      "Name: Picture Me Rollin', Genre: Rap\n",
      "Name: Coming Home, Genre: RnB\n",
      "---------------------------------------------\n",
      "Raw input string: im feeling quite festive\n",
      "Predicted sentiment: joy, /////// Actual sentiment: joy\n",
      "-----Song recommendations-----\n",
      "Name: Toxic, Genre: Pop\n",
      "Name: Extortion (feat. Method Man), Genre: Hiphop\n",
      "Name: Don't Front, Genre: Hiphop\n",
      "---------------------------------------------\n",
      "Raw input string: i feel like a haiku is a pleasant note to end on\n",
      "Predicted sentiment: joy, /////// Actual sentiment: joy\n",
      "-----Song recommendations-----\n",
      "Name: A Milli, Genre: Underground Rap\n",
      "Name: Applause, Genre: Pop\n",
      "Name: Young Black Intelligent, Genre: Hiphop\n",
      "---------------------------------------------\n",
      "Raw input string: i didnt sleep quite as well last night but i still feel quite energetic this morning\n",
      "Predicted sentiment: joy, /////// Actual sentiment: joy\n",
      "-----Song recommendations-----\n",
      "Name: Bad Habits, Genre: Underground Rap\n",
      "Name: Viernes 13, Genre: Trap Metal\n",
      "Name: Count Me Out, Genre: Rap\n",
      "---------------------------------------------\n",
      "Raw input string: i also feel that no one in the music school is really being very supportive of me on this\n",
      "Predicted sentiment: love, /////// Actual sentiment: love\n",
      "-----Song recommendations-----\n",
      "Name: OSOM (feat. J. Cole), Genre: Underground Rap\n",
      "Name: Daddy Issues, Genre: Underground Rap\n",
      "Name: O' Lord! I Have My Doubts, Genre: Dark Trap\n",
      "---------------------------------------------\n",
      "Raw input string: i have a feeling its the kind of thing logan would have admired and hes the last person on earth would have ever betrayed that trust\n",
      "Predicted sentiment: love, /////// Actual sentiment: love\n",
      "-----Song recommendations-----\n",
      "Name: 2FIDDY!, Genre: Dark Trap\n",
      "Name: Seppuku (feat. Suicideboy$ & Jgrxxn), Genre: Underground Rap\n",
      "Name: All Girls Are The Same, Genre: RnB\n",
      "---------------------------------------------\n",
      "Raw input string: i feel like my girls are really starting to get it and i am loving hearing them sing the christmas songs about jesus\n",
      "Predicted sentiment: love, /////// Actual sentiment: love\n",
      "-----Song recommendations-----\n",
      "Name: Now a Days, Genre: Underground Rap\n",
      "Name: TOXIC, Genre: Underground Rap\n",
      "Name: WhoGoesThere, Genre: Underground Rap\n",
      "---------------------------------------------\n",
      "Raw input string: i know that he hasnt even heard what i was saying so it makes me feel unimportant to him\n",
      "Predicted sentiment: sadness, /////// Actual sentiment: sadness\n",
      "-----Song recommendations-----\n",
      "Name: Wya? (feat. Ugly God) - Remix, Genre: Hiphop\n",
      "Name: Dark Light, Genre: Hiphop\n",
      "Name: come around, Genre: Underground Rap\n",
      "---------------------------------------------\n",
      "Raw input string: ive tried bare minerals but it makes me feel like my face is dirty\n",
      "Predicted sentiment: sadness, /////// Actual sentiment: sadness\n",
      "-----Song recommendations-----\n",
      "Name: Home, Genre: RnB\n",
      "Name: driveway, Genre: Underground Rap\n",
      "Name: A Girl Named Drool And A Pack of Kools, Genre: Underground Rap\n",
      "---------------------------------------------\n",
      "Raw input string: i feel hopeless helpless and paralysed\n",
      "Predicted sentiment: sadness, /////// Actual sentiment: sadness\n",
      "-----Song recommendations-----\n",
      "Name: Who Dat Boy (feat. A$AP Rocky), Genre: Underground Rap\n",
      "Name: Leather Vest, Genre: Dark Trap\n",
      "Name: Uglier, Genre: Underground Rap\n",
      "---------------------------------------------\n",
      "Raw input string: i still sit back and feel amazed by the whole thing\n",
      "Predicted sentiment: surprise, /////// Actual sentiment: surprise\n",
      "-----Song recommendations-----\n",
      "Name: It Ain't Hard to Tell - Remix, Genre: Hiphop\n",
      "Name: Baby Boy (feat. Sean Paul), Genre: RnB\n",
      "Name: 1400 / 999 Freestyle, Genre: Trap Metal\n",
      "---------------------------------------------\n",
      "Raw input string: i feel like when i was a kid it was constantly impressed upon me how awesome ants are\n",
      "Predicted sentiment: surprise, /////// Actual sentiment: surprise\n",
      "-----Song recommendations-----\n",
      "Name: Trials & Tribulations, Genre: Underground Rap\n",
      "Name: Ronda (Winners), Genre: Underground Rap\n",
      "Name: Moody, Genre: Underground Rap\n",
      "---------------------------------------------\n",
      "Raw input string: i am not a catholic i certainly don t feel it is my place to take sides on this issue but i am curious how the leadership of the catholic church will mesh with its own people over these issues in the coming years\n",
      "Predicted sentiment: surprise, /////// Actual sentiment: surprise\n",
      "-----Song recommendations-----\n",
      "Name: Smooth, Genre: Underground Rap\n",
      "Name: Can I Watch? (feat. Apani B as Nikki), Genre: Hiphop\n",
      "Name: 4th Dimension, Genre: Rap\n",
      "---------------------------------------------\n"
     ]
    }
   ],
   "source": [
    "for ind, prob in enumerate(probs_trans):\n",
    "    print(f\"Raw input string: {test_df.iloc[ind]['data_raw']}\")\n",
    "    print(f'Predicted sentiment: {list(emo2center.keys())[prob][1]}, /////// Actual sentiment: {test_df.iloc[ind][\"label_raw\"]}')\n",
    "    chosen_df = list_clustered_dfs[prob]\n",
    "    print('-----Song recommendations-----')\n",
    "    chosen_df = chosen_df.sample(n=3)\n",
    "    for i, row in chosen_df.iterrows():\n",
    "        print(f'Name: {row[\"data\"]}, Genre: {row[\"genre\"]}')\n",
    "    print(\"---\" * 30)"
   ]
  },
  {
   "cell_type": "code",
   "execution_count": 116,
   "metadata": {},
   "outputs": [
    {
     "name": "stdout",
     "output_type": "stream",
     "text": [
      "Raw input string: i really feel i was wronged as a patient\n",
      "Predicted sentiment: anger, /////// Actual sentiment: anger\n",
      "-----Song recommendations-----\n",
      "                                           data            genre\n",
      "6468   Nightmare Choir (I Been Asleep Too Long)  Underground Rap\n",
      "10648  Nightmare Choir (I Been Asleep Too Long)       Trap Metal\n",
      "11807                                 Nightmare       Trap Metal\n",
      "------------------------------------------------------------------------------------------\n",
      "Raw input string: im a marketer and i couldnt be bothered to investigate further which makes me feel that consumers probably cant be bothered either\n",
      "Predicted sentiment: anger, /////// Actual sentiment: anger\n",
      "-----Song recommendations-----\n",
      "                    data            genre\n",
      "2261   Champion of Death        Dark Trap\n",
      "5055   Champion Of Death  Underground Rap\n",
      "10671  Champion Of Death       Trap Metal\n",
      "------------------------------------------------------------------------------------------\n",
      "Raw input string: i feel like i ve fucked up massively for not being able to fight off being suicidal\n",
      "Predicted sentiment: anger, /////// Actual sentiment: anger\n",
      "-----Song recommendations-----\n",
      "                        data            genre\n",
      "143    Slip on a Banana Clip        Dark Trap\n",
      "4958   Slip On A Banana Clip  Underground Rap\n",
      "10747  Slip On A Banana Clip       Trap Metal\n",
      "------------------------------------------------------------------------------------------\n",
      "Raw input string: i decided that this one lesson i had had was enough practise for me so its fair to say i was feeling slightly apprehensive walking over to the nursery slopes\n",
      "Predicted sentiment: fear, /////// Actual sentiment: fear\n",
      "-----Song recommendations-----\n",
      "               data      genre\n",
      "4022       Bang Out  Dark Trap\n",
      "1861      fucked up  Dark Trap\n",
      "4072  What the Fuck  Dark Trap\n",
      "------------------------------------------------------------------------------------------\n",
      "Raw input string: i believe that im love i believe that youre love i believe that all life experiences and emotions are inspired by and exist as love even experiences and emotions which feel fearful\n",
      "Predicted sentiment: fear, /////// Actual sentiment: fear\n",
      "-----Song recommendations-----\n",
      "         data            genre\n",
      "3816   Killer        Dark Trap\n",
      "8940   KILLER  Underground Rap\n",
      "11853  KILLER       Trap Metal\n",
      "------------------------------------------------------------------------------------------\n",
      "Raw input string: i did not feel its strange effects no more\n",
      "Predicted sentiment: fear, /////// Actual sentiment: fear\n",
      "-----Song recommendations-----\n",
      "                                                data       genre\n",
      "12055                                            608  Trap Metal\n",
      "3      ProductOfDrugs (Prod. The Virus and Antidote)   Dark Trap\n",
      "11                            Troll Under the Bridge   Dark Trap\n",
      "------------------------------------------------------------------------------------------\n",
      "Raw input string: im feeling quite festive\n",
      "Predicted sentiment: joy, /////// Actual sentiment: joy\n",
      "-----Song recommendations-----\n",
      "      data            genre\n",
      "2305  Dirt        Dark Trap\n",
      "4625  Dirt  Underground Rap\n",
      "5438  Dirt  Underground Rap\n",
      "------------------------------------------------------------------------------------------\n",
      "Raw input string: i feel like a haiku is a pleasant note to end on\n",
      "Predicted sentiment: joy, /////// Actual sentiment: joy\n",
      "-----Song recommendations-----\n",
      "                 data       genre\n",
      "10738           Slurp  Trap Metal\n",
      "21     High 'N Mighty   Dark Trap\n",
      "28         BLUE JUICE   Dark Trap\n",
      "------------------------------------------------------------------------------------------\n",
      "Raw input string: i didnt sleep quite as well last night but i still feel quite energetic this morning\n",
      "Predicted sentiment: joy, /////// Actual sentiment: joy\n",
      "-----Song recommendations-----\n",
      "              data      genre\n",
      "21  High 'N Mighty  Dark Trap\n",
      "28      BLUE JUICE  Dark Trap\n",
      "48         Paralax  Dark Trap\n",
      "------------------------------------------------------------------------------------------\n",
      "Raw input string: i also feel that no one in the music school is really being very supportive of me on this\n",
      "Predicted sentiment: love, /////// Actual sentiment: love\n",
      "-----Song recommendations-----\n",
      "              data            genre\n",
      "4609   1000 Rounds  Underground Rap\n",
      "10654  1000 Rounds       Trap Metal\n",
      "227           1000        Dark Trap\n",
      "------------------------------------------------------------------------------------------\n",
      "Raw input string: i have a feeling its the kind of thing logan would have admired and hes the last person on earth would have ever betrayed that trust\n",
      "Predicted sentiment: love, /////// Actual sentiment: love\n",
      "-----Song recommendations-----\n",
      "                                                    data      genre\n",
      "18667  Sacrifices (with EARTHGANG & J. Cole feat. Smi...     Hiphop\n",
      "0                                    Mercury: Retrograde  Dark Trap\n",
      "1                                              Pathology  Dark Trap\n",
      "------------------------------------------------------------------------------------------\n",
      "Raw input string: i feel like my girls are really starting to get it and i am loving hearing them sing the christmas songs about jesus\n",
      "Predicted sentiment: love, /////// Actual sentiment: love\n",
      "-----Song recommendations-----\n",
      "                  data      genre\n",
      "0  Mercury: Retrograde  Dark Trap\n",
      "1            Pathology  Dark Trap\n",
      "2             Symbiote  Dark Trap\n",
      "------------------------------------------------------------------------------------------\n",
      "Raw input string: i know that he hasnt even heard what i was saying so it makes me feel unimportant to him\n",
      "Predicted sentiment: sadness, /////// Actual sentiment: sadness\n",
      "-----Song recommendations-----\n",
      "                            data            genre\n",
      "4709                        HDMI  Underground Rap\n",
      "11395                       HDMI       Trap Metal\n",
      "16     Okay,ButThisIsTheLastTime        Dark Trap\n",
      "------------------------------------------------------------------------------------------\n",
      "Raw input string: ive tried bare minerals but it makes me feel like my face is dirty\n",
      "Predicted sentiment: sadness, /////// Actual sentiment: sadness\n",
      "-----Song recommendations-----\n",
      "         data            genre\n",
      "4649   Oxygen  Underground Rap\n",
      "10643  Oxygen       Trap Metal\n",
      "11397  Oxygen       Trap Metal\n",
      "------------------------------------------------------------------------------------------\n",
      "Raw input string: i feel hopeless helpless and paralysed\n",
      "Predicted sentiment: sadness, /////// Actual sentiment: sadness\n",
      "-----Song recommendations-----\n",
      "           data            genre\n",
      "4754   Branches  Underground Rap\n",
      "5863   Branches  Underground Rap\n",
      "11452  Branches       Trap Metal\n",
      "------------------------------------------------------------------------------------------\n",
      "Raw input string: i still sit back and feel amazed by the whole thing\n",
      "Predicted sentiment: surprise, /////// Actual sentiment: surprise\n",
      "-----Song recommendations-----\n",
      "                      data            genre\n",
      "6811  Philosopher's Throne  Underground Rap\n",
      "4                    Venom        Dark Trap\n",
      "15                 D(R)Own        Dark Trap\n",
      "------------------------------------------------------------------------------------------\n",
      "Raw input string: i feel like when i was a kid it was constantly impressed upon me how awesome ants are\n",
      "Predicted sentiment: surprise, /////// Actual sentiment: surprise\n",
      "-----Song recommendations-----\n",
      "           data      genre\n",
      "15      D(R)Own  Dark Trap\n",
      "31     Bone Saw  Dark Trap\n",
      "32  Coffin Wave  Dark Trap\n",
      "------------------------------------------------------------------------------------------\n",
      "Raw input string: i am not a catholic i certainly don t feel it is my place to take sides on this issue but i am curious how the leadership of the catholic church will mesh with its own people over these issues in the coming years\n",
      "Predicted sentiment: surprise, /////// Actual sentiment: surprise\n",
      "-----Song recommendations-----\n",
      "        data      genre\n",
      "4      Venom  Dark Trap\n",
      "15   D(R)Own  Dark Trap\n",
      "31  Bone Saw  Dark Trap\n",
      "------------------------------------------------------------------------------------------\n"
     ]
    }
   ],
   "source": [
    "for ind, prob in enumerate(probs_trans):\n",
    "    print(f\"Raw input string: {test_df.iloc[ind]['data_raw']}\")\n",
    "    print(f'Predicted sentiment: {list(emo2center.keys())[prob][1]}, /////// Actual sentiment: {test_df.iloc[ind][\"label_raw\"]}')\n",
    "    chosen_df = list_clustered_dfs[prob]\n",
    "    all_text = chosen_df.append({'clean_name': test_df.iloc[ind]['data_raw']}, ignore_index=True)\n",
    "    tfidf = TfidfVectorizer(stop_words='english')\n",
    "    tf_mat = tfidf.fit_transform(chosen_df['clean_name'])\n",
    "    cos_sim = cosine_similarity(tf_mat, tf_mat)\n",
    "    simi = list(enumerate(cos_sim[ind]))\n",
    "    simi = sorted(simi, key=lambda x: x[1], reverse=True)\n",
    "    best = simi[1:4]\n",
    "    inds = [x[0] for x in best]\n",
    "    print('-----Song recommendations-----')\n",
    "    print(chosen_df.iloc[inds][['data', 'genre']])\n",
    "    print(\"---\" * 30)"
   ]
  },
  {
   "cell_type": "code",
   "execution_count": null,
   "metadata": {},
   "outputs": [],
   "source": []
  }
 ],
 "metadata": {
  "interpreter": {
   "hash": "cc5422b12685f2e26a219cc1c3684d3fd12358109a1007c8dc1ebf1fad93bcb8"
  },
  "kernelspec": {
   "display_name": "Python 3.7.9 64-bit",
   "language": "python",
   "name": "python3"
  },
  "language_info": {
   "codemirror_mode": {
    "name": "ipython",
    "version": 3
   },
   "file_extension": ".py",
   "mimetype": "text/x-python",
   "name": "python",
   "nbconvert_exporter": "python",
   "pygments_lexer": "ipython3",
   "version": "3.7.9"
  },
  "orig_nbformat": 4
 },
 "nbformat": 4,
 "nbformat_minor": 2
}
